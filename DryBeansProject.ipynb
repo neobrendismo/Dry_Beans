{
 "cells": [
  {
   "cell_type": "markdown",
   "metadata": {
    "id": "Dt4rQxmVKRjw"
   },
   "source": [
    "#**PRÉ-PROCESSAMENTO**"
   ]
  },
  {
   "cell_type": "code",
   "execution_count": 17,
   "metadata": {
    "id": "BvlY7O6LIm5Y"
   },
   "outputs": [],
   "source": [
    "# Pré processamento de dados Atividade 04: PARTE 01 - PROCESSO DE INTEGRAÇÃO DOS DADOS - DECLARAR VARIAVEIS E IMPORTAR...\n",
    "import numpy as np\n",
    "import pandas as pd\n",
    "import seaborn as sns\n",
    "import matplotlib.pyplot as plt\n",
    "\n",
    "from sklearn.model_selection import train_test_split\n",
    "from sklearn import preprocessing\n",
    "from sklearn.utils import resample"
   ]
  },
  {
   "cell_type": "code",
   "execution_count": 18,
   "metadata": {
    "id": "S8gtCx4Pweh8"
   },
   "outputs": [],
   "source": [
    "df= pd.read_excel(\"Dry_Bean_Dataset.xlsx\")"
   ]
  },
  {
   "cell_type": "markdown",
   "metadata": {
    "id": "mJJoXb8niSDf"
   },
   "source": [
    "###**INICIO DO PROCESSO DE ENTRADA DOS DADOS:** ***INTEGRAÇÃO*** - Leitura total de linhas e colunas"
   ]
  },
  {
   "cell_type": "code",
   "execution_count": 19,
   "metadata": {
    "colab": {
     "base_uri": "https://localhost:8080/",
     "height": 165
    },
    "executionInfo": {
     "elapsed": 308,
     "status": "error",
     "timestamp": 1648672085994,
     "user": {
      "displayName": "FABIANA SILVA DE OLIVEIRA",
      "userId": "12187732007460211533"
     },
     "user_tz": 180
    },
    "id": "YxdZ0rRsstOQ",
    "outputId": "476012d3-e891-439e-e8cd-7eaed9d8ab64"
   },
   "outputs": [
    {
     "data": {
      "text/plain": [
       "(13611, 17)"
      ]
     },
     "execution_count": 19,
     "metadata": {},
     "output_type": "execute_result"
    }
   ],
   "source": [
    "df.shape"
   ]
  },
  {
   "cell_type": "markdown",
   "metadata": {
    "id": "GdbfOGWpid4L"
   },
   "source": [
    "A variavel (df) criada vai trazer o banco com a forma em quantitativo estabelido de linha visualizadas (10)"
   ]
  },
  {
   "cell_type": "code",
   "execution_count": 20,
   "metadata": {
    "colab": {
     "base_uri": "https://localhost:8080/",
     "height": 165
    },
    "executionInfo": {
     "elapsed": 316,
     "status": "error",
     "timestamp": 1648672081612,
     "user": {
      "displayName": "FABIANA SILVA DE OLIVEIRA",
      "userId": "12187732007460211533"
     },
     "user_tz": 180
    },
    "id": "PfrjBmEptM3x",
    "outputId": "91e527f7-fb7d-41cf-995d-2b20122aa9d8"
   },
   "outputs": [
    {
     "data": {
      "text/html": [
       "<div>\n",
       "<style scoped>\n",
       "    .dataframe tbody tr th:only-of-type {\n",
       "        vertical-align: middle;\n",
       "    }\n",
       "\n",
       "    .dataframe tbody tr th {\n",
       "        vertical-align: top;\n",
       "    }\n",
       "\n",
       "    .dataframe thead th {\n",
       "        text-align: right;\n",
       "    }\n",
       "</style>\n",
       "<table border=\"1\" class=\"dataframe\">\n",
       "  <thead>\n",
       "    <tr style=\"text-align: right;\">\n",
       "      <th></th>\n",
       "      <th>Area</th>\n",
       "      <th>Perimeter</th>\n",
       "      <th>MajorAxisLength</th>\n",
       "      <th>MinorAxisLength</th>\n",
       "      <th>AspectRation</th>\n",
       "      <th>Eccentricity</th>\n",
       "      <th>ConvexArea</th>\n",
       "      <th>EquivDiameter</th>\n",
       "      <th>Extent</th>\n",
       "      <th>Solidity</th>\n",
       "      <th>roundness</th>\n",
       "      <th>Compactness</th>\n",
       "      <th>ShapeFactor1</th>\n",
       "      <th>ShapeFactor2</th>\n",
       "      <th>ShapeFactor3</th>\n",
       "      <th>ShapeFactor4</th>\n",
       "      <th>Class</th>\n",
       "    </tr>\n",
       "  </thead>\n",
       "  <tbody>\n",
       "    <tr>\n",
       "      <th>0</th>\n",
       "      <td>254616</td>\n",
       "      <td>1985.370</td>\n",
       "      <td>738.860153</td>\n",
       "      <td>447.418329</td>\n",
       "      <td>1.651386</td>\n",
       "      <td>0.795806</td>\n",
       "      <td>263261</td>\n",
       "      <td>569.374358</td>\n",
       "      <td>0.783747</td>\n",
       "      <td>0.967162</td>\n",
       "      <td>0.811732</td>\n",
       "      <td>0.770612</td>\n",
       "      <td>0.002902</td>\n",
       "      <td>0.000631</td>\n",
       "      <td>0.593843</td>\n",
       "      <td>0.980663</td>\n",
       "      <td>BOMBAY</td>\n",
       "    </tr>\n",
       "    <tr>\n",
       "      <th>1</th>\n",
       "      <td>237270</td>\n",
       "      <td>1921.685</td>\n",
       "      <td>738.144502</td>\n",
       "      <td>412.921647</td>\n",
       "      <td>1.787614</td>\n",
       "      <td>0.828895</td>\n",
       "      <td>240671</td>\n",
       "      <td>549.637650</td>\n",
       "      <td>0.784115</td>\n",
       "      <td>0.985869</td>\n",
       "      <td>0.807399</td>\n",
       "      <td>0.744621</td>\n",
       "      <td>0.003111</td>\n",
       "      <td>0.000590</td>\n",
       "      <td>0.554460</td>\n",
       "      <td>0.991160</td>\n",
       "      <td>BOMBAY</td>\n",
       "    </tr>\n",
       "    <tr>\n",
       "      <th>2</th>\n",
       "      <td>251432</td>\n",
       "      <td>1919.868</td>\n",
       "      <td>719.125690</td>\n",
       "      <td>450.926187</td>\n",
       "      <td>1.594775</td>\n",
       "      <td>0.778981</td>\n",
       "      <td>257425</td>\n",
       "      <td>565.803115</td>\n",
       "      <td>0.766776</td>\n",
       "      <td>0.976719</td>\n",
       "      <td>0.857211</td>\n",
       "      <td>0.786793</td>\n",
       "      <td>0.002860</td>\n",
       "      <td>0.000676</td>\n",
       "      <td>0.619043</td>\n",
       "      <td>0.987235</td>\n",
       "      <td>BOMBAY</td>\n",
       "    </tr>\n",
       "    <tr>\n",
       "      <th>3</th>\n",
       "      <td>241322</td>\n",
       "      <td>1895.940</td>\n",
       "      <td>726.373493</td>\n",
       "      <td>427.370120</td>\n",
       "      <td>1.699636</td>\n",
       "      <td>0.808598</td>\n",
       "      <td>244319</td>\n",
       "      <td>554.311026</td>\n",
       "      <td>0.820823</td>\n",
       "      <td>0.987733</td>\n",
       "      <td>0.843641</td>\n",
       "      <td>0.763121</td>\n",
       "      <td>0.003010</td>\n",
       "      <td>0.000630</td>\n",
       "      <td>0.582354</td>\n",
       "      <td>0.989790</td>\n",
       "      <td>BOMBAY</td>\n",
       "    </tr>\n",
       "    <tr>\n",
       "      <th>4</th>\n",
       "      <td>248424</td>\n",
       "      <td>1884.557</td>\n",
       "      <td>715.053040</td>\n",
       "      <td>446.043618</td>\n",
       "      <td>1.603101</td>\n",
       "      <td>0.781591</td>\n",
       "      <td>251082</td>\n",
       "      <td>562.408446</td>\n",
       "      <td>0.807536</td>\n",
       "      <td>0.989414</td>\n",
       "      <td>0.878992</td>\n",
       "      <td>0.786527</td>\n",
       "      <td>0.002878</td>\n",
       "      <td>0.000679</td>\n",
       "      <td>0.618625</td>\n",
       "      <td>0.991718</td>\n",
       "      <td>BOMBAY</td>\n",
       "    </tr>\n",
       "    <tr>\n",
       "      <th>5</th>\n",
       "      <td>234898</td>\n",
       "      <td>1869.885</td>\n",
       "      <td>695.137630</td>\n",
       "      <td>432.589420</td>\n",
       "      <td>1.606922</td>\n",
       "      <td>0.782773</td>\n",
       "      <td>238265</td>\n",
       "      <td>546.883372</td>\n",
       "      <td>0.799468</td>\n",
       "      <td>0.985869</td>\n",
       "      <td>0.844227</td>\n",
       "      <td>0.786727</td>\n",
       "      <td>0.002959</td>\n",
       "      <td>0.000699</td>\n",
       "      <td>0.618939</td>\n",
       "      <td>0.994587</td>\n",
       "      <td>BOMBAY</td>\n",
       "    </tr>\n",
       "    <tr>\n",
       "      <th>6</th>\n",
       "      <td>213022</td>\n",
       "      <td>1849.699</td>\n",
       "      <td>721.216098</td>\n",
       "      <td>384.377969</td>\n",
       "      <td>1.876320</td>\n",
       "      <td>0.846142</td>\n",
       "      <td>218065</td>\n",
       "      <td>520.795578</td>\n",
       "      <td>0.737514</td>\n",
       "      <td>0.976874</td>\n",
       "      <td>0.782406</td>\n",
       "      <td>0.722108</td>\n",
       "      <td>0.003386</td>\n",
       "      <td>0.000568</td>\n",
       "      <td>0.521439</td>\n",
       "      <td>0.978387</td>\n",
       "      <td>BOMBAY</td>\n",
       "    </tr>\n",
       "    <tr>\n",
       "      <th>7</th>\n",
       "      <td>233751</td>\n",
       "      <td>1849.371</td>\n",
       "      <td>706.993076</td>\n",
       "      <td>423.527988</td>\n",
       "      <td>1.669295</td>\n",
       "      <td>0.800708</td>\n",
       "      <td>237344</td>\n",
       "      <td>545.546530</td>\n",
       "      <td>0.819205</td>\n",
       "      <td>0.984862</td>\n",
       "      <td>0.858846</td>\n",
       "      <td>0.771643</td>\n",
       "      <td>0.003025</td>\n",
       "      <td>0.000661</td>\n",
       "      <td>0.595434</td>\n",
       "      <td>0.993954</td>\n",
       "      <td>BOMBAY</td>\n",
       "    </tr>\n",
       "    <tr>\n",
       "      <th>8</th>\n",
       "      <td>222737</td>\n",
       "      <td>1847.940</td>\n",
       "      <td>722.494068</td>\n",
       "      <td>396.696971</td>\n",
       "      <td>1.821274</td>\n",
       "      <td>0.835779</td>\n",
       "      <td>225516</td>\n",
       "      <td>532.538784</td>\n",
       "      <td>0.836552</td>\n",
       "      <td>0.987677</td>\n",
       "      <td>0.819646</td>\n",
       "      <td>0.737084</td>\n",
       "      <td>0.003244</td>\n",
       "      <td>0.000591</td>\n",
       "      <td>0.543293</td>\n",
       "      <td>0.989485</td>\n",
       "      <td>BOMBAY</td>\n",
       "    </tr>\n",
       "    <tr>\n",
       "      <th>9</th>\n",
       "      <td>218983</td>\n",
       "      <td>1845.855</td>\n",
       "      <td>713.967282</td>\n",
       "      <td>394.053816</td>\n",
       "      <td>1.811852</td>\n",
       "      <td>0.833896</td>\n",
       "      <td>222086</td>\n",
       "      <td>528.032021</td>\n",
       "      <td>0.745626</td>\n",
       "      <td>0.986028</td>\n",
       "      <td>0.807654</td>\n",
       "      <td>0.739575</td>\n",
       "      <td>0.003260</td>\n",
       "      <td>0.000602</td>\n",
       "      <td>0.546970</td>\n",
       "      <td>0.991030</td>\n",
       "      <td>BOMBAY</td>\n",
       "    </tr>\n",
       "  </tbody>\n",
       "</table>\n",
       "</div>"
      ],
      "text/plain": [
       "     Area  Perimeter  MajorAxisLength  MinorAxisLength  AspectRation  \\\n",
       "0  254616   1985.370       738.860153       447.418329      1.651386   \n",
       "1  237270   1921.685       738.144502       412.921647      1.787614   \n",
       "2  251432   1919.868       719.125690       450.926187      1.594775   \n",
       "3  241322   1895.940       726.373493       427.370120      1.699636   \n",
       "4  248424   1884.557       715.053040       446.043618      1.603101   \n",
       "5  234898   1869.885       695.137630       432.589420      1.606922   \n",
       "6  213022   1849.699       721.216098       384.377969      1.876320   \n",
       "7  233751   1849.371       706.993076       423.527988      1.669295   \n",
       "8  222737   1847.940       722.494068       396.696971      1.821274   \n",
       "9  218983   1845.855       713.967282       394.053816      1.811852   \n",
       "\n",
       "   Eccentricity  ConvexArea  EquivDiameter    Extent  Solidity  roundness  \\\n",
       "0      0.795806      263261     569.374358  0.783747  0.967162   0.811732   \n",
       "1      0.828895      240671     549.637650  0.784115  0.985869   0.807399   \n",
       "2      0.778981      257425     565.803115  0.766776  0.976719   0.857211   \n",
       "3      0.808598      244319     554.311026  0.820823  0.987733   0.843641   \n",
       "4      0.781591      251082     562.408446  0.807536  0.989414   0.878992   \n",
       "5      0.782773      238265     546.883372  0.799468  0.985869   0.844227   \n",
       "6      0.846142      218065     520.795578  0.737514  0.976874   0.782406   \n",
       "7      0.800708      237344     545.546530  0.819205  0.984862   0.858846   \n",
       "8      0.835779      225516     532.538784  0.836552  0.987677   0.819646   \n",
       "9      0.833896      222086     528.032021  0.745626  0.986028   0.807654   \n",
       "\n",
       "   Compactness  ShapeFactor1  ShapeFactor2  ShapeFactor3  ShapeFactor4   Class  \n",
       "0     0.770612      0.002902      0.000631      0.593843      0.980663  BOMBAY  \n",
       "1     0.744621      0.003111      0.000590      0.554460      0.991160  BOMBAY  \n",
       "2     0.786793      0.002860      0.000676      0.619043      0.987235  BOMBAY  \n",
       "3     0.763121      0.003010      0.000630      0.582354      0.989790  BOMBAY  \n",
       "4     0.786527      0.002878      0.000679      0.618625      0.991718  BOMBAY  \n",
       "5     0.786727      0.002959      0.000699      0.618939      0.994587  BOMBAY  \n",
       "6     0.722108      0.003386      0.000568      0.521439      0.978387  BOMBAY  \n",
       "7     0.771643      0.003025      0.000661      0.595434      0.993954  BOMBAY  \n",
       "8     0.737084      0.003244      0.000591      0.543293      0.989485  BOMBAY  \n",
       "9     0.739575      0.003260      0.000602      0.546970      0.991030  BOMBAY  "
      ]
     },
     "execution_count": 20,
     "metadata": {},
     "output_type": "execute_result"
    }
   ],
   "source": [
    "df.head(10)"
   ]
  },
  {
   "cell_type": "code",
   "execution_count": null,
   "metadata": {
    "colab": {
     "base_uri": "https://localhost:8080/",
     "height": 189
    },
    "executionInfo": {
     "elapsed": 282,
     "status": "error",
     "timestamp": 1648601095784,
     "user": {
      "displayName": "FABIANA SILVA DE OLIVEIRA",
      "userId": "12187732007460211533"
     },
     "user_tz": 180
    },
    "id": "vNtsp-9lPkD9",
    "outputId": "377e0ff7-963b-43e1-f0ae-bf61cdece259"
   },
   "outputs": [],
   "source": []
  },
  {
   "cell_type": "code",
   "execution_count": 21,
   "metadata": {
    "colab": {
     "base_uri": "https://localhost:8080/",
     "height": 165
    },
    "executionInfo": {
     "elapsed": 303,
     "status": "error",
     "timestamp": 1648672101345,
     "user": {
      "displayName": "FABIANA SILVA DE OLIVEIRA",
      "userId": "12187732007460211533"
     },
     "user_tz": 180
    },
    "id": "dfAgUBoItO9G",
    "outputId": "50f95a32-79eb-4f1a-bbe7-579456e18b33"
   },
   "outputs": [
    {
     "data": {
      "text/plain": [
       "Area    Perimeter  MajorAxisLength  MinorAxisLength  AspectRation  Eccentricity  ConvexArea  EquivDiameter  Extent    Solidity  roundness  Compactness  ShapeFactor1  ShapeFactor2  ShapeFactor3  ShapeFactor4  Class   \n",
       "42156   815.245    335.198243       160.936938       2.082792      0.877200      42586       231.677980     0.834046  0.989903  0.797064   0.691167     0.007951      0.001119      0.477712      0.994975      HOROZ       2\n",
       "54187   919.972    372.954622       186.450123       2.000292      0.866067      54828       262.665246     0.759241  0.988309  0.804555   0.704282     0.006883      0.001045      0.496013      0.992171      HOROZ       2\n",
       "49730   879.912    365.825690       173.569194       2.107665      0.880278      50263       251.631084     0.789365  0.989396  0.807142   0.687844     0.007356      0.001016      0.473130      0.997199      HOROZ       2\n",
       "53978   924.848    366.147740       189.438667       1.932804      0.855754      54949       262.158204     0.627272  0.982329  0.793023   0.715990     0.006783      0.001100      0.512642      0.990836      HOROZ       2\n",
       "56889   951.582    384.236934       190.177318       2.020414      0.868923      57644       269.134399     0.613504  0.986902  0.789488   0.700439     0.006754      0.001003      0.490614      0.991244      HOROZ       2\n",
       "                                                                                                                                                                                                                           ..\n",
       "38957   737.829    277.596886       179.114326       1.549831      0.763987      39326       222.714151     0.699659  0.990617  0.899257   0.802293     0.007126      0.001821      0.643675      0.997587      DERMASON    1\n",
       "38959   718.457    258.542132       192.142648       1.345574      0.669095      39336       222.719868     0.772996  0.990416  0.948454   0.861445     0.006636      0.002254      0.742088      0.998534      SEKER       1\n",
       "38967   733.899    269.352402       185.246453       1.454022      0.725950      39465       222.742734     0.716147  0.987381  0.909147   0.826957     0.006912      0.001994      0.683857      0.994343      DERMASON    1\n",
       "38969   717.524    255.145509       195.082417       1.307886      0.644514      39368       222.748450     0.746962  0.989865  0.951166   0.873025     0.006547      0.002346      0.762173      0.996835      DERMASON    1\n",
       "254616  1985.370   738.860153       447.418329       1.651386      0.795806      263261      569.374358     0.783747  0.967162  0.811732   0.770612     0.002902      0.000631      0.593843      0.980663      BOMBAY      1\n",
       "Length: 13543, dtype: int64"
      ]
     },
     "execution_count": 21,
     "metadata": {},
     "output_type": "execute_result"
    }
   ],
   "source": [
    "df.value_counts()"
   ]
  },
  {
   "cell_type": "markdown",
   "metadata": {
    "id": "Nh-7Fi_y6GCp"
   },
   "source": [
    "###**FASE DE PRÉ-PROCESSAMENTO DOS DADOS:** ***REDUÇÃO*** - Remoção das linhas em duplicidade (remoção de redundância)"
   ]
  },
  {
   "cell_type": "code",
   "execution_count": 22,
   "metadata": {
    "colab": {
     "base_uri": "https://localhost:8080/",
     "height": 488
    },
    "executionInfo": {
     "elapsed": 367,
     "status": "ok",
     "timestamp": 1648572243546,
     "user": {
      "displayName": "FABIANA SILVA DE OLIVEIRA",
      "userId": "12187732007460211533"
     },
     "user_tz": 180
    },
    "id": "mfupmtON8gh9",
    "outputId": "0b4d052c-3591-4a40-e9f5-a930a3044ff3"
   },
   "outputs": [
    {
     "data": {
      "text/html": [
       "<div>\n",
       "<style scoped>\n",
       "    .dataframe tbody tr th:only-of-type {\n",
       "        vertical-align: middle;\n",
       "    }\n",
       "\n",
       "    .dataframe tbody tr th {\n",
       "        vertical-align: top;\n",
       "    }\n",
       "\n",
       "    .dataframe thead th {\n",
       "        text-align: right;\n",
       "    }\n",
       "</style>\n",
       "<table border=\"1\" class=\"dataframe\">\n",
       "  <thead>\n",
       "    <tr style=\"text-align: right;\">\n",
       "      <th></th>\n",
       "      <th>Area</th>\n",
       "      <th>Perimeter</th>\n",
       "      <th>MajorAxisLength</th>\n",
       "      <th>MinorAxisLength</th>\n",
       "      <th>AspectRation</th>\n",
       "      <th>Eccentricity</th>\n",
       "      <th>ConvexArea</th>\n",
       "      <th>EquivDiameter</th>\n",
       "      <th>Extent</th>\n",
       "      <th>Solidity</th>\n",
       "      <th>roundness</th>\n",
       "      <th>Compactness</th>\n",
       "      <th>ShapeFactor1</th>\n",
       "      <th>ShapeFactor2</th>\n",
       "      <th>ShapeFactor3</th>\n",
       "      <th>ShapeFactor4</th>\n",
       "      <th>Class</th>\n",
       "    </tr>\n",
       "  </thead>\n",
       "  <tbody>\n",
       "    <tr>\n",
       "      <th>0</th>\n",
       "      <td>254616</td>\n",
       "      <td>1985.370</td>\n",
       "      <td>738.860153</td>\n",
       "      <td>447.418329</td>\n",
       "      <td>1.651386</td>\n",
       "      <td>0.795806</td>\n",
       "      <td>263261</td>\n",
       "      <td>569.374358</td>\n",
       "      <td>0.783747</td>\n",
       "      <td>0.967162</td>\n",
       "      <td>0.811732</td>\n",
       "      <td>0.770612</td>\n",
       "      <td>0.002902</td>\n",
       "      <td>0.000631</td>\n",
       "      <td>0.593843</td>\n",
       "      <td>0.980663</td>\n",
       "      <td>BOMBAY</td>\n",
       "    </tr>\n",
       "    <tr>\n",
       "      <th>1</th>\n",
       "      <td>237270</td>\n",
       "      <td>1921.685</td>\n",
       "      <td>738.144502</td>\n",
       "      <td>412.921647</td>\n",
       "      <td>1.787614</td>\n",
       "      <td>0.828895</td>\n",
       "      <td>240671</td>\n",
       "      <td>549.637650</td>\n",
       "      <td>0.784115</td>\n",
       "      <td>0.985869</td>\n",
       "      <td>0.807399</td>\n",
       "      <td>0.744621</td>\n",
       "      <td>0.003111</td>\n",
       "      <td>0.000590</td>\n",
       "      <td>0.554460</td>\n",
       "      <td>0.991160</td>\n",
       "      <td>BOMBAY</td>\n",
       "    </tr>\n",
       "    <tr>\n",
       "      <th>2</th>\n",
       "      <td>251432</td>\n",
       "      <td>1919.868</td>\n",
       "      <td>719.125690</td>\n",
       "      <td>450.926187</td>\n",
       "      <td>1.594775</td>\n",
       "      <td>0.778981</td>\n",
       "      <td>257425</td>\n",
       "      <td>565.803115</td>\n",
       "      <td>0.766776</td>\n",
       "      <td>0.976719</td>\n",
       "      <td>0.857211</td>\n",
       "      <td>0.786793</td>\n",
       "      <td>0.002860</td>\n",
       "      <td>0.000676</td>\n",
       "      <td>0.619043</td>\n",
       "      <td>0.987235</td>\n",
       "      <td>BOMBAY</td>\n",
       "    </tr>\n",
       "    <tr>\n",
       "      <th>3</th>\n",
       "      <td>241322</td>\n",
       "      <td>1895.940</td>\n",
       "      <td>726.373493</td>\n",
       "      <td>427.370120</td>\n",
       "      <td>1.699636</td>\n",
       "      <td>0.808598</td>\n",
       "      <td>244319</td>\n",
       "      <td>554.311026</td>\n",
       "      <td>0.820823</td>\n",
       "      <td>0.987733</td>\n",
       "      <td>0.843641</td>\n",
       "      <td>0.763121</td>\n",
       "      <td>0.003010</td>\n",
       "      <td>0.000630</td>\n",
       "      <td>0.582354</td>\n",
       "      <td>0.989790</td>\n",
       "      <td>BOMBAY</td>\n",
       "    </tr>\n",
       "    <tr>\n",
       "      <th>4</th>\n",
       "      <td>248424</td>\n",
       "      <td>1884.557</td>\n",
       "      <td>715.053040</td>\n",
       "      <td>446.043618</td>\n",
       "      <td>1.603101</td>\n",
       "      <td>0.781591</td>\n",
       "      <td>251082</td>\n",
       "      <td>562.408446</td>\n",
       "      <td>0.807536</td>\n",
       "      <td>0.989414</td>\n",
       "      <td>0.878992</td>\n",
       "      <td>0.786527</td>\n",
       "      <td>0.002878</td>\n",
       "      <td>0.000679</td>\n",
       "      <td>0.618625</td>\n",
       "      <td>0.991718</td>\n",
       "      <td>BOMBAY</td>\n",
       "    </tr>\n",
       "    <tr>\n",
       "      <th>...</th>\n",
       "      <td>...</td>\n",
       "      <td>...</td>\n",
       "      <td>...</td>\n",
       "      <td>...</td>\n",
       "      <td>...</td>\n",
       "      <td>...</td>\n",
       "      <td>...</td>\n",
       "      <td>...</td>\n",
       "      <td>...</td>\n",
       "      <td>...</td>\n",
       "      <td>...</td>\n",
       "      <td>...</td>\n",
       "      <td>...</td>\n",
       "      <td>...</td>\n",
       "      <td>...</td>\n",
       "      <td>...</td>\n",
       "      <td>...</td>\n",
       "    </tr>\n",
       "    <tr>\n",
       "      <th>13606</th>\n",
       "      <td>20942</td>\n",
       "      <td>530.683</td>\n",
       "      <td>191.176525</td>\n",
       "      <td>139.586402</td>\n",
       "      <td>1.369593</td>\n",
       "      <td>0.683293</td>\n",
       "      <td>21191</td>\n",
       "      <td>163.291710</td>\n",
       "      <td>0.742361</td>\n",
       "      <td>0.988250</td>\n",
       "      <td>0.934453</td>\n",
       "      <td>0.854141</td>\n",
       "      <td>0.009129</td>\n",
       "      <td>0.002997</td>\n",
       "      <td>0.729557</td>\n",
       "      <td>0.999196</td>\n",
       "      <td>DERMASON</td>\n",
       "    </tr>\n",
       "    <tr>\n",
       "      <th>13607</th>\n",
       "      <td>20464</td>\n",
       "      <td>528.408</td>\n",
       "      <td>191.249312</td>\n",
       "      <td>136.368462</td>\n",
       "      <td>1.402445</td>\n",
       "      <td>0.701123</td>\n",
       "      <td>20772</td>\n",
       "      <td>161.417391</td>\n",
       "      <td>0.747407</td>\n",
       "      <td>0.985172</td>\n",
       "      <td>0.921004</td>\n",
       "      <td>0.844016</td>\n",
       "      <td>0.009346</td>\n",
       "      <td>0.002925</td>\n",
       "      <td>0.712362</td>\n",
       "      <td>0.999049</td>\n",
       "      <td>DERMASON</td>\n",
       "    </tr>\n",
       "    <tr>\n",
       "      <th>13608</th>\n",
       "      <td>20711</td>\n",
       "      <td>525.413</td>\n",
       "      <td>186.079149</td>\n",
       "      <td>142.081680</td>\n",
       "      <td>1.309663</td>\n",
       "      <td>0.645743</td>\n",
       "      <td>20988</td>\n",
       "      <td>162.388621</td>\n",
       "      <td>0.793525</td>\n",
       "      <td>0.986802</td>\n",
       "      <td>0.942778</td>\n",
       "      <td>0.872686</td>\n",
       "      <td>0.008985</td>\n",
       "      <td>0.003214</td>\n",
       "      <td>0.761580</td>\n",
       "      <td>0.997414</td>\n",
       "      <td>DERMASON</td>\n",
       "    </tr>\n",
       "    <tr>\n",
       "      <th>13609</th>\n",
       "      <td>20420</td>\n",
       "      <td>524.932</td>\n",
       "      <td>183.601165</td>\n",
       "      <td>141.886215</td>\n",
       "      <td>1.294003</td>\n",
       "      <td>0.634655</td>\n",
       "      <td>20684</td>\n",
       "      <td>161.243764</td>\n",
       "      <td>0.790187</td>\n",
       "      <td>0.987237</td>\n",
       "      <td>0.931235</td>\n",
       "      <td>0.878228</td>\n",
       "      <td>0.008991</td>\n",
       "      <td>0.003299</td>\n",
       "      <td>0.771285</td>\n",
       "      <td>0.998045</td>\n",
       "      <td>DERMASON</td>\n",
       "    </tr>\n",
       "    <tr>\n",
       "      <th>13610</th>\n",
       "      <td>20548</td>\n",
       "      <td>524.736</td>\n",
       "      <td>183.965251</td>\n",
       "      <td>142.672388</td>\n",
       "      <td>1.289424</td>\n",
       "      <td>0.631299</td>\n",
       "      <td>20825</td>\n",
       "      <td>161.748342</td>\n",
       "      <td>0.759686</td>\n",
       "      <td>0.986699</td>\n",
       "      <td>0.937773</td>\n",
       "      <td>0.879233</td>\n",
       "      <td>0.008953</td>\n",
       "      <td>0.003300</td>\n",
       "      <td>0.773051</td>\n",
       "      <td>0.996791</td>\n",
       "      <td>DERMASON</td>\n",
       "    </tr>\n",
       "  </tbody>\n",
       "</table>\n",
       "<p>13543 rows × 17 columns</p>\n",
       "</div>"
      ],
      "text/plain": [
       "         Area  Perimeter  MajorAxisLength  MinorAxisLength  AspectRation  \\\n",
       "0      254616   1985.370       738.860153       447.418329      1.651386   \n",
       "1      237270   1921.685       738.144502       412.921647      1.787614   \n",
       "2      251432   1919.868       719.125690       450.926187      1.594775   \n",
       "3      241322   1895.940       726.373493       427.370120      1.699636   \n",
       "4      248424   1884.557       715.053040       446.043618      1.603101   \n",
       "...       ...        ...              ...              ...           ...   \n",
       "13606   20942    530.683       191.176525       139.586402      1.369593   \n",
       "13607   20464    528.408       191.249312       136.368462      1.402445   \n",
       "13608   20711    525.413       186.079149       142.081680      1.309663   \n",
       "13609   20420    524.932       183.601165       141.886215      1.294003   \n",
       "13610   20548    524.736       183.965251       142.672388      1.289424   \n",
       "\n",
       "       Eccentricity  ConvexArea  EquivDiameter    Extent  Solidity  roundness  \\\n",
       "0          0.795806      263261     569.374358  0.783747  0.967162   0.811732   \n",
       "1          0.828895      240671     549.637650  0.784115  0.985869   0.807399   \n",
       "2          0.778981      257425     565.803115  0.766776  0.976719   0.857211   \n",
       "3          0.808598      244319     554.311026  0.820823  0.987733   0.843641   \n",
       "4          0.781591      251082     562.408446  0.807536  0.989414   0.878992   \n",
       "...             ...         ...            ...       ...       ...        ...   \n",
       "13606      0.683293       21191     163.291710  0.742361  0.988250   0.934453   \n",
       "13607      0.701123       20772     161.417391  0.747407  0.985172   0.921004   \n",
       "13608      0.645743       20988     162.388621  0.793525  0.986802   0.942778   \n",
       "13609      0.634655       20684     161.243764  0.790187  0.987237   0.931235   \n",
       "13610      0.631299       20825     161.748342  0.759686  0.986699   0.937773   \n",
       "\n",
       "       Compactness  ShapeFactor1  ShapeFactor2  ShapeFactor3  ShapeFactor4  \\\n",
       "0         0.770612      0.002902      0.000631      0.593843      0.980663   \n",
       "1         0.744621      0.003111      0.000590      0.554460      0.991160   \n",
       "2         0.786793      0.002860      0.000676      0.619043      0.987235   \n",
       "3         0.763121      0.003010      0.000630      0.582354      0.989790   \n",
       "4         0.786527      0.002878      0.000679      0.618625      0.991718   \n",
       "...            ...           ...           ...           ...           ...   \n",
       "13606     0.854141      0.009129      0.002997      0.729557      0.999196   \n",
       "13607     0.844016      0.009346      0.002925      0.712362      0.999049   \n",
       "13608     0.872686      0.008985      0.003214      0.761580      0.997414   \n",
       "13609     0.878228      0.008991      0.003299      0.771285      0.998045   \n",
       "13610     0.879233      0.008953      0.003300      0.773051      0.996791   \n",
       "\n",
       "          Class  \n",
       "0        BOMBAY  \n",
       "1        BOMBAY  \n",
       "2        BOMBAY  \n",
       "3        BOMBAY  \n",
       "4        BOMBAY  \n",
       "...         ...  \n",
       "13606  DERMASON  \n",
       "13607  DERMASON  \n",
       "13608  DERMASON  \n",
       "13609  DERMASON  \n",
       "13610  DERMASON  \n",
       "\n",
       "[13543 rows x 17 columns]"
      ]
     },
     "execution_count": 22,
     "metadata": {},
     "output_type": "execute_result"
    }
   ],
   "source": [
    "df_duplicates = df.drop_duplicates()\n",
    "df_duplicates"
   ]
  },
  {
   "cell_type": "code",
   "execution_count": 23,
   "metadata": {
    "colab": {
     "base_uri": "https://localhost:8080/"
    },
    "executionInfo": {
     "elapsed": 306,
     "status": "ok",
     "timestamp": 1648572246290,
     "user": {
      "displayName": "FABIANA SILVA DE OLIVEIRA",
      "userId": "12187732007460211533"
     },
     "user_tz": 180
    },
    "id": "t4dsoxNA8oCj",
    "outputId": "dce2f742-cc41-4b8a-d76a-2e2467a6384b"
   },
   "outputs": [
    {
     "data": {
      "text/plain": [
       "(13543, 17)"
      ]
     },
     "execution_count": 23,
     "metadata": {},
     "output_type": "execute_result"
    }
   ],
   "source": [
    "df_duplicates.shape"
   ]
  },
  {
   "cell_type": "markdown",
   "metadata": {
    "id": "FOObWAnOt3GL"
   },
   "source": [
    "####***REDUÇÃO POR SEGMENTAÇÃO*** **DO CONJUNTO DE DADOS -**\n",
    "Filtrar os valores de um atributo (coluna) afim de se ter um contunto menor prefefindo de dados para o atributo escolhido **\"DISTANCIA MAIS LONGA DA EXTREMIDADE DO FEIJÃO\"** para selecionar os tipos de **maiores**"
   ]
  },
  {
   "cell_type": "code",
   "execution_count": 24,
   "metadata": {
    "colab": {
     "base_uri": "https://localhost:8080/",
     "height": 234
    },
    "executionInfo": {
     "elapsed": 13,
     "status": "error",
     "timestamp": 1648672066656,
     "user": {
      "displayName": "FABIANA SILVA DE OLIVEIRA",
      "userId": "12187732007460211533"
     },
     "user_tz": 180
    },
    "id": "OEdSBkjc0Tr5",
    "outputId": "23e60937-8cfb-4725-fb4a-76244bd6ea45"
   },
   "outputs": [
    {
     "data": {
      "text/plain": [
       "(13611, 17)"
      ]
     },
     "execution_count": 24,
     "metadata": {},
     "output_type": "execute_result"
    }
   ],
   "source": [
    "#Segmentação do conjunto de dados pelo atributo \"MajorAxisLength\"\n",
    "df = df[df['MajorAxisLength'] > 183]\n",
    "df = df[df['MajorAxisLength'] < 739]\n",
    "\n",
    "df.shape"
   ]
  },
  {
   "cell_type": "markdown",
   "metadata": {
    "id": "dk_iAzt04Oua"
   },
   "source": [
    "####***REDUÇÃO POR EXCLUSÃO*** **DE ATRIBUTOS DE UM CONJUNTO DE DADOS** - Para reduzir a dimensão do conjunto de dados... "
   ]
  },
  {
   "cell_type": "code",
   "execution_count": 25,
   "metadata": {
    "colab": {
     "base_uri": "https://localhost:8080/",
     "height": 423
    },
    "executionInfo": {
     "elapsed": 308,
     "status": "ok",
     "timestamp": 1648572490520,
     "user": {
      "displayName": "FABIANA SILVA DE OLIVEIRA",
      "userId": "12187732007460211533"
     },
     "user_tz": 180
    },
    "id": "Z_cBAJlV6UvE",
    "outputId": "70b3009d-9430-4ab7-9c44-10021fd87351"
   },
   "outputs": [
    {
     "data": {
      "text/html": [
       "<div>\n",
       "<style scoped>\n",
       "    .dataframe tbody tr th:only-of-type {\n",
       "        vertical-align: middle;\n",
       "    }\n",
       "\n",
       "    .dataframe tbody tr th {\n",
       "        vertical-align: top;\n",
       "    }\n",
       "\n",
       "    .dataframe thead th {\n",
       "        text-align: right;\n",
       "    }\n",
       "</style>\n",
       "<table border=\"1\" class=\"dataframe\">\n",
       "  <thead>\n",
       "    <tr style=\"text-align: right;\">\n",
       "      <th></th>\n",
       "      <th>Area</th>\n",
       "      <th>Perimeter</th>\n",
       "      <th>MajorAxisLength</th>\n",
       "      <th>MinorAxisLength</th>\n",
       "      <th>Eccentricity</th>\n",
       "      <th>Class</th>\n",
       "    </tr>\n",
       "  </thead>\n",
       "  <tbody>\n",
       "    <tr>\n",
       "      <th>0</th>\n",
       "      <td>254616</td>\n",
       "      <td>1985.370</td>\n",
       "      <td>738.860153</td>\n",
       "      <td>447.418329</td>\n",
       "      <td>0.795806</td>\n",
       "      <td>BOMBAY</td>\n",
       "    </tr>\n",
       "    <tr>\n",
       "      <th>1</th>\n",
       "      <td>237270</td>\n",
       "      <td>1921.685</td>\n",
       "      <td>738.144502</td>\n",
       "      <td>412.921647</td>\n",
       "      <td>0.828895</td>\n",
       "      <td>BOMBAY</td>\n",
       "    </tr>\n",
       "    <tr>\n",
       "      <th>2</th>\n",
       "      <td>251432</td>\n",
       "      <td>1919.868</td>\n",
       "      <td>719.125690</td>\n",
       "      <td>450.926187</td>\n",
       "      <td>0.778981</td>\n",
       "      <td>BOMBAY</td>\n",
       "    </tr>\n",
       "    <tr>\n",
       "      <th>3</th>\n",
       "      <td>241322</td>\n",
       "      <td>1895.940</td>\n",
       "      <td>726.373493</td>\n",
       "      <td>427.370120</td>\n",
       "      <td>0.808598</td>\n",
       "      <td>BOMBAY</td>\n",
       "    </tr>\n",
       "    <tr>\n",
       "      <th>4</th>\n",
       "      <td>248424</td>\n",
       "      <td>1884.557</td>\n",
       "      <td>715.053040</td>\n",
       "      <td>446.043618</td>\n",
       "      <td>0.781591</td>\n",
       "      <td>BOMBAY</td>\n",
       "    </tr>\n",
       "    <tr>\n",
       "      <th>...</th>\n",
       "      <td>...</td>\n",
       "      <td>...</td>\n",
       "      <td>...</td>\n",
       "      <td>...</td>\n",
       "      <td>...</td>\n",
       "      <td>...</td>\n",
       "    </tr>\n",
       "    <tr>\n",
       "      <th>13606</th>\n",
       "      <td>20942</td>\n",
       "      <td>530.683</td>\n",
       "      <td>191.176525</td>\n",
       "      <td>139.586402</td>\n",
       "      <td>0.683293</td>\n",
       "      <td>DERMASON</td>\n",
       "    </tr>\n",
       "    <tr>\n",
       "      <th>13607</th>\n",
       "      <td>20464</td>\n",
       "      <td>528.408</td>\n",
       "      <td>191.249312</td>\n",
       "      <td>136.368462</td>\n",
       "      <td>0.701123</td>\n",
       "      <td>DERMASON</td>\n",
       "    </tr>\n",
       "    <tr>\n",
       "      <th>13608</th>\n",
       "      <td>20711</td>\n",
       "      <td>525.413</td>\n",
       "      <td>186.079149</td>\n",
       "      <td>142.081680</td>\n",
       "      <td>0.645743</td>\n",
       "      <td>DERMASON</td>\n",
       "    </tr>\n",
       "    <tr>\n",
       "      <th>13609</th>\n",
       "      <td>20420</td>\n",
       "      <td>524.932</td>\n",
       "      <td>183.601165</td>\n",
       "      <td>141.886215</td>\n",
       "      <td>0.634655</td>\n",
       "      <td>DERMASON</td>\n",
       "    </tr>\n",
       "    <tr>\n",
       "      <th>13610</th>\n",
       "      <td>20548</td>\n",
       "      <td>524.736</td>\n",
       "      <td>183.965251</td>\n",
       "      <td>142.672388</td>\n",
       "      <td>0.631299</td>\n",
       "      <td>DERMASON</td>\n",
       "    </tr>\n",
       "  </tbody>\n",
       "</table>\n",
       "<p>13611 rows × 6 columns</p>\n",
       "</div>"
      ],
      "text/plain": [
       "         Area  Perimeter  MajorAxisLength  MinorAxisLength  Eccentricity  \\\n",
       "0      254616   1985.370       738.860153       447.418329      0.795806   \n",
       "1      237270   1921.685       738.144502       412.921647      0.828895   \n",
       "2      251432   1919.868       719.125690       450.926187      0.778981   \n",
       "3      241322   1895.940       726.373493       427.370120      0.808598   \n",
       "4      248424   1884.557       715.053040       446.043618      0.781591   \n",
       "...       ...        ...              ...              ...           ...   \n",
       "13606   20942    530.683       191.176525       139.586402      0.683293   \n",
       "13607   20464    528.408       191.249312       136.368462      0.701123   \n",
       "13608   20711    525.413       186.079149       142.081680      0.645743   \n",
       "13609   20420    524.932       183.601165       141.886215      0.634655   \n",
       "13610   20548    524.736       183.965251       142.672388      0.631299   \n",
       "\n",
       "          Class  \n",
       "0        BOMBAY  \n",
       "1        BOMBAY  \n",
       "2        BOMBAY  \n",
       "3        BOMBAY  \n",
       "4        BOMBAY  \n",
       "...         ...  \n",
       "13606  DERMASON  \n",
       "13607  DERMASON  \n",
       "13608  DERMASON  \n",
       "13609  DERMASON  \n",
       "13610  DERMASON  \n",
       "\n",
       "[13611 rows x 6 columns]"
      ]
     },
     "execution_count": 25,
     "metadata": {},
     "output_type": "execute_result"
    }
   ],
   "source": [
    "df2 = df.drop(columns=['AspectRation','ConvexArea','EquivDiameter','Extent','Solidity','roundness','ShapeFactor1','Compactness','ShapeFactor2','ShapeFactor3','ShapeFactor4'])\n",
    "df2"
   ]
  },
  {
   "cell_type": "markdown",
   "metadata": {
    "id": "UD_8FPbs5MC3"
   },
   "source": [
    "####***REDUÇÃO POR AMOSTRAGEM*** **DOS DADOS**...aleatório"
   ]
  },
  {
   "cell_type": "code",
   "execution_count": 26,
   "metadata": {
    "colab": {
     "base_uri": "https://localhost:8080/",
     "height": 426
    },
    "executionInfo": {
     "elapsed": 273,
     "status": "ok",
     "timestamp": 1648580670409,
     "user": {
      "displayName": "FABIANA SILVA DE OLIVEIRA",
      "userId": "12187732007460211533"
     },
     "user_tz": 180
    },
    "id": "sX7F-vRf65vZ",
    "outputId": "8c0b1984-77cd-49ca-df70-75604e1ba39e"
   },
   "outputs": [
    {
     "data": {
      "text/html": [
       "<div>\n",
       "<style scoped>\n",
       "    .dataframe tbody tr th:only-of-type {\n",
       "        vertical-align: middle;\n",
       "    }\n",
       "\n",
       "    .dataframe tbody tr th {\n",
       "        vertical-align: top;\n",
       "    }\n",
       "\n",
       "    .dataframe thead th {\n",
       "        text-align: right;\n",
       "    }\n",
       "</style>\n",
       "<table border=\"1\" class=\"dataframe\">\n",
       "  <thead>\n",
       "    <tr style=\"text-align: right;\">\n",
       "      <th></th>\n",
       "      <th>Area</th>\n",
       "      <th>Perimeter</th>\n",
       "      <th>MajorAxisLength</th>\n",
       "      <th>MinorAxisLength</th>\n",
       "      <th>AspectRation</th>\n",
       "      <th>Eccentricity</th>\n",
       "      <th>ConvexArea</th>\n",
       "      <th>EquivDiameter</th>\n",
       "      <th>Extent</th>\n",
       "      <th>Solidity</th>\n",
       "      <th>roundness</th>\n",
       "      <th>Compactness</th>\n",
       "      <th>ShapeFactor1</th>\n",
       "      <th>ShapeFactor2</th>\n",
       "      <th>ShapeFactor3</th>\n",
       "      <th>ShapeFactor4</th>\n",
       "      <th>Class</th>\n",
       "    </tr>\n",
       "  </thead>\n",
       "  <tbody>\n",
       "    <tr>\n",
       "      <th>10676</th>\n",
       "      <td>36527</td>\n",
       "      <td>691.877</td>\n",
       "      <td>238.314360</td>\n",
       "      <td>195.398766</td>\n",
       "      <td>1.219631</td>\n",
       "      <td>0.572478</td>\n",
       "      <td>36865</td>\n",
       "      <td>215.656256</td>\n",
       "      <td>0.765284</td>\n",
       "      <td>0.990831</td>\n",
       "      <td>0.958884</td>\n",
       "      <td>0.904923</td>\n",
       "      <td>0.006524</td>\n",
       "      <td>0.002699</td>\n",
       "      <td>0.818886</td>\n",
       "      <td>0.998739</td>\n",
       "      <td>SEKER</td>\n",
       "    </tr>\n",
       "    <tr>\n",
       "      <th>9185</th>\n",
       "      <td>40778</td>\n",
       "      <td>727.951</td>\n",
       "      <td>241.440599</td>\n",
       "      <td>215.269817</td>\n",
       "      <td>1.121572</td>\n",
       "      <td>0.452813</td>\n",
       "      <td>41119</td>\n",
       "      <td>227.859962</td>\n",
       "      <td>0.771376</td>\n",
       "      <td>0.991707</td>\n",
       "      <td>0.967011</td>\n",
       "      <td>0.943752</td>\n",
       "      <td>0.005921</td>\n",
       "      <td>0.002897</td>\n",
       "      <td>0.890667</td>\n",
       "      <td>0.998947</td>\n",
       "      <td>SEKER</td>\n",
       "    </tr>\n",
       "    <tr>\n",
       "      <th>3357</th>\n",
       "      <td>64588</td>\n",
       "      <td>979.277</td>\n",
       "      <td>378.636771</td>\n",
       "      <td>219.376714</td>\n",
       "      <td>1.725966</td>\n",
       "      <td>0.815054</td>\n",
       "      <td>65794</td>\n",
       "      <td>286.768192</td>\n",
       "      <td>0.814764</td>\n",
       "      <td>0.981670</td>\n",
       "      <td>0.846351</td>\n",
       "      <td>0.757370</td>\n",
       "      <td>0.005862</td>\n",
       "      <td>0.001190</td>\n",
       "      <td>0.573610</td>\n",
       "      <td>0.990031</td>\n",
       "      <td>CALI</td>\n",
       "    </tr>\n",
       "    <tr>\n",
       "      <th>806</th>\n",
       "      <td>87350</td>\n",
       "      <td>1153.405</td>\n",
       "      <td>453.198437</td>\n",
       "      <td>249.425291</td>\n",
       "      <td>1.816971</td>\n",
       "      <td>0.834923</td>\n",
       "      <td>89713</td>\n",
       "      <td>333.492840</td>\n",
       "      <td>0.764377</td>\n",
       "      <td>0.973660</td>\n",
       "      <td>0.825105</td>\n",
       "      <td>0.735865</td>\n",
       "      <td>0.005188</td>\n",
       "      <td>0.000938</td>\n",
       "      <td>0.541497</td>\n",
       "      <td>0.983885</td>\n",
       "      <td>CALI</td>\n",
       "    </tr>\n",
       "    <tr>\n",
       "      <th>13460</th>\n",
       "      <td>24209</td>\n",
       "      <td>579.416</td>\n",
       "      <td>220.097623</td>\n",
       "      <td>140.704145</td>\n",
       "      <td>1.564258</td>\n",
       "      <td>0.768974</td>\n",
       "      <td>24517</td>\n",
       "      <td>175.567241</td>\n",
       "      <td>0.821535</td>\n",
       "      <td>0.987437</td>\n",
       "      <td>0.906162</td>\n",
       "      <td>0.797679</td>\n",
       "      <td>0.009092</td>\n",
       "      <td>0.002271</td>\n",
       "      <td>0.636292</td>\n",
       "      <td>0.995325</td>\n",
       "      <td>DERMASON</td>\n",
       "    </tr>\n",
       "    <tr>\n",
       "      <th>11121</th>\n",
       "      <td>33651</td>\n",
       "      <td>681.292</td>\n",
       "      <td>256.080606</td>\n",
       "      <td>167.642361</td>\n",
       "      <td>1.527541</td>\n",
       "      <td>0.755935</td>\n",
       "      <td>34053</td>\n",
       "      <td>206.992232</td>\n",
       "      <td>0.714641</td>\n",
       "      <td>0.988195</td>\n",
       "      <td>0.911048</td>\n",
       "      <td>0.808309</td>\n",
       "      <td>0.007610</td>\n",
       "      <td>0.002004</td>\n",
       "      <td>0.653363</td>\n",
       "      <td>0.998039</td>\n",
       "      <td>DERMASON</td>\n",
       "    </tr>\n",
       "    <tr>\n",
       "      <th>5980</th>\n",
       "      <td>49084</td>\n",
       "      <td>824.934</td>\n",
       "      <td>298.311167</td>\n",
       "      <td>210.032970</td>\n",
       "      <td>1.420306</td>\n",
       "      <td>0.710127</td>\n",
       "      <td>49637</td>\n",
       "      <td>249.991379</td>\n",
       "      <td>0.740611</td>\n",
       "      <td>0.988859</td>\n",
       "      <td>0.906382</td>\n",
       "      <td>0.838022</td>\n",
       "      <td>0.006078</td>\n",
       "      <td>0.001849</td>\n",
       "      <td>0.702281</td>\n",
       "      <td>0.997454</td>\n",
       "      <td>SIRA</td>\n",
       "    </tr>\n",
       "    <tr>\n",
       "      <th>11636</th>\n",
       "      <td>32213</td>\n",
       "      <td>666.867</td>\n",
       "      <td>252.246997</td>\n",
       "      <td>162.964426</td>\n",
       "      <td>1.547865</td>\n",
       "      <td>0.763294</td>\n",
       "      <td>32551</td>\n",
       "      <td>202.521272</td>\n",
       "      <td>0.744018</td>\n",
       "      <td>0.989616</td>\n",
       "      <td>0.910254</td>\n",
       "      <td>0.802869</td>\n",
       "      <td>0.007831</td>\n",
       "      <td>0.002007</td>\n",
       "      <td>0.644598</td>\n",
       "      <td>0.997752</td>\n",
       "      <td>DERMASON</td>\n",
       "    </tr>\n",
       "    <tr>\n",
       "      <th>5111</th>\n",
       "      <td>48335</td>\n",
       "      <td>869.579</td>\n",
       "      <td>344.769902</td>\n",
       "      <td>178.940619</td>\n",
       "      <td>1.926728</td>\n",
       "      <td>0.854765</td>\n",
       "      <td>48996</td>\n",
       "      <td>248.076668</td>\n",
       "      <td>0.642223</td>\n",
       "      <td>0.986509</td>\n",
       "      <td>0.803255</td>\n",
       "      <td>0.719543</td>\n",
       "      <td>0.007133</td>\n",
       "      <td>0.001179</td>\n",
       "      <td>0.517742</td>\n",
       "      <td>0.997547</td>\n",
       "      <td>HOROZ</td>\n",
       "    </tr>\n",
       "    <tr>\n",
       "      <th>5817</th>\n",
       "      <td>47969</td>\n",
       "      <td>832.029</td>\n",
       "      <td>315.698393</td>\n",
       "      <td>193.852572</td>\n",
       "      <td>1.628549</td>\n",
       "      <td>0.789272</td>\n",
       "      <td>48501</td>\n",
       "      <td>247.135646</td>\n",
       "      <td>0.754835</td>\n",
       "      <td>0.989031</td>\n",
       "      <td>0.870750</td>\n",
       "      <td>0.782822</td>\n",
       "      <td>0.006581</td>\n",
       "      <td>0.001525</td>\n",
       "      <td>0.612810</td>\n",
       "      <td>0.997992</td>\n",
       "      <td>SIRA</td>\n",
       "    </tr>\n",
       "  </tbody>\n",
       "</table>\n",
       "</div>"
      ],
      "text/plain": [
       "        Area  Perimeter  MajorAxisLength  MinorAxisLength  AspectRation  \\\n",
       "10676  36527    691.877       238.314360       195.398766      1.219631   \n",
       "9185   40778    727.951       241.440599       215.269817      1.121572   \n",
       "3357   64588    979.277       378.636771       219.376714      1.725966   \n",
       "806    87350   1153.405       453.198437       249.425291      1.816971   \n",
       "13460  24209    579.416       220.097623       140.704145      1.564258   \n",
       "11121  33651    681.292       256.080606       167.642361      1.527541   \n",
       "5980   49084    824.934       298.311167       210.032970      1.420306   \n",
       "11636  32213    666.867       252.246997       162.964426      1.547865   \n",
       "5111   48335    869.579       344.769902       178.940619      1.926728   \n",
       "5817   47969    832.029       315.698393       193.852572      1.628549   \n",
       "\n",
       "       Eccentricity  ConvexArea  EquivDiameter    Extent  Solidity  roundness  \\\n",
       "10676      0.572478       36865     215.656256  0.765284  0.990831   0.958884   \n",
       "9185       0.452813       41119     227.859962  0.771376  0.991707   0.967011   \n",
       "3357       0.815054       65794     286.768192  0.814764  0.981670   0.846351   \n",
       "806        0.834923       89713     333.492840  0.764377  0.973660   0.825105   \n",
       "13460      0.768974       24517     175.567241  0.821535  0.987437   0.906162   \n",
       "11121      0.755935       34053     206.992232  0.714641  0.988195   0.911048   \n",
       "5980       0.710127       49637     249.991379  0.740611  0.988859   0.906382   \n",
       "11636      0.763294       32551     202.521272  0.744018  0.989616   0.910254   \n",
       "5111       0.854765       48996     248.076668  0.642223  0.986509   0.803255   \n",
       "5817       0.789272       48501     247.135646  0.754835  0.989031   0.870750   \n",
       "\n",
       "       Compactness  ShapeFactor1  ShapeFactor2  ShapeFactor3  ShapeFactor4  \\\n",
       "10676     0.904923      0.006524      0.002699      0.818886      0.998739   \n",
       "9185      0.943752      0.005921      0.002897      0.890667      0.998947   \n",
       "3357      0.757370      0.005862      0.001190      0.573610      0.990031   \n",
       "806       0.735865      0.005188      0.000938      0.541497      0.983885   \n",
       "13460     0.797679      0.009092      0.002271      0.636292      0.995325   \n",
       "11121     0.808309      0.007610      0.002004      0.653363      0.998039   \n",
       "5980      0.838022      0.006078      0.001849      0.702281      0.997454   \n",
       "11636     0.802869      0.007831      0.002007      0.644598      0.997752   \n",
       "5111      0.719543      0.007133      0.001179      0.517742      0.997547   \n",
       "5817      0.782822      0.006581      0.001525      0.612810      0.997992   \n",
       "\n",
       "          Class  \n",
       "10676     SEKER  \n",
       "9185      SEKER  \n",
       "3357       CALI  \n",
       "806        CALI  \n",
       "13460  DERMASON  \n",
       "11121  DERMASON  \n",
       "5980       SIRA  \n",
       "11636  DERMASON  \n",
       "5111      HOROZ  \n",
       "5817       SIRA  "
      ]
     },
     "execution_count": 26,
     "metadata": {},
     "output_type": "execute_result"
    }
   ],
   "source": [
    "dfsample = df.sample(n=10, replace=False, random_state=123)\n",
    "dfsample"
   ]
  },
  {
   "cell_type": "markdown",
   "metadata": {
    "id": "qAfxWBf2i5Aq"
   },
   "source": [
    "####***REDUÇÃO POR AMOSTRAGEM COM FILTRO*** **NOS DADOS**...aleatório"
   ]
  },
  {
   "cell_type": "code",
   "execution_count": 27,
   "metadata": {
    "colab": {
     "base_uri": "https://localhost:8080/",
     "height": 426
    },
    "executionInfo": {
     "elapsed": 362,
     "status": "ok",
     "timestamp": 1648572532704,
     "user": {
      "displayName": "FABIANA SILVA DE OLIVEIRA",
      "userId": "12187732007460211533"
     },
     "user_tz": 180
    },
    "id": "c4_07wdT6-F8",
    "outputId": "2c113129-a054-41c2-de94-ca3847925535"
   },
   "outputs": [
    {
     "data": {
      "text/html": [
       "<div>\n",
       "<style scoped>\n",
       "    .dataframe tbody tr th:only-of-type {\n",
       "        vertical-align: middle;\n",
       "    }\n",
       "\n",
       "    .dataframe tbody tr th {\n",
       "        vertical-align: top;\n",
       "    }\n",
       "\n",
       "    .dataframe thead th {\n",
       "        text-align: right;\n",
       "    }\n",
       "</style>\n",
       "<table border=\"1\" class=\"dataframe\">\n",
       "  <thead>\n",
       "    <tr style=\"text-align: right;\">\n",
       "      <th></th>\n",
       "      <th>Area</th>\n",
       "      <th>Perimeter</th>\n",
       "      <th>MajorAxisLength</th>\n",
       "      <th>MinorAxisLength</th>\n",
       "      <th>AspectRation</th>\n",
       "      <th>Eccentricity</th>\n",
       "      <th>ConvexArea</th>\n",
       "      <th>EquivDiameter</th>\n",
       "      <th>Extent</th>\n",
       "      <th>Solidity</th>\n",
       "      <th>roundness</th>\n",
       "      <th>Compactness</th>\n",
       "      <th>ShapeFactor1</th>\n",
       "      <th>ShapeFactor2</th>\n",
       "      <th>ShapeFactor3</th>\n",
       "      <th>ShapeFactor4</th>\n",
       "      <th>Class</th>\n",
       "    </tr>\n",
       "  </thead>\n",
       "  <tbody>\n",
       "    <tr>\n",
       "      <th>458</th>\n",
       "      <td>148325</td>\n",
       "      <td>1454.931</td>\n",
       "      <td>549.733694</td>\n",
       "      <td>344.949850</td>\n",
       "      <td>1.593663</td>\n",
       "      <td>0.778628</td>\n",
       "      <td>149846</td>\n",
       "      <td>434.572497</td>\n",
       "      <td>0.778887</td>\n",
       "      <td>0.989850</td>\n",
       "      <td>0.880520</td>\n",
       "      <td>0.790515</td>\n",
       "      <td>0.003706</td>\n",
       "      <td>0.000893</td>\n",
       "      <td>0.624913</td>\n",
       "      <td>0.995901</td>\n",
       "      <td>BOMBAY</td>\n",
       "    </tr>\n",
       "    <tr>\n",
       "      <th>156</th>\n",
       "      <td>185350</td>\n",
       "      <td>1641.849</td>\n",
       "      <td>604.654587</td>\n",
       "      <td>392.941013</td>\n",
       "      <td>1.538792</td>\n",
       "      <td>0.760054</td>\n",
       "      <td>187679</td>\n",
       "      <td>485.793114</td>\n",
       "      <td>0.828002</td>\n",
       "      <td>0.987591</td>\n",
       "      <td>0.864044</td>\n",
       "      <td>0.803423</td>\n",
       "      <td>0.003262</td>\n",
       "      <td>0.000838</td>\n",
       "      <td>0.645488</td>\n",
       "      <td>0.993272</td>\n",
       "      <td>BOMBAY</td>\n",
       "    </tr>\n",
       "    <tr>\n",
       "      <th>282</th>\n",
       "      <td>169030</td>\n",
       "      <td>1570.870</td>\n",
       "      <td>586.924082</td>\n",
       "      <td>368.221092</td>\n",
       "      <td>1.593945</td>\n",
       "      <td>0.778718</td>\n",
       "      <td>170989</td>\n",
       "      <td>463.913440</td>\n",
       "      <td>0.782438</td>\n",
       "      <td>0.988543</td>\n",
       "      <td>0.860782</td>\n",
       "      <td>0.790415</td>\n",
       "      <td>0.003472</td>\n",
       "      <td>0.000836</td>\n",
       "      <td>0.624755</td>\n",
       "      <td>0.995826</td>\n",
       "      <td>BOMBAY</td>\n",
       "    </tr>\n",
       "    <tr>\n",
       "      <th>244</th>\n",
       "      <td>179166</td>\n",
       "      <td>1593.298</td>\n",
       "      <td>584.127095</td>\n",
       "      <td>392.759410</td>\n",
       "      <td>1.487239</td>\n",
       "      <td>0.740200</td>\n",
       "      <td>181118</td>\n",
       "      <td>477.620389</td>\n",
       "      <td>0.765614</td>\n",
       "      <td>0.989222</td>\n",
       "      <td>0.886893</td>\n",
       "      <td>0.817665</td>\n",
       "      <td>0.003260</td>\n",
       "      <td>0.000899</td>\n",
       "      <td>0.668576</td>\n",
       "      <td>0.994333</td>\n",
       "      <td>BOMBAY</td>\n",
       "    </tr>\n",
       "    <tr>\n",
       "      <th>417</th>\n",
       "      <td>153287</td>\n",
       "      <td>1484.785</td>\n",
       "      <td>534.754205</td>\n",
       "      <td>368.381092</td>\n",
       "      <td>1.451633</td>\n",
       "      <td>0.724876</td>\n",
       "      <td>155347</td>\n",
       "      <td>441.781700</td>\n",
       "      <td>0.789708</td>\n",
       "      <td>0.986739</td>\n",
       "      <td>0.873752</td>\n",
       "      <td>0.826140</td>\n",
       "      <td>0.003489</td>\n",
       "      <td>0.001002</td>\n",
       "      <td>0.682507</td>\n",
       "      <td>0.990750</td>\n",
       "      <td>BOMBAY</td>\n",
       "    </tr>\n",
       "    <tr>\n",
       "      <th>484</th>\n",
       "      <td>144083</td>\n",
       "      <td>1416.894</td>\n",
       "      <td>508.239887</td>\n",
       "      <td>362.822978</td>\n",
       "      <td>1.400793</td>\n",
       "      <td>0.700267</td>\n",
       "      <td>145241</td>\n",
       "      <td>428.313172</td>\n",
       "      <td>0.797034</td>\n",
       "      <td>0.992027</td>\n",
       "      <td>0.901878</td>\n",
       "      <td>0.842738</td>\n",
       "      <td>0.003527</td>\n",
       "      <td>0.001098</td>\n",
       "      <td>0.710208</td>\n",
       "      <td>0.994854</td>\n",
       "      <td>BOMBAY</td>\n",
       "    </tr>\n",
       "    <tr>\n",
       "      <th>138</th>\n",
       "      <td>184018</td>\n",
       "      <td>1653.655</td>\n",
       "      <td>627.833471</td>\n",
       "      <td>376.172939</td>\n",
       "      <td>1.669002</td>\n",
       "      <td>0.800629</td>\n",
       "      <td>186286</td>\n",
       "      <td>484.044414</td>\n",
       "      <td>0.827896</td>\n",
       "      <td>0.987825</td>\n",
       "      <td>0.845630</td>\n",
       "      <td>0.770976</td>\n",
       "      <td>0.003412</td>\n",
       "      <td>0.000744</td>\n",
       "      <td>0.594404</td>\n",
       "      <td>0.992061</td>\n",
       "      <td>BOMBAY</td>\n",
       "    </tr>\n",
       "    <tr>\n",
       "      <th>141</th>\n",
       "      <td>184362</td>\n",
       "      <td>1653.005</td>\n",
       "      <td>615.710417</td>\n",
       "      <td>384.505067</td>\n",
       "      <td>1.601306</td>\n",
       "      <td>0.781033</td>\n",
       "      <td>187863</td>\n",
       "      <td>484.496635</td>\n",
       "      <td>0.785094</td>\n",
       "      <td>0.981364</td>\n",
       "      <td>0.847877</td>\n",
       "      <td>0.786890</td>\n",
       "      <td>0.003340</td>\n",
       "      <td>0.000790</td>\n",
       "      <td>0.619197</td>\n",
       "      <td>0.991523</td>\n",
       "      <td>BOMBAY</td>\n",
       "    </tr>\n",
       "    <tr>\n",
       "      <th>359</th>\n",
       "      <td>158438</td>\n",
       "      <td>1527.500</td>\n",
       "      <td>569.152898</td>\n",
       "      <td>357.262876</td>\n",
       "      <td>1.593093</td>\n",
       "      <td>0.778447</td>\n",
       "      <td>160009</td>\n",
       "      <td>449.143103</td>\n",
       "      <td>0.722231</td>\n",
       "      <td>0.990182</td>\n",
       "      <td>0.853310</td>\n",
       "      <td>0.789143</td>\n",
       "      <td>0.003592</td>\n",
       "      <td>0.000859</td>\n",
       "      <td>0.622747</td>\n",
       "      <td>0.992094</td>\n",
       "      <td>BOMBAY</td>\n",
       "    </tr>\n",
       "    <tr>\n",
       "      <th>416</th>\n",
       "      <td>155088</td>\n",
       "      <td>1485.027</td>\n",
       "      <td>526.915088</td>\n",
       "      <td>375.687937</td>\n",
       "      <td>1.402534</td>\n",
       "      <td>0.701169</td>\n",
       "      <td>156676</td>\n",
       "      <td>444.369412</td>\n",
       "      <td>0.719169</td>\n",
       "      <td>0.989864</td>\n",
       "      <td>0.883730</td>\n",
       "      <td>0.843342</td>\n",
       "      <td>0.003398</td>\n",
       "      <td>0.001060</td>\n",
       "      <td>0.711225</td>\n",
       "      <td>0.997517</td>\n",
       "      <td>BOMBAY</td>\n",
       "    </tr>\n",
       "  </tbody>\n",
       "</table>\n",
       "</div>"
      ],
      "text/plain": [
       "       Area  Perimeter  MajorAxisLength  MinorAxisLength  AspectRation  \\\n",
       "458  148325   1454.931       549.733694       344.949850      1.593663   \n",
       "156  185350   1641.849       604.654587       392.941013      1.538792   \n",
       "282  169030   1570.870       586.924082       368.221092      1.593945   \n",
       "244  179166   1593.298       584.127095       392.759410      1.487239   \n",
       "417  153287   1484.785       534.754205       368.381092      1.451633   \n",
       "484  144083   1416.894       508.239887       362.822978      1.400793   \n",
       "138  184018   1653.655       627.833471       376.172939      1.669002   \n",
       "141  184362   1653.005       615.710417       384.505067      1.601306   \n",
       "359  158438   1527.500       569.152898       357.262876      1.593093   \n",
       "416  155088   1485.027       526.915088       375.687937      1.402534   \n",
       "\n",
       "     Eccentricity  ConvexArea  EquivDiameter    Extent  Solidity  roundness  \\\n",
       "458      0.778628      149846     434.572497  0.778887  0.989850   0.880520   \n",
       "156      0.760054      187679     485.793114  0.828002  0.987591   0.864044   \n",
       "282      0.778718      170989     463.913440  0.782438  0.988543   0.860782   \n",
       "244      0.740200      181118     477.620389  0.765614  0.989222   0.886893   \n",
       "417      0.724876      155347     441.781700  0.789708  0.986739   0.873752   \n",
       "484      0.700267      145241     428.313172  0.797034  0.992027   0.901878   \n",
       "138      0.800629      186286     484.044414  0.827896  0.987825   0.845630   \n",
       "141      0.781033      187863     484.496635  0.785094  0.981364   0.847877   \n",
       "359      0.778447      160009     449.143103  0.722231  0.990182   0.853310   \n",
       "416      0.701169      156676     444.369412  0.719169  0.989864   0.883730   \n",
       "\n",
       "     Compactness  ShapeFactor1  ShapeFactor2  ShapeFactor3  ShapeFactor4  \\\n",
       "458     0.790515      0.003706      0.000893      0.624913      0.995901   \n",
       "156     0.803423      0.003262      0.000838      0.645488      0.993272   \n",
       "282     0.790415      0.003472      0.000836      0.624755      0.995826   \n",
       "244     0.817665      0.003260      0.000899      0.668576      0.994333   \n",
       "417     0.826140      0.003489      0.001002      0.682507      0.990750   \n",
       "484     0.842738      0.003527      0.001098      0.710208      0.994854   \n",
       "138     0.770976      0.003412      0.000744      0.594404      0.992061   \n",
       "141     0.786890      0.003340      0.000790      0.619197      0.991523   \n",
       "359     0.789143      0.003592      0.000859      0.622747      0.992094   \n",
       "416     0.843342      0.003398      0.001060      0.711225      0.997517   \n",
       "\n",
       "      Class  \n",
       "458  BOMBAY  \n",
       "156  BOMBAY  \n",
       "282  BOMBAY  \n",
       "244  BOMBAY  \n",
       "417  BOMBAY  \n",
       "484  BOMBAY  \n",
       "138  BOMBAY  \n",
       "141  BOMBAY  \n",
       "359  BOMBAY  \n",
       "416  BOMBAY  "
      ]
     },
     "execution_count": 27,
     "metadata": {},
     "output_type": "execute_result"
    }
   ],
   "source": [
    "df_resample = resample(\n",
    "    df[df['MajorAxisLength'] > 500],\n",
    "    replace=True,\n",
    "    n_samples= 10)\n",
    "\n",
    "df_resample"
   ]
  },
  {
   "cell_type": "markdown",
   "metadata": {
    "id": "ulseW8lXkUu9"
   },
   "source": [
    "###**FASE DE PRÉ-PROCESSAMENTO DOS DADOS:** ***LIMPEZA DOS DADOS AUSENTES - MÉDIA***...Introduzir os dados ausentes com a média dos valores do atributo. **NOTA**: ***o banco não apresenta valores ausentes para substituir por média***"
   ]
  },
  {
   "cell_type": "code",
   "execution_count": 28,
   "metadata": {
    "colab": {
     "base_uri": "https://localhost:8080/",
     "height": 522
    },
    "executionInfo": {
     "elapsed": 341,
     "status": "ok",
     "timestamp": 1648572540975,
     "user": {
      "displayName": "FABIANA SILVA DE OLIVEIRA",
      "userId": "12187732007460211533"
     },
     "user_tz": 180
    },
    "id": "JvA6BH0D_eZI",
    "outputId": "7796f9cb-65e6-4437-92dd-8b6fbdc1d68c"
   },
   "outputs": [
    {
     "name": "stderr",
     "output_type": "stream",
     "text": [
      "C:\\Users\\laris\\AppData\\Local\\Temp\\ipykernel_28528\\2497120991.py:1: FutureWarning: Dropping of nuisance columns in DataFrame reductions (with 'numeric_only=None') is deprecated; in a future version this will raise TypeError.  Select only valid columns before calling the reduction.\n",
      "  df_fill = df.fillna(df.mean())\n"
     ]
    },
    {
     "data": {
      "text/html": [
       "<div>\n",
       "<style scoped>\n",
       "    .dataframe tbody tr th:only-of-type {\n",
       "        vertical-align: middle;\n",
       "    }\n",
       "\n",
       "    .dataframe tbody tr th {\n",
       "        vertical-align: top;\n",
       "    }\n",
       "\n",
       "    .dataframe thead th {\n",
       "        text-align: right;\n",
       "    }\n",
       "</style>\n",
       "<table border=\"1\" class=\"dataframe\">\n",
       "  <thead>\n",
       "    <tr style=\"text-align: right;\">\n",
       "      <th></th>\n",
       "      <th>Area</th>\n",
       "      <th>Perimeter</th>\n",
       "      <th>MajorAxisLength</th>\n",
       "      <th>MinorAxisLength</th>\n",
       "      <th>AspectRation</th>\n",
       "      <th>Eccentricity</th>\n",
       "      <th>ConvexArea</th>\n",
       "      <th>EquivDiameter</th>\n",
       "      <th>Extent</th>\n",
       "      <th>Solidity</th>\n",
       "      <th>roundness</th>\n",
       "      <th>Compactness</th>\n",
       "      <th>ShapeFactor1</th>\n",
       "      <th>ShapeFactor2</th>\n",
       "      <th>ShapeFactor3</th>\n",
       "      <th>ShapeFactor4</th>\n",
       "      <th>Class</th>\n",
       "    </tr>\n",
       "  </thead>\n",
       "  <tbody>\n",
       "    <tr>\n",
       "      <th>0</th>\n",
       "      <td>254616</td>\n",
       "      <td>1985.370</td>\n",
       "      <td>738.860153</td>\n",
       "      <td>447.418329</td>\n",
       "      <td>1.651386</td>\n",
       "      <td>0.795806</td>\n",
       "      <td>263261</td>\n",
       "      <td>569.374358</td>\n",
       "      <td>0.783747</td>\n",
       "      <td>0.967162</td>\n",
       "      <td>0.811732</td>\n",
       "      <td>0.770612</td>\n",
       "      <td>0.002902</td>\n",
       "      <td>0.000631</td>\n",
       "      <td>0.593843</td>\n",
       "      <td>0.980663</td>\n",
       "      <td>BOMBAY</td>\n",
       "    </tr>\n",
       "    <tr>\n",
       "      <th>1</th>\n",
       "      <td>237270</td>\n",
       "      <td>1921.685</td>\n",
       "      <td>738.144502</td>\n",
       "      <td>412.921647</td>\n",
       "      <td>1.787614</td>\n",
       "      <td>0.828895</td>\n",
       "      <td>240671</td>\n",
       "      <td>549.637650</td>\n",
       "      <td>0.784115</td>\n",
       "      <td>0.985869</td>\n",
       "      <td>0.807399</td>\n",
       "      <td>0.744621</td>\n",
       "      <td>0.003111</td>\n",
       "      <td>0.000590</td>\n",
       "      <td>0.554460</td>\n",
       "      <td>0.991160</td>\n",
       "      <td>BOMBAY</td>\n",
       "    </tr>\n",
       "    <tr>\n",
       "      <th>2</th>\n",
       "      <td>251432</td>\n",
       "      <td>1919.868</td>\n",
       "      <td>719.125690</td>\n",
       "      <td>450.926187</td>\n",
       "      <td>1.594775</td>\n",
       "      <td>0.778981</td>\n",
       "      <td>257425</td>\n",
       "      <td>565.803115</td>\n",
       "      <td>0.766776</td>\n",
       "      <td>0.976719</td>\n",
       "      <td>0.857211</td>\n",
       "      <td>0.786793</td>\n",
       "      <td>0.002860</td>\n",
       "      <td>0.000676</td>\n",
       "      <td>0.619043</td>\n",
       "      <td>0.987235</td>\n",
       "      <td>BOMBAY</td>\n",
       "    </tr>\n",
       "    <tr>\n",
       "      <th>3</th>\n",
       "      <td>241322</td>\n",
       "      <td>1895.940</td>\n",
       "      <td>726.373493</td>\n",
       "      <td>427.370120</td>\n",
       "      <td>1.699636</td>\n",
       "      <td>0.808598</td>\n",
       "      <td>244319</td>\n",
       "      <td>554.311026</td>\n",
       "      <td>0.820823</td>\n",
       "      <td>0.987733</td>\n",
       "      <td>0.843641</td>\n",
       "      <td>0.763121</td>\n",
       "      <td>0.003010</td>\n",
       "      <td>0.000630</td>\n",
       "      <td>0.582354</td>\n",
       "      <td>0.989790</td>\n",
       "      <td>BOMBAY</td>\n",
       "    </tr>\n",
       "    <tr>\n",
       "      <th>4</th>\n",
       "      <td>248424</td>\n",
       "      <td>1884.557</td>\n",
       "      <td>715.053040</td>\n",
       "      <td>446.043618</td>\n",
       "      <td>1.603101</td>\n",
       "      <td>0.781591</td>\n",
       "      <td>251082</td>\n",
       "      <td>562.408446</td>\n",
       "      <td>0.807536</td>\n",
       "      <td>0.989414</td>\n",
       "      <td>0.878992</td>\n",
       "      <td>0.786527</td>\n",
       "      <td>0.002878</td>\n",
       "      <td>0.000679</td>\n",
       "      <td>0.618625</td>\n",
       "      <td>0.991718</td>\n",
       "      <td>BOMBAY</td>\n",
       "    </tr>\n",
       "    <tr>\n",
       "      <th>...</th>\n",
       "      <td>...</td>\n",
       "      <td>...</td>\n",
       "      <td>...</td>\n",
       "      <td>...</td>\n",
       "      <td>...</td>\n",
       "      <td>...</td>\n",
       "      <td>...</td>\n",
       "      <td>...</td>\n",
       "      <td>...</td>\n",
       "      <td>...</td>\n",
       "      <td>...</td>\n",
       "      <td>...</td>\n",
       "      <td>...</td>\n",
       "      <td>...</td>\n",
       "      <td>...</td>\n",
       "      <td>...</td>\n",
       "      <td>...</td>\n",
       "    </tr>\n",
       "    <tr>\n",
       "      <th>13606</th>\n",
       "      <td>20942</td>\n",
       "      <td>530.683</td>\n",
       "      <td>191.176525</td>\n",
       "      <td>139.586402</td>\n",
       "      <td>1.369593</td>\n",
       "      <td>0.683293</td>\n",
       "      <td>21191</td>\n",
       "      <td>163.291710</td>\n",
       "      <td>0.742361</td>\n",
       "      <td>0.988250</td>\n",
       "      <td>0.934453</td>\n",
       "      <td>0.854141</td>\n",
       "      <td>0.009129</td>\n",
       "      <td>0.002997</td>\n",
       "      <td>0.729557</td>\n",
       "      <td>0.999196</td>\n",
       "      <td>DERMASON</td>\n",
       "    </tr>\n",
       "    <tr>\n",
       "      <th>13607</th>\n",
       "      <td>20464</td>\n",
       "      <td>528.408</td>\n",
       "      <td>191.249312</td>\n",
       "      <td>136.368462</td>\n",
       "      <td>1.402445</td>\n",
       "      <td>0.701123</td>\n",
       "      <td>20772</td>\n",
       "      <td>161.417391</td>\n",
       "      <td>0.747407</td>\n",
       "      <td>0.985172</td>\n",
       "      <td>0.921004</td>\n",
       "      <td>0.844016</td>\n",
       "      <td>0.009346</td>\n",
       "      <td>0.002925</td>\n",
       "      <td>0.712362</td>\n",
       "      <td>0.999049</td>\n",
       "      <td>DERMASON</td>\n",
       "    </tr>\n",
       "    <tr>\n",
       "      <th>13608</th>\n",
       "      <td>20711</td>\n",
       "      <td>525.413</td>\n",
       "      <td>186.079149</td>\n",
       "      <td>142.081680</td>\n",
       "      <td>1.309663</td>\n",
       "      <td>0.645743</td>\n",
       "      <td>20988</td>\n",
       "      <td>162.388621</td>\n",
       "      <td>0.793525</td>\n",
       "      <td>0.986802</td>\n",
       "      <td>0.942778</td>\n",
       "      <td>0.872686</td>\n",
       "      <td>0.008985</td>\n",
       "      <td>0.003214</td>\n",
       "      <td>0.761580</td>\n",
       "      <td>0.997414</td>\n",
       "      <td>DERMASON</td>\n",
       "    </tr>\n",
       "    <tr>\n",
       "      <th>13609</th>\n",
       "      <td>20420</td>\n",
       "      <td>524.932</td>\n",
       "      <td>183.601165</td>\n",
       "      <td>141.886215</td>\n",
       "      <td>1.294003</td>\n",
       "      <td>0.634655</td>\n",
       "      <td>20684</td>\n",
       "      <td>161.243764</td>\n",
       "      <td>0.790187</td>\n",
       "      <td>0.987237</td>\n",
       "      <td>0.931235</td>\n",
       "      <td>0.878228</td>\n",
       "      <td>0.008991</td>\n",
       "      <td>0.003299</td>\n",
       "      <td>0.771285</td>\n",
       "      <td>0.998045</td>\n",
       "      <td>DERMASON</td>\n",
       "    </tr>\n",
       "    <tr>\n",
       "      <th>13610</th>\n",
       "      <td>20548</td>\n",
       "      <td>524.736</td>\n",
       "      <td>183.965251</td>\n",
       "      <td>142.672388</td>\n",
       "      <td>1.289424</td>\n",
       "      <td>0.631299</td>\n",
       "      <td>20825</td>\n",
       "      <td>161.748342</td>\n",
       "      <td>0.759686</td>\n",
       "      <td>0.986699</td>\n",
       "      <td>0.937773</td>\n",
       "      <td>0.879233</td>\n",
       "      <td>0.008953</td>\n",
       "      <td>0.003300</td>\n",
       "      <td>0.773051</td>\n",
       "      <td>0.996791</td>\n",
       "      <td>DERMASON</td>\n",
       "    </tr>\n",
       "  </tbody>\n",
       "</table>\n",
       "<p>13611 rows × 17 columns</p>\n",
       "</div>"
      ],
      "text/plain": [
       "         Area  Perimeter  MajorAxisLength  MinorAxisLength  AspectRation  \\\n",
       "0      254616   1985.370       738.860153       447.418329      1.651386   \n",
       "1      237270   1921.685       738.144502       412.921647      1.787614   \n",
       "2      251432   1919.868       719.125690       450.926187      1.594775   \n",
       "3      241322   1895.940       726.373493       427.370120      1.699636   \n",
       "4      248424   1884.557       715.053040       446.043618      1.603101   \n",
       "...       ...        ...              ...              ...           ...   \n",
       "13606   20942    530.683       191.176525       139.586402      1.369593   \n",
       "13607   20464    528.408       191.249312       136.368462      1.402445   \n",
       "13608   20711    525.413       186.079149       142.081680      1.309663   \n",
       "13609   20420    524.932       183.601165       141.886215      1.294003   \n",
       "13610   20548    524.736       183.965251       142.672388      1.289424   \n",
       "\n",
       "       Eccentricity  ConvexArea  EquivDiameter    Extent  Solidity  roundness  \\\n",
       "0          0.795806      263261     569.374358  0.783747  0.967162   0.811732   \n",
       "1          0.828895      240671     549.637650  0.784115  0.985869   0.807399   \n",
       "2          0.778981      257425     565.803115  0.766776  0.976719   0.857211   \n",
       "3          0.808598      244319     554.311026  0.820823  0.987733   0.843641   \n",
       "4          0.781591      251082     562.408446  0.807536  0.989414   0.878992   \n",
       "...             ...         ...            ...       ...       ...        ...   \n",
       "13606      0.683293       21191     163.291710  0.742361  0.988250   0.934453   \n",
       "13607      0.701123       20772     161.417391  0.747407  0.985172   0.921004   \n",
       "13608      0.645743       20988     162.388621  0.793525  0.986802   0.942778   \n",
       "13609      0.634655       20684     161.243764  0.790187  0.987237   0.931235   \n",
       "13610      0.631299       20825     161.748342  0.759686  0.986699   0.937773   \n",
       "\n",
       "       Compactness  ShapeFactor1  ShapeFactor2  ShapeFactor3  ShapeFactor4  \\\n",
       "0         0.770612      0.002902      0.000631      0.593843      0.980663   \n",
       "1         0.744621      0.003111      0.000590      0.554460      0.991160   \n",
       "2         0.786793      0.002860      0.000676      0.619043      0.987235   \n",
       "3         0.763121      0.003010      0.000630      0.582354      0.989790   \n",
       "4         0.786527      0.002878      0.000679      0.618625      0.991718   \n",
       "...            ...           ...           ...           ...           ...   \n",
       "13606     0.854141      0.009129      0.002997      0.729557      0.999196   \n",
       "13607     0.844016      0.009346      0.002925      0.712362      0.999049   \n",
       "13608     0.872686      0.008985      0.003214      0.761580      0.997414   \n",
       "13609     0.878228      0.008991      0.003299      0.771285      0.998045   \n",
       "13610     0.879233      0.008953      0.003300      0.773051      0.996791   \n",
       "\n",
       "          Class  \n",
       "0        BOMBAY  \n",
       "1        BOMBAY  \n",
       "2        BOMBAY  \n",
       "3        BOMBAY  \n",
       "4        BOMBAY  \n",
       "...         ...  \n",
       "13606  DERMASON  \n",
       "13607  DERMASON  \n",
       "13608  DERMASON  \n",
       "13609  DERMASON  \n",
       "13610  DERMASON  \n",
       "\n",
       "[13611 rows x 17 columns]"
      ]
     },
     "execution_count": 28,
     "metadata": {},
     "output_type": "execute_result"
    }
   ],
   "source": [
    "df_fill = df.fillna(df.mean())\n",
    "df_fill"
   ]
  },
  {
   "cell_type": "markdown",
   "metadata": {
    "id": "gmqtsqeOqO3V"
   },
   "source": [
    "####***LIMPEZA DOS DADOS AUSENTES  - MEDIANA*** **...Introduzir os dados ausentes com a mediana(numero inteiro) dos valores do atributo. NOTA**: o banco não apresenta valores ausentes para substituir por mediana"
   ]
  },
  {
   "cell_type": "code",
   "execution_count": 29,
   "metadata": {
    "colab": {
     "base_uri": "https://localhost:8080/",
     "height": 522
    },
    "executionInfo": {
     "elapsed": 296,
     "status": "ok",
     "timestamp": 1648572549064,
     "user": {
      "displayName": "FABIANA SILVA DE OLIVEIRA",
      "userId": "12187732007460211533"
     },
     "user_tz": 180
    },
    "id": "1cuj_lH-6yv_",
    "outputId": "4fcf8041-93a1-4900-8137-90e1fcb81ddd"
   },
   "outputs": [
    {
     "name": "stderr",
     "output_type": "stream",
     "text": [
      "C:\\Users\\laris\\AppData\\Local\\Temp\\ipykernel_28528\\2581402616.py:1: FutureWarning: Dropping of nuisance columns in DataFrame reductions (with 'numeric_only=None') is deprecated; in a future version this will raise TypeError.  Select only valid columns before calling the reduction.\n",
      "  df_fill = df.fillna(df.median())\n"
     ]
    },
    {
     "data": {
      "text/html": [
       "<div>\n",
       "<style scoped>\n",
       "    .dataframe tbody tr th:only-of-type {\n",
       "        vertical-align: middle;\n",
       "    }\n",
       "\n",
       "    .dataframe tbody tr th {\n",
       "        vertical-align: top;\n",
       "    }\n",
       "\n",
       "    .dataframe thead th {\n",
       "        text-align: right;\n",
       "    }\n",
       "</style>\n",
       "<table border=\"1\" class=\"dataframe\">\n",
       "  <thead>\n",
       "    <tr style=\"text-align: right;\">\n",
       "      <th></th>\n",
       "      <th>Area</th>\n",
       "      <th>Perimeter</th>\n",
       "      <th>MajorAxisLength</th>\n",
       "      <th>MinorAxisLength</th>\n",
       "      <th>AspectRation</th>\n",
       "      <th>Eccentricity</th>\n",
       "      <th>ConvexArea</th>\n",
       "      <th>EquivDiameter</th>\n",
       "      <th>Extent</th>\n",
       "      <th>Solidity</th>\n",
       "      <th>roundness</th>\n",
       "      <th>Compactness</th>\n",
       "      <th>ShapeFactor1</th>\n",
       "      <th>ShapeFactor2</th>\n",
       "      <th>ShapeFactor3</th>\n",
       "      <th>ShapeFactor4</th>\n",
       "      <th>Class</th>\n",
       "    </tr>\n",
       "  </thead>\n",
       "  <tbody>\n",
       "    <tr>\n",
       "      <th>0</th>\n",
       "      <td>254616</td>\n",
       "      <td>1985.370</td>\n",
       "      <td>738.860153</td>\n",
       "      <td>447.418329</td>\n",
       "      <td>1.651386</td>\n",
       "      <td>0.795806</td>\n",
       "      <td>263261</td>\n",
       "      <td>569.374358</td>\n",
       "      <td>0.783747</td>\n",
       "      <td>0.967162</td>\n",
       "      <td>0.811732</td>\n",
       "      <td>0.770612</td>\n",
       "      <td>0.002902</td>\n",
       "      <td>0.000631</td>\n",
       "      <td>0.593843</td>\n",
       "      <td>0.980663</td>\n",
       "      <td>BOMBAY</td>\n",
       "    </tr>\n",
       "    <tr>\n",
       "      <th>1</th>\n",
       "      <td>237270</td>\n",
       "      <td>1921.685</td>\n",
       "      <td>738.144502</td>\n",
       "      <td>412.921647</td>\n",
       "      <td>1.787614</td>\n",
       "      <td>0.828895</td>\n",
       "      <td>240671</td>\n",
       "      <td>549.637650</td>\n",
       "      <td>0.784115</td>\n",
       "      <td>0.985869</td>\n",
       "      <td>0.807399</td>\n",
       "      <td>0.744621</td>\n",
       "      <td>0.003111</td>\n",
       "      <td>0.000590</td>\n",
       "      <td>0.554460</td>\n",
       "      <td>0.991160</td>\n",
       "      <td>BOMBAY</td>\n",
       "    </tr>\n",
       "    <tr>\n",
       "      <th>2</th>\n",
       "      <td>251432</td>\n",
       "      <td>1919.868</td>\n",
       "      <td>719.125690</td>\n",
       "      <td>450.926187</td>\n",
       "      <td>1.594775</td>\n",
       "      <td>0.778981</td>\n",
       "      <td>257425</td>\n",
       "      <td>565.803115</td>\n",
       "      <td>0.766776</td>\n",
       "      <td>0.976719</td>\n",
       "      <td>0.857211</td>\n",
       "      <td>0.786793</td>\n",
       "      <td>0.002860</td>\n",
       "      <td>0.000676</td>\n",
       "      <td>0.619043</td>\n",
       "      <td>0.987235</td>\n",
       "      <td>BOMBAY</td>\n",
       "    </tr>\n",
       "    <tr>\n",
       "      <th>3</th>\n",
       "      <td>241322</td>\n",
       "      <td>1895.940</td>\n",
       "      <td>726.373493</td>\n",
       "      <td>427.370120</td>\n",
       "      <td>1.699636</td>\n",
       "      <td>0.808598</td>\n",
       "      <td>244319</td>\n",
       "      <td>554.311026</td>\n",
       "      <td>0.820823</td>\n",
       "      <td>0.987733</td>\n",
       "      <td>0.843641</td>\n",
       "      <td>0.763121</td>\n",
       "      <td>0.003010</td>\n",
       "      <td>0.000630</td>\n",
       "      <td>0.582354</td>\n",
       "      <td>0.989790</td>\n",
       "      <td>BOMBAY</td>\n",
       "    </tr>\n",
       "    <tr>\n",
       "      <th>4</th>\n",
       "      <td>248424</td>\n",
       "      <td>1884.557</td>\n",
       "      <td>715.053040</td>\n",
       "      <td>446.043618</td>\n",
       "      <td>1.603101</td>\n",
       "      <td>0.781591</td>\n",
       "      <td>251082</td>\n",
       "      <td>562.408446</td>\n",
       "      <td>0.807536</td>\n",
       "      <td>0.989414</td>\n",
       "      <td>0.878992</td>\n",
       "      <td>0.786527</td>\n",
       "      <td>0.002878</td>\n",
       "      <td>0.000679</td>\n",
       "      <td>0.618625</td>\n",
       "      <td>0.991718</td>\n",
       "      <td>BOMBAY</td>\n",
       "    </tr>\n",
       "    <tr>\n",
       "      <th>...</th>\n",
       "      <td>...</td>\n",
       "      <td>...</td>\n",
       "      <td>...</td>\n",
       "      <td>...</td>\n",
       "      <td>...</td>\n",
       "      <td>...</td>\n",
       "      <td>...</td>\n",
       "      <td>...</td>\n",
       "      <td>...</td>\n",
       "      <td>...</td>\n",
       "      <td>...</td>\n",
       "      <td>...</td>\n",
       "      <td>...</td>\n",
       "      <td>...</td>\n",
       "      <td>...</td>\n",
       "      <td>...</td>\n",
       "      <td>...</td>\n",
       "    </tr>\n",
       "    <tr>\n",
       "      <th>13606</th>\n",
       "      <td>20942</td>\n",
       "      <td>530.683</td>\n",
       "      <td>191.176525</td>\n",
       "      <td>139.586402</td>\n",
       "      <td>1.369593</td>\n",
       "      <td>0.683293</td>\n",
       "      <td>21191</td>\n",
       "      <td>163.291710</td>\n",
       "      <td>0.742361</td>\n",
       "      <td>0.988250</td>\n",
       "      <td>0.934453</td>\n",
       "      <td>0.854141</td>\n",
       "      <td>0.009129</td>\n",
       "      <td>0.002997</td>\n",
       "      <td>0.729557</td>\n",
       "      <td>0.999196</td>\n",
       "      <td>DERMASON</td>\n",
       "    </tr>\n",
       "    <tr>\n",
       "      <th>13607</th>\n",
       "      <td>20464</td>\n",
       "      <td>528.408</td>\n",
       "      <td>191.249312</td>\n",
       "      <td>136.368462</td>\n",
       "      <td>1.402445</td>\n",
       "      <td>0.701123</td>\n",
       "      <td>20772</td>\n",
       "      <td>161.417391</td>\n",
       "      <td>0.747407</td>\n",
       "      <td>0.985172</td>\n",
       "      <td>0.921004</td>\n",
       "      <td>0.844016</td>\n",
       "      <td>0.009346</td>\n",
       "      <td>0.002925</td>\n",
       "      <td>0.712362</td>\n",
       "      <td>0.999049</td>\n",
       "      <td>DERMASON</td>\n",
       "    </tr>\n",
       "    <tr>\n",
       "      <th>13608</th>\n",
       "      <td>20711</td>\n",
       "      <td>525.413</td>\n",
       "      <td>186.079149</td>\n",
       "      <td>142.081680</td>\n",
       "      <td>1.309663</td>\n",
       "      <td>0.645743</td>\n",
       "      <td>20988</td>\n",
       "      <td>162.388621</td>\n",
       "      <td>0.793525</td>\n",
       "      <td>0.986802</td>\n",
       "      <td>0.942778</td>\n",
       "      <td>0.872686</td>\n",
       "      <td>0.008985</td>\n",
       "      <td>0.003214</td>\n",
       "      <td>0.761580</td>\n",
       "      <td>0.997414</td>\n",
       "      <td>DERMASON</td>\n",
       "    </tr>\n",
       "    <tr>\n",
       "      <th>13609</th>\n",
       "      <td>20420</td>\n",
       "      <td>524.932</td>\n",
       "      <td>183.601165</td>\n",
       "      <td>141.886215</td>\n",
       "      <td>1.294003</td>\n",
       "      <td>0.634655</td>\n",
       "      <td>20684</td>\n",
       "      <td>161.243764</td>\n",
       "      <td>0.790187</td>\n",
       "      <td>0.987237</td>\n",
       "      <td>0.931235</td>\n",
       "      <td>0.878228</td>\n",
       "      <td>0.008991</td>\n",
       "      <td>0.003299</td>\n",
       "      <td>0.771285</td>\n",
       "      <td>0.998045</td>\n",
       "      <td>DERMASON</td>\n",
       "    </tr>\n",
       "    <tr>\n",
       "      <th>13610</th>\n",
       "      <td>20548</td>\n",
       "      <td>524.736</td>\n",
       "      <td>183.965251</td>\n",
       "      <td>142.672388</td>\n",
       "      <td>1.289424</td>\n",
       "      <td>0.631299</td>\n",
       "      <td>20825</td>\n",
       "      <td>161.748342</td>\n",
       "      <td>0.759686</td>\n",
       "      <td>0.986699</td>\n",
       "      <td>0.937773</td>\n",
       "      <td>0.879233</td>\n",
       "      <td>0.008953</td>\n",
       "      <td>0.003300</td>\n",
       "      <td>0.773051</td>\n",
       "      <td>0.996791</td>\n",
       "      <td>DERMASON</td>\n",
       "    </tr>\n",
       "  </tbody>\n",
       "</table>\n",
       "<p>13611 rows × 17 columns</p>\n",
       "</div>"
      ],
      "text/plain": [
       "         Area  Perimeter  MajorAxisLength  MinorAxisLength  AspectRation  \\\n",
       "0      254616   1985.370       738.860153       447.418329      1.651386   \n",
       "1      237270   1921.685       738.144502       412.921647      1.787614   \n",
       "2      251432   1919.868       719.125690       450.926187      1.594775   \n",
       "3      241322   1895.940       726.373493       427.370120      1.699636   \n",
       "4      248424   1884.557       715.053040       446.043618      1.603101   \n",
       "...       ...        ...              ...              ...           ...   \n",
       "13606   20942    530.683       191.176525       139.586402      1.369593   \n",
       "13607   20464    528.408       191.249312       136.368462      1.402445   \n",
       "13608   20711    525.413       186.079149       142.081680      1.309663   \n",
       "13609   20420    524.932       183.601165       141.886215      1.294003   \n",
       "13610   20548    524.736       183.965251       142.672388      1.289424   \n",
       "\n",
       "       Eccentricity  ConvexArea  EquivDiameter    Extent  Solidity  roundness  \\\n",
       "0          0.795806      263261     569.374358  0.783747  0.967162   0.811732   \n",
       "1          0.828895      240671     549.637650  0.784115  0.985869   0.807399   \n",
       "2          0.778981      257425     565.803115  0.766776  0.976719   0.857211   \n",
       "3          0.808598      244319     554.311026  0.820823  0.987733   0.843641   \n",
       "4          0.781591      251082     562.408446  0.807536  0.989414   0.878992   \n",
       "...             ...         ...            ...       ...       ...        ...   \n",
       "13606      0.683293       21191     163.291710  0.742361  0.988250   0.934453   \n",
       "13607      0.701123       20772     161.417391  0.747407  0.985172   0.921004   \n",
       "13608      0.645743       20988     162.388621  0.793525  0.986802   0.942778   \n",
       "13609      0.634655       20684     161.243764  0.790187  0.987237   0.931235   \n",
       "13610      0.631299       20825     161.748342  0.759686  0.986699   0.937773   \n",
       "\n",
       "       Compactness  ShapeFactor1  ShapeFactor2  ShapeFactor3  ShapeFactor4  \\\n",
       "0         0.770612      0.002902      0.000631      0.593843      0.980663   \n",
       "1         0.744621      0.003111      0.000590      0.554460      0.991160   \n",
       "2         0.786793      0.002860      0.000676      0.619043      0.987235   \n",
       "3         0.763121      0.003010      0.000630      0.582354      0.989790   \n",
       "4         0.786527      0.002878      0.000679      0.618625      0.991718   \n",
       "...            ...           ...           ...           ...           ...   \n",
       "13606     0.854141      0.009129      0.002997      0.729557      0.999196   \n",
       "13607     0.844016      0.009346      0.002925      0.712362      0.999049   \n",
       "13608     0.872686      0.008985      0.003214      0.761580      0.997414   \n",
       "13609     0.878228      0.008991      0.003299      0.771285      0.998045   \n",
       "13610     0.879233      0.008953      0.003300      0.773051      0.996791   \n",
       "\n",
       "          Class  \n",
       "0        BOMBAY  \n",
       "1        BOMBAY  \n",
       "2        BOMBAY  \n",
       "3        BOMBAY  \n",
       "4        BOMBAY  \n",
       "...         ...  \n",
       "13606  DERMASON  \n",
       "13607  DERMASON  \n",
       "13608  DERMASON  \n",
       "13609  DERMASON  \n",
       "13610  DERMASON  \n",
       "\n",
       "[13611 rows x 17 columns]"
      ]
     },
     "execution_count": 29,
     "metadata": {},
     "output_type": "execute_result"
    }
   ],
   "source": [
    "df_fill = df.fillna(df.median())\n",
    "df_fill"
   ]
  },
  {
   "cell_type": "markdown",
   "metadata": {
    "id": "p0vg_BljsYRg"
   },
   "source": [
    "####***LIMPEZA DOS DADOS AUSENTES - MODA*** os dados ausentes com a MODA de um atributo especificado. **NOTA**: ***o banco não apresenta valores ausentes para substituir por MODA***"
   ]
  },
  {
   "cell_type": "code",
   "execution_count": 30,
   "metadata": {
    "colab": {
     "base_uri": "https://localhost:8080/"
    },
    "executionInfo": {
     "elapsed": 282,
     "status": "ok",
     "timestamp": 1648582394890,
     "user": {
      "displayName": "FABIANA SILVA DE OLIVEIRA",
      "userId": "12187732007460211533"
     },
     "user_tz": 180
    },
    "id": "Gf6CsLgQrt91",
    "outputId": "93e6993e-6f03-4df7-fd78-a5a2f1153673"
   },
   "outputs": [
    {
     "data": {
      "text/plain": [
       "0        738.860153\n",
       "1        738.144502\n",
       "2        719.125690\n",
       "3        726.373493\n",
       "4        715.053040\n",
       "            ...    \n",
       "13606    191.176525\n",
       "13607    191.249312\n",
       "13608    186.079149\n",
       "13609    183.601165\n",
       "13610    183.965251\n",
       "Name: MajorAxisLength, Length: 13611, dtype: float64"
      ]
     },
     "execution_count": 30,
     "metadata": {},
     "output_type": "execute_result"
    }
   ],
   "source": [
    "df['MajorAxisLength'] = df['MajorAxisLength'].fillna(df['MajorAxisLength'].mode()[0])\n",
    "df['MajorAxisLength']"
   ]
  },
  {
   "cell_type": "markdown",
   "metadata": {
    "id": "uB-5JpbhtJCs"
   },
   "source": [
    "###**FASE DE PRÉ-PROCESSAMENTO DOS DADOS:** ***TRANSFORMAÇÃO DOS DADOS  - CODIFICAÇÃO***...padronizar utilizando a função que substitui (replace) o valor númerico por texto  e virce versa"
   ]
  },
  {
   "cell_type": "code",
   "execution_count": 31,
   "metadata": {
    "id": "06IN9tQgBy-c"
   },
   "outputs": [],
   "source": [
    "cleanup_nums = {\"Class\": {'SEKER':1,'BARBUNYA':2,'BOMBAYER':3,'CALI':4,'HOROZ':5,'SIRA':6,'DERMASON':7}}"
   ]
  },
  {
   "cell_type": "code",
   "execution_count": 51,
   "metadata": {
    "colab": {
     "base_uri": "https://localhost:8080/",
     "height": 305
    },
    "executionInfo": {
     "elapsed": 281,
     "status": "ok",
     "timestamp": 1648583876207,
     "user": {
      "displayName": "FABIANA SILVA DE OLIVEIRA",
      "userId": "12187732007460211533"
     },
     "user_tz": 180
    },
    "id": "fmTv8FapEhle",
    "outputId": "35516cf3-0ee3-4fcd-8b78-fbd539b68234"
   },
   "outputs": [
    {
     "name": "stderr",
     "output_type": "stream",
     "text": [
      "C:\\Users\\laris\\AppData\\Local\\Temp\\ipykernel_28528\\1335140411.py:1: FutureWarning: Dropping of nuisance columns in DataFrame reductions (with 'numeric_only=None') is deprecated; in a future version this will raise TypeError.  Select only valid columns before calling the reduction.\n",
      "  df_fill = df.fillna(df.median())\n"
     ]
    },
    {
     "data": {
      "text/html": [
       "<div>\n",
       "<style scoped>\n",
       "    .dataframe tbody tr th:only-of-type {\n",
       "        vertical-align: middle;\n",
       "    }\n",
       "\n",
       "    .dataframe tbody tr th {\n",
       "        vertical-align: top;\n",
       "    }\n",
       "\n",
       "    .dataframe thead th {\n",
       "        text-align: right;\n",
       "    }\n",
       "</style>\n",
       "<table border=\"1\" class=\"dataframe\">\n",
       "  <thead>\n",
       "    <tr style=\"text-align: right;\">\n",
       "      <th></th>\n",
       "      <th>Area</th>\n",
       "      <th>Perimeter</th>\n",
       "      <th>MajorAxisLength</th>\n",
       "      <th>MinorAxisLength</th>\n",
       "      <th>AspectRation</th>\n",
       "      <th>Eccentricity</th>\n",
       "      <th>ConvexArea</th>\n",
       "      <th>EquivDiameter</th>\n",
       "      <th>Extent</th>\n",
       "      <th>Solidity</th>\n",
       "      <th>roundness</th>\n",
       "      <th>Compactness</th>\n",
       "      <th>ShapeFactor1</th>\n",
       "      <th>ShapeFactor2</th>\n",
       "      <th>ShapeFactor3</th>\n",
       "      <th>ShapeFactor4</th>\n",
       "      <th>Class</th>\n",
       "    </tr>\n",
       "  </thead>\n",
       "  <tbody>\n",
       "    <tr>\n",
       "      <th>0</th>\n",
       "      <td>254616</td>\n",
       "      <td>1985.370</td>\n",
       "      <td>738.860153</td>\n",
       "      <td>447.418329</td>\n",
       "      <td>1.651386</td>\n",
       "      <td>0.795806</td>\n",
       "      <td>263261</td>\n",
       "      <td>569.374358</td>\n",
       "      <td>0.783747</td>\n",
       "      <td>0.967162</td>\n",
       "      <td>0.811732</td>\n",
       "      <td>0.770612</td>\n",
       "      <td>0.002902</td>\n",
       "      <td>0.000631</td>\n",
       "      <td>0.593843</td>\n",
       "      <td>0.980663</td>\n",
       "      <td>BOMBAY</td>\n",
       "    </tr>\n",
       "    <tr>\n",
       "      <th>1</th>\n",
       "      <td>237270</td>\n",
       "      <td>1921.685</td>\n",
       "      <td>738.144502</td>\n",
       "      <td>412.921647</td>\n",
       "      <td>1.787614</td>\n",
       "      <td>0.828895</td>\n",
       "      <td>240671</td>\n",
       "      <td>549.637650</td>\n",
       "      <td>0.784115</td>\n",
       "      <td>0.985869</td>\n",
       "      <td>0.807399</td>\n",
       "      <td>0.744621</td>\n",
       "      <td>0.003111</td>\n",
       "      <td>0.000590</td>\n",
       "      <td>0.554460</td>\n",
       "      <td>0.991160</td>\n",
       "      <td>BOMBAY</td>\n",
       "    </tr>\n",
       "    <tr>\n",
       "      <th>2</th>\n",
       "      <td>251432</td>\n",
       "      <td>1919.868</td>\n",
       "      <td>719.125690</td>\n",
       "      <td>450.926187</td>\n",
       "      <td>1.594775</td>\n",
       "      <td>0.778981</td>\n",
       "      <td>257425</td>\n",
       "      <td>565.803115</td>\n",
       "      <td>0.766776</td>\n",
       "      <td>0.976719</td>\n",
       "      <td>0.857211</td>\n",
       "      <td>0.786793</td>\n",
       "      <td>0.002860</td>\n",
       "      <td>0.000676</td>\n",
       "      <td>0.619043</td>\n",
       "      <td>0.987235</td>\n",
       "      <td>BOMBAY</td>\n",
       "    </tr>\n",
       "    <tr>\n",
       "      <th>3</th>\n",
       "      <td>241322</td>\n",
       "      <td>1895.940</td>\n",
       "      <td>726.373493</td>\n",
       "      <td>427.370120</td>\n",
       "      <td>1.699636</td>\n",
       "      <td>0.808598</td>\n",
       "      <td>244319</td>\n",
       "      <td>554.311026</td>\n",
       "      <td>0.820823</td>\n",
       "      <td>0.987733</td>\n",
       "      <td>0.843641</td>\n",
       "      <td>0.763121</td>\n",
       "      <td>0.003010</td>\n",
       "      <td>0.000630</td>\n",
       "      <td>0.582354</td>\n",
       "      <td>0.989790</td>\n",
       "      <td>BOMBAY</td>\n",
       "    </tr>\n",
       "    <tr>\n",
       "      <th>4</th>\n",
       "      <td>248424</td>\n",
       "      <td>1884.557</td>\n",
       "      <td>715.053040</td>\n",
       "      <td>446.043618</td>\n",
       "      <td>1.603101</td>\n",
       "      <td>0.781591</td>\n",
       "      <td>251082</td>\n",
       "      <td>562.408446</td>\n",
       "      <td>0.807536</td>\n",
       "      <td>0.989414</td>\n",
       "      <td>0.878992</td>\n",
       "      <td>0.786527</td>\n",
       "      <td>0.002878</td>\n",
       "      <td>0.000679</td>\n",
       "      <td>0.618625</td>\n",
       "      <td>0.991718</td>\n",
       "      <td>BOMBAY</td>\n",
       "    </tr>\n",
       "  </tbody>\n",
       "</table>\n",
       "</div>"
      ],
      "text/plain": [
       "     Area  Perimeter  MajorAxisLength  MinorAxisLength  AspectRation  \\\n",
       "0  254616   1985.370       738.860153       447.418329      1.651386   \n",
       "1  237270   1921.685       738.144502       412.921647      1.787614   \n",
       "2  251432   1919.868       719.125690       450.926187      1.594775   \n",
       "3  241322   1895.940       726.373493       427.370120      1.699636   \n",
       "4  248424   1884.557       715.053040       446.043618      1.603101   \n",
       "\n",
       "   Eccentricity  ConvexArea  EquivDiameter    Extent  Solidity  roundness  \\\n",
       "0      0.795806      263261     569.374358  0.783747  0.967162   0.811732   \n",
       "1      0.828895      240671     549.637650  0.784115  0.985869   0.807399   \n",
       "2      0.778981      257425     565.803115  0.766776  0.976719   0.857211   \n",
       "3      0.808598      244319     554.311026  0.820823  0.987733   0.843641   \n",
       "4      0.781591      251082     562.408446  0.807536  0.989414   0.878992   \n",
       "\n",
       "   Compactness  ShapeFactor1  ShapeFactor2  ShapeFactor3  ShapeFactor4   Class  \n",
       "0     0.770612      0.002902      0.000631      0.593843      0.980663  BOMBAY  \n",
       "1     0.744621      0.003111      0.000590      0.554460      0.991160  BOMBAY  \n",
       "2     0.786793      0.002860      0.000676      0.619043      0.987235  BOMBAY  \n",
       "3     0.763121      0.003010      0.000630      0.582354      0.989790  BOMBAY  \n",
       "4     0.786527      0.002878      0.000679      0.618625      0.991718  BOMBAY  "
      ]
     },
     "execution_count": 51,
     "metadata": {},
     "output_type": "execute_result"
    }
   ],
   "source": [
    "df_fill = df.fillna(df.median())\n",
    "df_fill\n",
    "\n",
    "df_replaced = df.replace(cleanup_nums)\n",
    "df_replaced.head()"
   ]
  },
  {
   "cell_type": "code",
   "execution_count": 52,
   "metadata": {
    "colab": {
     "base_uri": "https://localhost:8080/",
     "height": 270
    },
    "executionInfo": {
     "elapsed": 284,
     "status": "ok",
     "timestamp": 1648583864164,
     "user": {
      "displayName": "FABIANA SILVA DE OLIVEIRA",
      "userId": "12187732007460211533"
     },
     "user_tz": 180
    },
    "id": "P5jSoxecPBrR",
    "outputId": "64aafae5-adaa-4f5f-ecce-a7d0e2409ae8"
   },
   "outputs": [
    {
     "data": {
      "text/html": [
       "<div>\n",
       "<style scoped>\n",
       "    .dataframe tbody tr th:only-of-type {\n",
       "        vertical-align: middle;\n",
       "    }\n",
       "\n",
       "    .dataframe tbody tr th {\n",
       "        vertical-align: top;\n",
       "    }\n",
       "\n",
       "    .dataframe thead th {\n",
       "        text-align: right;\n",
       "    }\n",
       "</style>\n",
       "<table border=\"1\" class=\"dataframe\">\n",
       "  <thead>\n",
       "    <tr style=\"text-align: right;\">\n",
       "      <th></th>\n",
       "      <th>Area</th>\n",
       "      <th>Perimeter</th>\n",
       "      <th>MajorAxisLength</th>\n",
       "      <th>MinorAxisLength</th>\n",
       "      <th>AspectRation</th>\n",
       "      <th>Eccentricity</th>\n",
       "      <th>ConvexArea</th>\n",
       "      <th>EquivDiameter</th>\n",
       "      <th>Extent</th>\n",
       "      <th>Solidity</th>\n",
       "      <th>roundness</th>\n",
       "      <th>Compactness</th>\n",
       "      <th>ShapeFactor1</th>\n",
       "      <th>ShapeFactor2</th>\n",
       "      <th>ShapeFactor3</th>\n",
       "      <th>ShapeFactor4</th>\n",
       "      <th>Class</th>\n",
       "    </tr>\n",
       "  </thead>\n",
       "  <tbody>\n",
       "    <tr>\n",
       "      <th>0</th>\n",
       "      <td>254616</td>\n",
       "      <td>1985.370</td>\n",
       "      <td>738.860153</td>\n",
       "      <td>447.418329</td>\n",
       "      <td>1.651386</td>\n",
       "      <td>0.795806</td>\n",
       "      <td>263261</td>\n",
       "      <td>569.374358</td>\n",
       "      <td>0.783747</td>\n",
       "      <td>0.967162</td>\n",
       "      <td>0.811732</td>\n",
       "      <td>0.770612</td>\n",
       "      <td>0.002902</td>\n",
       "      <td>0.000631</td>\n",
       "      <td>0.593843</td>\n",
       "      <td>0.980663</td>\n",
       "      <td>BOMBAY</td>\n",
       "    </tr>\n",
       "    <tr>\n",
       "      <th>1</th>\n",
       "      <td>237270</td>\n",
       "      <td>1921.685</td>\n",
       "      <td>738.144502</td>\n",
       "      <td>412.921647</td>\n",
       "      <td>1.787614</td>\n",
       "      <td>0.828895</td>\n",
       "      <td>240671</td>\n",
       "      <td>549.637650</td>\n",
       "      <td>0.784115</td>\n",
       "      <td>0.985869</td>\n",
       "      <td>0.807399</td>\n",
       "      <td>0.744621</td>\n",
       "      <td>0.003111</td>\n",
       "      <td>0.000590</td>\n",
       "      <td>0.554460</td>\n",
       "      <td>0.991160</td>\n",
       "      <td>BOMBAY</td>\n",
       "    </tr>\n",
       "    <tr>\n",
       "      <th>2</th>\n",
       "      <td>251432</td>\n",
       "      <td>1919.868</td>\n",
       "      <td>719.125690</td>\n",
       "      <td>450.926187</td>\n",
       "      <td>1.594775</td>\n",
       "      <td>0.778981</td>\n",
       "      <td>257425</td>\n",
       "      <td>565.803115</td>\n",
       "      <td>0.766776</td>\n",
       "      <td>0.976719</td>\n",
       "      <td>0.857211</td>\n",
       "      <td>0.786793</td>\n",
       "      <td>0.002860</td>\n",
       "      <td>0.000676</td>\n",
       "      <td>0.619043</td>\n",
       "      <td>0.987235</td>\n",
       "      <td>BOMBAY</td>\n",
       "    </tr>\n",
       "    <tr>\n",
       "      <th>3</th>\n",
       "      <td>241322</td>\n",
       "      <td>1895.940</td>\n",
       "      <td>726.373493</td>\n",
       "      <td>427.370120</td>\n",
       "      <td>1.699636</td>\n",
       "      <td>0.808598</td>\n",
       "      <td>244319</td>\n",
       "      <td>554.311026</td>\n",
       "      <td>0.820823</td>\n",
       "      <td>0.987733</td>\n",
       "      <td>0.843641</td>\n",
       "      <td>0.763121</td>\n",
       "      <td>0.003010</td>\n",
       "      <td>0.000630</td>\n",
       "      <td>0.582354</td>\n",
       "      <td>0.989790</td>\n",
       "      <td>BOMBAY</td>\n",
       "    </tr>\n",
       "    <tr>\n",
       "      <th>4</th>\n",
       "      <td>248424</td>\n",
       "      <td>1884.557</td>\n",
       "      <td>715.053040</td>\n",
       "      <td>446.043618</td>\n",
       "      <td>1.603101</td>\n",
       "      <td>0.781591</td>\n",
       "      <td>251082</td>\n",
       "      <td>562.408446</td>\n",
       "      <td>0.807536</td>\n",
       "      <td>0.989414</td>\n",
       "      <td>0.878992</td>\n",
       "      <td>0.786527</td>\n",
       "      <td>0.002878</td>\n",
       "      <td>0.000679</td>\n",
       "      <td>0.618625</td>\n",
       "      <td>0.991718</td>\n",
       "      <td>BOMBAY</td>\n",
       "    </tr>\n",
       "  </tbody>\n",
       "</table>\n",
       "</div>"
      ],
      "text/plain": [
       "     Area  Perimeter  MajorAxisLength  MinorAxisLength  AspectRation  \\\n",
       "0  254616   1985.370       738.860153       447.418329      1.651386   \n",
       "1  237270   1921.685       738.144502       412.921647      1.787614   \n",
       "2  251432   1919.868       719.125690       450.926187      1.594775   \n",
       "3  241322   1895.940       726.373493       427.370120      1.699636   \n",
       "4  248424   1884.557       715.053040       446.043618      1.603101   \n",
       "\n",
       "   Eccentricity  ConvexArea  EquivDiameter    Extent  Solidity  roundness  \\\n",
       "0      0.795806      263261     569.374358  0.783747  0.967162   0.811732   \n",
       "1      0.828895      240671     549.637650  0.784115  0.985869   0.807399   \n",
       "2      0.778981      257425     565.803115  0.766776  0.976719   0.857211   \n",
       "3      0.808598      244319     554.311026  0.820823  0.987733   0.843641   \n",
       "4      0.781591      251082     562.408446  0.807536  0.989414   0.878992   \n",
       "\n",
       "   Compactness  ShapeFactor1  ShapeFactor2  ShapeFactor3  ShapeFactor4   Class  \n",
       "0     0.770612      0.002902      0.000631      0.593843      0.980663  BOMBAY  \n",
       "1     0.744621      0.003111      0.000590      0.554460      0.991160  BOMBAY  \n",
       "2     0.786793      0.002860      0.000676      0.619043      0.987235  BOMBAY  \n",
       "3     0.763121      0.003010      0.000630      0.582354      0.989790  BOMBAY  \n",
       "4     0.786527      0.002878      0.000679      0.618625      0.991718  BOMBAY  "
      ]
     },
     "execution_count": 52,
     "metadata": {},
     "output_type": "execute_result"
    }
   ],
   "source": [
    "cleanup_nums = {\"Class\": {1:'SEKER',2:'BARBUNYA',3:'BOMBAYER',4:'CALI',5:'HOROZ',6:'SIRA',7:'DERMASON'}}\n",
    "df_replaced = df.replace(cleanup_nums)\n",
    "df_replaced.head()"
   ]
  },
  {
   "cell_type": "markdown",
   "metadata": {
    "id": "5l-8RPg_xRjn"
   },
   "source": [
    "####***TRANSFORMAÇÃO DOS DADOS  - CODIFICAÇÃO***...para alterar o conteudo substituido de Maiúsculo / minúsculo função que substitui (upper / lower) . A exemplo apenas minúsculo."
   ]
  },
  {
   "cell_type": "code",
   "execution_count": 53,
   "metadata": {
    "colab": {
     "base_uri": "https://localhost:8080/",
     "height": 270
    },
    "executionInfo": {
     "elapsed": 289,
     "status": "ok",
     "timestamp": 1648583458606,
     "user": {
      "displayName": "FABIANA SILVA DE OLIVEIRA",
      "userId": "12187732007460211533"
     },
     "user_tz": 180
    },
    "id": "MNx1VZjEGMxE",
    "outputId": "d0ed9feb-21e2-4640-90bf-865d04040418"
   },
   "outputs": [
    {
     "data": {
      "text/html": [
       "<div>\n",
       "<style scoped>\n",
       "    .dataframe tbody tr th:only-of-type {\n",
       "        vertical-align: middle;\n",
       "    }\n",
       "\n",
       "    .dataframe tbody tr th {\n",
       "        vertical-align: top;\n",
       "    }\n",
       "\n",
       "    .dataframe thead th {\n",
       "        text-align: right;\n",
       "    }\n",
       "</style>\n",
       "<table border=\"1\" class=\"dataframe\">\n",
       "  <thead>\n",
       "    <tr style=\"text-align: right;\">\n",
       "      <th></th>\n",
       "      <th>Area</th>\n",
       "      <th>Perimeter</th>\n",
       "      <th>MajorAxisLength</th>\n",
       "      <th>MinorAxisLength</th>\n",
       "      <th>AspectRation</th>\n",
       "      <th>Eccentricity</th>\n",
       "      <th>ConvexArea</th>\n",
       "      <th>EquivDiameter</th>\n",
       "      <th>Extent</th>\n",
       "      <th>Solidity</th>\n",
       "      <th>roundness</th>\n",
       "      <th>Compactness</th>\n",
       "      <th>ShapeFactor1</th>\n",
       "      <th>ShapeFactor2</th>\n",
       "      <th>ShapeFactor3</th>\n",
       "      <th>ShapeFactor4</th>\n",
       "      <th>Class</th>\n",
       "    </tr>\n",
       "  </thead>\n",
       "  <tbody>\n",
       "    <tr>\n",
       "      <th>0</th>\n",
       "      <td>254616</td>\n",
       "      <td>1985.370</td>\n",
       "      <td>738.860153</td>\n",
       "      <td>447.418329</td>\n",
       "      <td>1.651386</td>\n",
       "      <td>0.795806</td>\n",
       "      <td>263261</td>\n",
       "      <td>569.374358</td>\n",
       "      <td>0.783747</td>\n",
       "      <td>0.967162</td>\n",
       "      <td>0.811732</td>\n",
       "      <td>0.770612</td>\n",
       "      <td>0.002902</td>\n",
       "      <td>0.000631</td>\n",
       "      <td>0.593843</td>\n",
       "      <td>0.980663</td>\n",
       "      <td>bombay</td>\n",
       "    </tr>\n",
       "    <tr>\n",
       "      <th>1</th>\n",
       "      <td>237270</td>\n",
       "      <td>1921.685</td>\n",
       "      <td>738.144502</td>\n",
       "      <td>412.921647</td>\n",
       "      <td>1.787614</td>\n",
       "      <td>0.828895</td>\n",
       "      <td>240671</td>\n",
       "      <td>549.637650</td>\n",
       "      <td>0.784115</td>\n",
       "      <td>0.985869</td>\n",
       "      <td>0.807399</td>\n",
       "      <td>0.744621</td>\n",
       "      <td>0.003111</td>\n",
       "      <td>0.000590</td>\n",
       "      <td>0.554460</td>\n",
       "      <td>0.991160</td>\n",
       "      <td>bombay</td>\n",
       "    </tr>\n",
       "    <tr>\n",
       "      <th>2</th>\n",
       "      <td>251432</td>\n",
       "      <td>1919.868</td>\n",
       "      <td>719.125690</td>\n",
       "      <td>450.926187</td>\n",
       "      <td>1.594775</td>\n",
       "      <td>0.778981</td>\n",
       "      <td>257425</td>\n",
       "      <td>565.803115</td>\n",
       "      <td>0.766776</td>\n",
       "      <td>0.976719</td>\n",
       "      <td>0.857211</td>\n",
       "      <td>0.786793</td>\n",
       "      <td>0.002860</td>\n",
       "      <td>0.000676</td>\n",
       "      <td>0.619043</td>\n",
       "      <td>0.987235</td>\n",
       "      <td>bombay</td>\n",
       "    </tr>\n",
       "    <tr>\n",
       "      <th>3</th>\n",
       "      <td>241322</td>\n",
       "      <td>1895.940</td>\n",
       "      <td>726.373493</td>\n",
       "      <td>427.370120</td>\n",
       "      <td>1.699636</td>\n",
       "      <td>0.808598</td>\n",
       "      <td>244319</td>\n",
       "      <td>554.311026</td>\n",
       "      <td>0.820823</td>\n",
       "      <td>0.987733</td>\n",
       "      <td>0.843641</td>\n",
       "      <td>0.763121</td>\n",
       "      <td>0.003010</td>\n",
       "      <td>0.000630</td>\n",
       "      <td>0.582354</td>\n",
       "      <td>0.989790</td>\n",
       "      <td>bombay</td>\n",
       "    </tr>\n",
       "    <tr>\n",
       "      <th>4</th>\n",
       "      <td>248424</td>\n",
       "      <td>1884.557</td>\n",
       "      <td>715.053040</td>\n",
       "      <td>446.043618</td>\n",
       "      <td>1.603101</td>\n",
       "      <td>0.781591</td>\n",
       "      <td>251082</td>\n",
       "      <td>562.408446</td>\n",
       "      <td>0.807536</td>\n",
       "      <td>0.989414</td>\n",
       "      <td>0.878992</td>\n",
       "      <td>0.786527</td>\n",
       "      <td>0.002878</td>\n",
       "      <td>0.000679</td>\n",
       "      <td>0.618625</td>\n",
       "      <td>0.991718</td>\n",
       "      <td>bombay</td>\n",
       "    </tr>\n",
       "  </tbody>\n",
       "</table>\n",
       "</div>"
      ],
      "text/plain": [
       "     Area  Perimeter  MajorAxisLength  MinorAxisLength  AspectRation  \\\n",
       "0  254616   1985.370       738.860153       447.418329      1.651386   \n",
       "1  237270   1921.685       738.144502       412.921647      1.787614   \n",
       "2  251432   1919.868       719.125690       450.926187      1.594775   \n",
       "3  241322   1895.940       726.373493       427.370120      1.699636   \n",
       "4  248424   1884.557       715.053040       446.043618      1.603101   \n",
       "\n",
       "   Eccentricity  ConvexArea  EquivDiameter    Extent  Solidity  roundness  \\\n",
       "0      0.795806      263261     569.374358  0.783747  0.967162   0.811732   \n",
       "1      0.828895      240671     549.637650  0.784115  0.985869   0.807399   \n",
       "2      0.778981      257425     565.803115  0.766776  0.976719   0.857211   \n",
       "3      0.808598      244319     554.311026  0.820823  0.987733   0.843641   \n",
       "4      0.781591      251082     562.408446  0.807536  0.989414   0.878992   \n",
       "\n",
       "   Compactness  ShapeFactor1  ShapeFactor2  ShapeFactor3  ShapeFactor4   Class  \n",
       "0     0.770612      0.002902      0.000631      0.593843      0.980663  bombay  \n",
       "1     0.744621      0.003111      0.000590      0.554460      0.991160  bombay  \n",
       "2     0.786793      0.002860      0.000676      0.619043      0.987235  bombay  \n",
       "3     0.763121      0.003010      0.000630      0.582354      0.989790  bombay  \n",
       "4     0.786527      0.002878      0.000679      0.618625      0.991718  bombay  "
      ]
     },
     "execution_count": 53,
     "metadata": {},
     "output_type": "execute_result"
    }
   ],
   "source": [
    "cleanup_nums = {\"Class\": {1:'SEKER',2:'BARBUNYA',3:'BOMBAYER',4:'CALI',5:'HOROZ',6:'SIRA',7:'DERMASON'}}\n",
    "df_replaced = df.replace(cleanup_nums)\n",
    "df_replaced['Class'] = df_replaced['Class'].str.lower()\n",
    "df_replaced.head() "
   ]
  },
  {
   "cell_type": "markdown",
   "metadata": {
    "id": "WigisLUq4WTo"
   },
   "source": [
    "####**FASE DE PRÉ-PROCESSAMENTO DOS DADOS:** ***TRANSFORMAÇÃO DOS DADOS  - PARTIÇÃO***...Partição - dividir o problema para resolver por partes com a função (**train_test_split.**) - a função parte o banco no atributo especificado (Class) com percentual: no exemplo 50% --> 0,5"
   ]
  },
  {
   "cell_type": "code",
   "execution_count": 55,
   "metadata": {
    "id": "VHY8OV5VLOPh"
   },
   "outputs": [],
   "source": [
    "x = df.drop(columns='Class')\n",
    "y = df['Class']"
   ]
  },
  {
   "cell_type": "code",
   "execution_count": 56,
   "metadata": {
    "colab": {
     "base_uri": "https://localhost:8080/",
     "height": 487
    },
    "executionInfo": {
     "elapsed": 305,
     "status": "ok",
     "timestamp": 1648428171715,
     "user": {
      "displayName": "FABIANA SILVA DE OLIVEIRA",
      "photoUrl": "https://lh3.googleusercontent.com/a-/AOh14GgM9kq4K6oT-rhMt6Mxg9CPYEyIZzvUWeP2qkDk=s64",
      "userId": "12187732007460211533"
     },
     "user_tz": 180
    },
    "id": "8IGYAC0XLk9x",
    "outputId": "7a9829e8-150e-4a8d-eb2e-38ac8546e4f3"
   },
   "outputs": [
    {
     "data": {
      "text/html": [
       "<div>\n",
       "<style scoped>\n",
       "    .dataframe tbody tr th:only-of-type {\n",
       "        vertical-align: middle;\n",
       "    }\n",
       "\n",
       "    .dataframe tbody tr th {\n",
       "        vertical-align: top;\n",
       "    }\n",
       "\n",
       "    .dataframe thead th {\n",
       "        text-align: right;\n",
       "    }\n",
       "</style>\n",
       "<table border=\"1\" class=\"dataframe\">\n",
       "  <thead>\n",
       "    <tr style=\"text-align: right;\">\n",
       "      <th></th>\n",
       "      <th>Area</th>\n",
       "      <th>Perimeter</th>\n",
       "      <th>MajorAxisLength</th>\n",
       "      <th>MinorAxisLength</th>\n",
       "      <th>AspectRation</th>\n",
       "      <th>Eccentricity</th>\n",
       "      <th>ConvexArea</th>\n",
       "      <th>EquivDiameter</th>\n",
       "      <th>Extent</th>\n",
       "      <th>Solidity</th>\n",
       "      <th>roundness</th>\n",
       "      <th>Compactness</th>\n",
       "      <th>ShapeFactor1</th>\n",
       "      <th>ShapeFactor2</th>\n",
       "      <th>ShapeFactor3</th>\n",
       "      <th>ShapeFactor4</th>\n",
       "    </tr>\n",
       "  </thead>\n",
       "  <tbody>\n",
       "    <tr>\n",
       "      <th>12536</th>\n",
       "      <td>28608</td>\n",
       "      <td>636.556</td>\n",
       "      <td>231.668354</td>\n",
       "      <td>157.454941</td>\n",
       "      <td>1.471331</td>\n",
       "      <td>0.733530</td>\n",
       "      <td>28983</td>\n",
       "      <td>190.852920</td>\n",
       "      <td>0.743606</td>\n",
       "      <td>0.987061</td>\n",
       "      <td>0.887205</td>\n",
       "      <td>0.823820</td>\n",
       "      <td>0.008098</td>\n",
       "      <td>0.002301</td>\n",
       "      <td>0.678679</td>\n",
       "      <td>0.998561</td>\n",
       "    </tr>\n",
       "    <tr>\n",
       "      <th>2633</th>\n",
       "      <td>67085</td>\n",
       "      <td>1019.709</td>\n",
       "      <td>369.738211</td>\n",
       "      <td>232.520652</td>\n",
       "      <td>1.590131</td>\n",
       "      <td>0.777503</td>\n",
       "      <td>68180</td>\n",
       "      <td>292.258918</td>\n",
       "      <td>0.770233</td>\n",
       "      <td>0.983940</td>\n",
       "      <td>0.810742</td>\n",
       "      <td>0.790448</td>\n",
       "      <td>0.005511</td>\n",
       "      <td>0.001327</td>\n",
       "      <td>0.624808</td>\n",
       "      <td>0.993527</td>\n",
       "    </tr>\n",
       "    <tr>\n",
       "      <th>6330</th>\n",
       "      <td>45720</td>\n",
       "      <td>811.304</td>\n",
       "      <td>301.139747</td>\n",
       "      <td>194.651217</td>\n",
       "      <td>1.547074</td>\n",
       "      <td>0.763014</td>\n",
       "      <td>46396</td>\n",
       "      <td>241.272692</td>\n",
       "      <td>0.733503</td>\n",
       "      <td>0.985430</td>\n",
       "      <td>0.872869</td>\n",
       "      <td>0.801198</td>\n",
       "      <td>0.006587</td>\n",
       "      <td>0.001674</td>\n",
       "      <td>0.641919</td>\n",
       "      <td>0.993096</td>\n",
       "    </tr>\n",
       "    <tr>\n",
       "      <th>6248</th>\n",
       "      <td>46590</td>\n",
       "      <td>814.364</td>\n",
       "      <td>308.868878</td>\n",
       "      <td>192.678803</td>\n",
       "      <td>1.603025</td>\n",
       "      <td>0.781567</td>\n",
       "      <td>47140</td>\n",
       "      <td>243.557448</td>\n",
       "      <td>0.734951</td>\n",
       "      <td>0.988333</td>\n",
       "      <td>0.882806</td>\n",
       "      <td>0.788546</td>\n",
       "      <td>0.006630</td>\n",
       "      <td>0.001581</td>\n",
       "      <td>0.621805</td>\n",
       "      <td>0.996769</td>\n",
       "    </tr>\n",
       "    <tr>\n",
       "      <th>12677</th>\n",
       "      <td>29037</td>\n",
       "      <td>630.512</td>\n",
       "      <td>227.940664</td>\n",
       "      <td>162.670975</td>\n",
       "      <td>1.401237</td>\n",
       "      <td>0.700497</td>\n",
       "      <td>29391</td>\n",
       "      <td>192.278591</td>\n",
       "      <td>0.750291</td>\n",
       "      <td>0.987955</td>\n",
       "      <td>0.917857</td>\n",
       "      <td>0.843547</td>\n",
       "      <td>0.007850</td>\n",
       "      <td>0.002452</td>\n",
       "      <td>0.711571</td>\n",
       "      <td>0.997080</td>\n",
       "    </tr>\n",
       "    <tr>\n",
       "      <th>...</th>\n",
       "      <td>...</td>\n",
       "      <td>...</td>\n",
       "      <td>...</td>\n",
       "      <td>...</td>\n",
       "      <td>...</td>\n",
       "      <td>...</td>\n",
       "      <td>...</td>\n",
       "      <td>...</td>\n",
       "      <td>...</td>\n",
       "      <td>...</td>\n",
       "      <td>...</td>\n",
       "      <td>...</td>\n",
       "      <td>...</td>\n",
       "      <td>...</td>\n",
       "      <td>...</td>\n",
       "      <td>...</td>\n",
       "    </tr>\n",
       "    <tr>\n",
       "      <th>3874</th>\n",
       "      <td>53679</td>\n",
       "      <td>949.603</td>\n",
       "      <td>354.397129</td>\n",
       "      <td>195.980161</td>\n",
       "      <td>1.808332</td>\n",
       "      <td>0.833184</td>\n",
       "      <td>54804</td>\n",
       "      <td>261.431110</td>\n",
       "      <td>0.715386</td>\n",
       "      <td>0.979472</td>\n",
       "      <td>0.748049</td>\n",
       "      <td>0.737678</td>\n",
       "      <td>0.006602</td>\n",
       "      <td>0.001206</td>\n",
       "      <td>0.544169</td>\n",
       "      <td>0.984039</td>\n",
       "    </tr>\n",
       "    <tr>\n",
       "      <th>3761</th>\n",
       "      <td>60595</td>\n",
       "      <td>956.082</td>\n",
       "      <td>327.743449</td>\n",
       "      <td>236.189925</td>\n",
       "      <td>1.387627</td>\n",
       "      <td>0.693294</td>\n",
       "      <td>61552</td>\n",
       "      <td>277.762399</td>\n",
       "      <td>0.738495</td>\n",
       "      <td>0.984452</td>\n",
       "      <td>0.833022</td>\n",
       "      <td>0.847499</td>\n",
       "      <td>0.005409</td>\n",
       "      <td>0.001721</td>\n",
       "      <td>0.718255</td>\n",
       "      <td>0.996670</td>\n",
       "    </tr>\n",
       "    <tr>\n",
       "      <th>10201</th>\n",
       "      <td>37318</td>\n",
       "      <td>703.664</td>\n",
       "      <td>254.544174</td>\n",
       "      <td>186.940569</td>\n",
       "      <td>1.361632</td>\n",
       "      <td>0.678703</td>\n",
       "      <td>37643</td>\n",
       "      <td>217.978791</td>\n",
       "      <td>0.760319</td>\n",
       "      <td>0.991366</td>\n",
       "      <td>0.947104</td>\n",
       "      <td>0.856350</td>\n",
       "      <td>0.006821</td>\n",
       "      <td>0.002263</td>\n",
       "      <td>0.733335</td>\n",
       "      <td>0.998531</td>\n",
       "    </tr>\n",
       "    <tr>\n",
       "      <th>7372</th>\n",
       "      <td>43528</td>\n",
       "      <td>777.324</td>\n",
       "      <td>287.110813</td>\n",
       "      <td>193.886454</td>\n",
       "      <td>1.480819</td>\n",
       "      <td>0.737541</td>\n",
       "      <td>43983</td>\n",
       "      <td>235.417864</td>\n",
       "      <td>0.736764</td>\n",
       "      <td>0.989655</td>\n",
       "      <td>0.905262</td>\n",
       "      <td>0.819955</td>\n",
       "      <td>0.006596</td>\n",
       "      <td>0.001839</td>\n",
       "      <td>0.672326</td>\n",
       "      <td>0.995593</td>\n",
       "    </tr>\n",
       "    <tr>\n",
       "      <th>12555</th>\n",
       "      <td>28809</td>\n",
       "      <td>635.921</td>\n",
       "      <td>239.766072</td>\n",
       "      <td>153.539630</td>\n",
       "      <td>1.561591</td>\n",
       "      <td>0.768064</td>\n",
       "      <td>29166</td>\n",
       "      <td>191.522213</td>\n",
       "      <td>0.711123</td>\n",
       "      <td>0.987760</td>\n",
       "      <td>0.895224</td>\n",
       "      <td>0.798788</td>\n",
       "      <td>0.008323</td>\n",
       "      <td>0.002090</td>\n",
       "      <td>0.638062</td>\n",
       "      <td>0.996392</td>\n",
       "    </tr>\n",
       "  </tbody>\n",
       "</table>\n",
       "<p>6805 rows × 16 columns</p>\n",
       "</div>"
      ],
      "text/plain": [
       "        Area  Perimeter  MajorAxisLength  MinorAxisLength  AspectRation  \\\n",
       "12536  28608    636.556       231.668354       157.454941      1.471331   \n",
       "2633   67085   1019.709       369.738211       232.520652      1.590131   \n",
       "6330   45720    811.304       301.139747       194.651217      1.547074   \n",
       "6248   46590    814.364       308.868878       192.678803      1.603025   \n",
       "12677  29037    630.512       227.940664       162.670975      1.401237   \n",
       "...      ...        ...              ...              ...           ...   \n",
       "3874   53679    949.603       354.397129       195.980161      1.808332   \n",
       "3761   60595    956.082       327.743449       236.189925      1.387627   \n",
       "10201  37318    703.664       254.544174       186.940569      1.361632   \n",
       "7372   43528    777.324       287.110813       193.886454      1.480819   \n",
       "12555  28809    635.921       239.766072       153.539630      1.561591   \n",
       "\n",
       "       Eccentricity  ConvexArea  EquivDiameter    Extent  Solidity  roundness  \\\n",
       "12536      0.733530       28983     190.852920  0.743606  0.987061   0.887205   \n",
       "2633       0.777503       68180     292.258918  0.770233  0.983940   0.810742   \n",
       "6330       0.763014       46396     241.272692  0.733503  0.985430   0.872869   \n",
       "6248       0.781567       47140     243.557448  0.734951  0.988333   0.882806   \n",
       "12677      0.700497       29391     192.278591  0.750291  0.987955   0.917857   \n",
       "...             ...         ...            ...       ...       ...        ...   \n",
       "3874       0.833184       54804     261.431110  0.715386  0.979472   0.748049   \n",
       "3761       0.693294       61552     277.762399  0.738495  0.984452   0.833022   \n",
       "10201      0.678703       37643     217.978791  0.760319  0.991366   0.947104   \n",
       "7372       0.737541       43983     235.417864  0.736764  0.989655   0.905262   \n",
       "12555      0.768064       29166     191.522213  0.711123  0.987760   0.895224   \n",
       "\n",
       "       Compactness  ShapeFactor1  ShapeFactor2  ShapeFactor3  ShapeFactor4  \n",
       "12536     0.823820      0.008098      0.002301      0.678679      0.998561  \n",
       "2633      0.790448      0.005511      0.001327      0.624808      0.993527  \n",
       "6330      0.801198      0.006587      0.001674      0.641919      0.993096  \n",
       "6248      0.788546      0.006630      0.001581      0.621805      0.996769  \n",
       "12677     0.843547      0.007850      0.002452      0.711571      0.997080  \n",
       "...            ...           ...           ...           ...           ...  \n",
       "3874      0.737678      0.006602      0.001206      0.544169      0.984039  \n",
       "3761      0.847499      0.005409      0.001721      0.718255      0.996670  \n",
       "10201     0.856350      0.006821      0.002263      0.733335      0.998531  \n",
       "7372      0.819955      0.006596      0.001839      0.672326      0.995593  \n",
       "12555     0.798788      0.008323      0.002090      0.638062      0.996392  \n",
       "\n",
       "[6805 rows x 16 columns]"
      ]
     },
     "execution_count": 56,
     "metadata": {},
     "output_type": "execute_result"
    }
   ],
   "source": [
    "x_train, x_test, y_train, y_test = train_test_split(x, y, test_size=0.5)\n",
    "\n",
    "x_train"
   ]
  },
  {
   "cell_type": "code",
   "execution_count": 57,
   "metadata": {
    "colab": {
     "base_uri": "https://localhost:8080/",
     "height": 487
    },
    "executionInfo": {
     "elapsed": 298,
     "status": "ok",
     "timestamp": 1648428176494,
     "user": {
      "displayName": "FABIANA SILVA DE OLIVEIRA",
      "photoUrl": "https://lh3.googleusercontent.com/a-/AOh14GgM9kq4K6oT-rhMt6Mxg9CPYEyIZzvUWeP2qkDk=s64",
      "userId": "12187732007460211533"
     },
     "user_tz": 180
    },
    "id": "27KoUvO5MAMg",
    "outputId": "95f16984-7d2d-4950-e43b-a3d59ca57a91"
   },
   "outputs": [
    {
     "data": {
      "text/html": [
       "<div>\n",
       "<style scoped>\n",
       "    .dataframe tbody tr th:only-of-type {\n",
       "        vertical-align: middle;\n",
       "    }\n",
       "\n",
       "    .dataframe tbody tr th {\n",
       "        vertical-align: top;\n",
       "    }\n",
       "\n",
       "    .dataframe thead th {\n",
       "        text-align: right;\n",
       "    }\n",
       "</style>\n",
       "<table border=\"1\" class=\"dataframe\">\n",
       "  <thead>\n",
       "    <tr style=\"text-align: right;\">\n",
       "      <th></th>\n",
       "      <th>Area</th>\n",
       "      <th>Perimeter</th>\n",
       "      <th>MajorAxisLength</th>\n",
       "      <th>MinorAxisLength</th>\n",
       "      <th>AspectRation</th>\n",
       "      <th>Eccentricity</th>\n",
       "      <th>ConvexArea</th>\n",
       "      <th>EquivDiameter</th>\n",
       "      <th>Extent</th>\n",
       "      <th>Solidity</th>\n",
       "      <th>roundness</th>\n",
       "      <th>Compactness</th>\n",
       "      <th>ShapeFactor1</th>\n",
       "      <th>ShapeFactor2</th>\n",
       "      <th>ShapeFactor3</th>\n",
       "      <th>ShapeFactor4</th>\n",
       "    </tr>\n",
       "  </thead>\n",
       "  <tbody>\n",
       "    <tr>\n",
       "      <th>9113</th>\n",
       "      <td>38060</td>\n",
       "      <td>730.117</td>\n",
       "      <td>271.425266</td>\n",
       "      <td>178.960215</td>\n",
       "      <td>1.516679</td>\n",
       "      <td>0.751849</td>\n",
       "      <td>38544</td>\n",
       "      <td>220.135179</td>\n",
       "      <td>0.719593</td>\n",
       "      <td>0.987443</td>\n",
       "      <td>0.897209</td>\n",
       "      <td>0.811034</td>\n",
       "      <td>0.007132</td>\n",
       "      <td>0.001903</td>\n",
       "      <td>0.657777</td>\n",
       "      <td>0.997636</td>\n",
       "    </tr>\n",
       "    <tr>\n",
       "      <th>7245</th>\n",
       "      <td>43204</td>\n",
       "      <td>781.451</td>\n",
       "      <td>263.351276</td>\n",
       "      <td>209.881626</td>\n",
       "      <td>1.254761</td>\n",
       "      <td>0.604026</td>\n",
       "      <td>44006</td>\n",
       "      <td>234.540063</td>\n",
       "      <td>0.729181</td>\n",
       "      <td>0.981775</td>\n",
       "      <td>0.889058</td>\n",
       "      <td>0.890598</td>\n",
       "      <td>0.006096</td>\n",
       "      <td>0.002365</td>\n",
       "      <td>0.793164</td>\n",
       "      <td>0.995232</td>\n",
       "    </tr>\n",
       "    <tr>\n",
       "      <th>8899</th>\n",
       "      <td>38169</td>\n",
       "      <td>735.359</td>\n",
       "      <td>276.217673</td>\n",
       "      <td>176.647530</td>\n",
       "      <td>1.563666</td>\n",
       "      <td>0.768772</td>\n",
       "      <td>38731</td>\n",
       "      <td>220.450176</td>\n",
       "      <td>0.771029</td>\n",
       "      <td>0.985490</td>\n",
       "      <td>0.886996</td>\n",
       "      <td>0.798103</td>\n",
       "      <td>0.007237</td>\n",
       "      <td>0.001811</td>\n",
       "      <td>0.636969</td>\n",
       "      <td>0.996006</td>\n",
       "    </tr>\n",
       "    <tr>\n",
       "      <th>4211</th>\n",
       "      <td>53574</td>\n",
       "      <td>927.901</td>\n",
       "      <td>377.779943</td>\n",
       "      <td>181.843432</td>\n",
       "      <td>2.077501</td>\n",
       "      <td>0.876530</td>\n",
       "      <td>54126</td>\n",
       "      <td>261.175296</td>\n",
       "      <td>0.824736</td>\n",
       "      <td>0.989802</td>\n",
       "      <td>0.781917</td>\n",
       "      <td>0.691342</td>\n",
       "      <td>0.007052</td>\n",
       "      <td>0.000994</td>\n",
       "      <td>0.477954</td>\n",
       "      <td>0.992951</td>\n",
       "    </tr>\n",
       "    <tr>\n",
       "      <th>6137</th>\n",
       "      <td>46746</td>\n",
       "      <td>818.623</td>\n",
       "      <td>317.669208</td>\n",
       "      <td>187.819159</td>\n",
       "      <td>1.691357</td>\n",
       "      <td>0.806495</td>\n",
       "      <td>47249</td>\n",
       "      <td>243.964866</td>\n",
       "      <td>0.789362</td>\n",
       "      <td>0.989354</td>\n",
       "      <td>0.876570</td>\n",
       "      <td>0.767984</td>\n",
       "      <td>0.006796</td>\n",
       "      <td>0.001458</td>\n",
       "      <td>0.589799</td>\n",
       "      <td>0.997561</td>\n",
       "    </tr>\n",
       "    <tr>\n",
       "      <th>...</th>\n",
       "      <td>...</td>\n",
       "      <td>...</td>\n",
       "      <td>...</td>\n",
       "      <td>...</td>\n",
       "      <td>...</td>\n",
       "      <td>...</td>\n",
       "      <td>...</td>\n",
       "      <td>...</td>\n",
       "      <td>...</td>\n",
       "      <td>...</td>\n",
       "      <td>...</td>\n",
       "      <td>...</td>\n",
       "      <td>...</td>\n",
       "      <td>...</td>\n",
       "      <td>...</td>\n",
       "      <td>...</td>\n",
       "    </tr>\n",
       "    <tr>\n",
       "      <th>13415</th>\n",
       "      <td>25860</td>\n",
       "      <td>585.720</td>\n",
       "      <td>213.946006</td>\n",
       "      <td>154.102230</td>\n",
       "      <td>1.388338</td>\n",
       "      <td>0.693678</td>\n",
       "      <td>26144</td>\n",
       "      <td>181.455159</td>\n",
       "      <td>0.792085</td>\n",
       "      <td>0.989137</td>\n",
       "      <td>0.947236</td>\n",
       "      <td>0.848135</td>\n",
       "      <td>0.008273</td>\n",
       "      <td>0.002641</td>\n",
       "      <td>0.719333</td>\n",
       "      <td>0.998678</td>\n",
       "    </tr>\n",
       "    <tr>\n",
       "      <th>5492</th>\n",
       "      <td>48585</td>\n",
       "      <td>847.239</td>\n",
       "      <td>309.276516</td>\n",
       "      <td>200.865495</td>\n",
       "      <td>1.539719</td>\n",
       "      <td>0.760388</td>\n",
       "      <td>49351</td>\n",
       "      <td>248.717396</td>\n",
       "      <td>0.698311</td>\n",
       "      <td>0.984479</td>\n",
       "      <td>0.850551</td>\n",
       "      <td>0.804191</td>\n",
       "      <td>0.006366</td>\n",
       "      <td>0.001642</td>\n",
       "      <td>0.646723</td>\n",
       "      <td>0.995772</td>\n",
       "    </tr>\n",
       "    <tr>\n",
       "      <th>1272</th>\n",
       "      <td>78838</td>\n",
       "      <td>1101.545</td>\n",
       "      <td>439.598771</td>\n",
       "      <td>230.806897</td>\n",
       "      <td>1.904617</td>\n",
       "      <td>0.851078</td>\n",
       "      <td>79863</td>\n",
       "      <td>316.827491</td>\n",
       "      <td>0.754922</td>\n",
       "      <td>0.987166</td>\n",
       "      <td>0.816471</td>\n",
       "      <td>0.720720</td>\n",
       "      <td>0.005576</td>\n",
       "      <td>0.000928</td>\n",
       "      <td>0.519437</td>\n",
       "      <td>0.989328</td>\n",
       "    </tr>\n",
       "    <tr>\n",
       "      <th>4887</th>\n",
       "      <td>53230</td>\n",
       "      <td>885.093</td>\n",
       "      <td>336.365933</td>\n",
       "      <td>202.594361</td>\n",
       "      <td>1.660293</td>\n",
       "      <td>0.798267</td>\n",
       "      <td>54029</td>\n",
       "      <td>260.335439</td>\n",
       "      <td>0.685830</td>\n",
       "      <td>0.985212</td>\n",
       "      <td>0.853864</td>\n",
       "      <td>0.773965</td>\n",
       "      <td>0.006319</td>\n",
       "      <td>0.001399</td>\n",
       "      <td>0.599022</td>\n",
       "      <td>0.994551</td>\n",
       "    </tr>\n",
       "    <tr>\n",
       "      <th>9767</th>\n",
       "      <td>39261</td>\n",
       "      <td>714.215</td>\n",
       "      <td>243.405493</td>\n",
       "      <td>205.562735</td>\n",
       "      <td>1.184093</td>\n",
       "      <td>0.535512</td>\n",
       "      <td>39589</td>\n",
       "      <td>223.581434</td>\n",
       "      <td>0.779468</td>\n",
       "      <td>0.991715</td>\n",
       "      <td>0.967193</td>\n",
       "      <td>0.918555</td>\n",
       "      <td>0.006200</td>\n",
       "      <td>0.002723</td>\n",
       "      <td>0.843744</td>\n",
       "      <td>0.999072</td>\n",
       "    </tr>\n",
       "  </tbody>\n",
       "</table>\n",
       "<p>6806 rows × 16 columns</p>\n",
       "</div>"
      ],
      "text/plain": [
       "        Area  Perimeter  MajorAxisLength  MinorAxisLength  AspectRation  \\\n",
       "9113   38060    730.117       271.425266       178.960215      1.516679   \n",
       "7245   43204    781.451       263.351276       209.881626      1.254761   \n",
       "8899   38169    735.359       276.217673       176.647530      1.563666   \n",
       "4211   53574    927.901       377.779943       181.843432      2.077501   \n",
       "6137   46746    818.623       317.669208       187.819159      1.691357   \n",
       "...      ...        ...              ...              ...           ...   \n",
       "13415  25860    585.720       213.946006       154.102230      1.388338   \n",
       "5492   48585    847.239       309.276516       200.865495      1.539719   \n",
       "1272   78838   1101.545       439.598771       230.806897      1.904617   \n",
       "4887   53230    885.093       336.365933       202.594361      1.660293   \n",
       "9767   39261    714.215       243.405493       205.562735      1.184093   \n",
       "\n",
       "       Eccentricity  ConvexArea  EquivDiameter    Extent  Solidity  roundness  \\\n",
       "9113       0.751849       38544     220.135179  0.719593  0.987443   0.897209   \n",
       "7245       0.604026       44006     234.540063  0.729181  0.981775   0.889058   \n",
       "8899       0.768772       38731     220.450176  0.771029  0.985490   0.886996   \n",
       "4211       0.876530       54126     261.175296  0.824736  0.989802   0.781917   \n",
       "6137       0.806495       47249     243.964866  0.789362  0.989354   0.876570   \n",
       "...             ...         ...            ...       ...       ...        ...   \n",
       "13415      0.693678       26144     181.455159  0.792085  0.989137   0.947236   \n",
       "5492       0.760388       49351     248.717396  0.698311  0.984479   0.850551   \n",
       "1272       0.851078       79863     316.827491  0.754922  0.987166   0.816471   \n",
       "4887       0.798267       54029     260.335439  0.685830  0.985212   0.853864   \n",
       "9767       0.535512       39589     223.581434  0.779468  0.991715   0.967193   \n",
       "\n",
       "       Compactness  ShapeFactor1  ShapeFactor2  ShapeFactor3  ShapeFactor4  \n",
       "9113      0.811034      0.007132      0.001903      0.657777      0.997636  \n",
       "7245      0.890598      0.006096      0.002365      0.793164      0.995232  \n",
       "8899      0.798103      0.007237      0.001811      0.636969      0.996006  \n",
       "4211      0.691342      0.007052      0.000994      0.477954      0.992951  \n",
       "6137      0.767984      0.006796      0.001458      0.589799      0.997561  \n",
       "...            ...           ...           ...           ...           ...  \n",
       "13415     0.848135      0.008273      0.002641      0.719333      0.998678  \n",
       "5492      0.804191      0.006366      0.001642      0.646723      0.995772  \n",
       "1272      0.720720      0.005576      0.000928      0.519437      0.989328  \n",
       "4887      0.773965      0.006319      0.001399      0.599022      0.994551  \n",
       "9767      0.918555      0.006200      0.002723      0.843744      0.999072  \n",
       "\n",
       "[6806 rows x 16 columns]"
      ]
     },
     "execution_count": 57,
     "metadata": {},
     "output_type": "execute_result"
    }
   ],
   "source": [
    "x_test"
   ]
  },
  {
   "cell_type": "markdown",
   "metadata": {
    "id": "5nhg7kGwOqc2"
   },
   "source": [
    "#**ANÁLISE DESCRITIVA DOS DADOS**"
   ]
  },
  {
   "cell_type": "code",
   "execution_count": 50,
   "metadata": {
    "id": "ELYnXDRxO0D-"
   },
   "outputs": [],
   "source": [
    "import numpy as np\n",
    "import pandas as pd\n",
    "import seaborn as sns\n",
    "\n",
    "import matplotlib.pyplot as plt\n",
    "from matplotlib.ticker import PercentFormatter\n",
    "\n",
    "import collections"
   ]
  },
  {
   "cell_type": "code",
   "execution_count": 49,
   "metadata": {
    "id": "HLu634VVO49G"
   },
   "outputs": [],
   "source": [
    "df= pd.read_excel(\"Dry_Bean_Dataset.xlsx\")"
   ]
  },
  {
   "cell_type": "code",
   "execution_count": 48,
   "metadata": {
    "colab": {
     "base_uri": "https://localhost:8080/"
    },
    "executionInfo": {
     "elapsed": 259,
     "status": "ok",
     "timestamp": 1648587001162,
     "user": {
      "displayName": "FABIANA SILVA DE OLIVEIRA",
      "userId": "12187732007460211533"
     },
     "user_tz": 180
    },
    "id": "sxQeWi75PDaK",
    "outputId": "82dfeefd-c424-46cd-cd93-2798ee106749"
   },
   "outputs": [
    {
     "data": {
      "text/plain": [
       "(13543, 17)"
      ]
     },
     "execution_count": 48,
     "metadata": {},
     "output_type": "execute_result"
    }
   ],
   "source": [
    "df.shape\n",
    "df_duplicates.shape\n"
   ]
  },
  {
   "cell_type": "code",
   "execution_count": 47,
   "metadata": {
    "colab": {
     "base_uri": "https://localhost:8080/",
     "height": 426
    },
    "executionInfo": {
     "elapsed": 258,
     "status": "ok",
     "timestamp": 1648587004392,
     "user": {
      "displayName": "FABIANA SILVA DE OLIVEIRA",
      "userId": "12187732007460211533"
     },
     "user_tz": 180
    },
    "id": "5S0XdYS7PKGu",
    "outputId": "f202decf-d121-4a15-be4e-3d740d1e02e6"
   },
   "outputs": [
    {
     "data": {
      "text/html": [
       "<div>\n",
       "<style scoped>\n",
       "    .dataframe tbody tr th:only-of-type {\n",
       "        vertical-align: middle;\n",
       "    }\n",
       "\n",
       "    .dataframe tbody tr th {\n",
       "        vertical-align: top;\n",
       "    }\n",
       "\n",
       "    .dataframe thead th {\n",
       "        text-align: right;\n",
       "    }\n",
       "</style>\n",
       "<table border=\"1\" class=\"dataframe\">\n",
       "  <thead>\n",
       "    <tr style=\"text-align: right;\">\n",
       "      <th></th>\n",
       "      <th>Area</th>\n",
       "      <th>Perimeter</th>\n",
       "      <th>MajorAxisLength</th>\n",
       "      <th>MinorAxisLength</th>\n",
       "      <th>AspectRation</th>\n",
       "      <th>Eccentricity</th>\n",
       "      <th>ConvexArea</th>\n",
       "      <th>EquivDiameter</th>\n",
       "      <th>Extent</th>\n",
       "      <th>Solidity</th>\n",
       "      <th>roundness</th>\n",
       "      <th>Compactness</th>\n",
       "      <th>ShapeFactor1</th>\n",
       "      <th>ShapeFactor2</th>\n",
       "      <th>ShapeFactor3</th>\n",
       "      <th>ShapeFactor4</th>\n",
       "      <th>Class</th>\n",
       "    </tr>\n",
       "  </thead>\n",
       "  <tbody>\n",
       "    <tr>\n",
       "      <th>0</th>\n",
       "      <td>254616</td>\n",
       "      <td>1985.370</td>\n",
       "      <td>738.860153</td>\n",
       "      <td>447.418329</td>\n",
       "      <td>1.651386</td>\n",
       "      <td>0.795806</td>\n",
       "      <td>263261</td>\n",
       "      <td>569.374358</td>\n",
       "      <td>0.783747</td>\n",
       "      <td>0.967162</td>\n",
       "      <td>0.811732</td>\n",
       "      <td>0.770612</td>\n",
       "      <td>0.002902</td>\n",
       "      <td>0.000631</td>\n",
       "      <td>0.593843</td>\n",
       "      <td>0.980663</td>\n",
       "      <td>BOMBAY</td>\n",
       "    </tr>\n",
       "    <tr>\n",
       "      <th>1</th>\n",
       "      <td>237270</td>\n",
       "      <td>1921.685</td>\n",
       "      <td>738.144502</td>\n",
       "      <td>412.921647</td>\n",
       "      <td>1.787614</td>\n",
       "      <td>0.828895</td>\n",
       "      <td>240671</td>\n",
       "      <td>549.637650</td>\n",
       "      <td>0.784115</td>\n",
       "      <td>0.985869</td>\n",
       "      <td>0.807399</td>\n",
       "      <td>0.744621</td>\n",
       "      <td>0.003111</td>\n",
       "      <td>0.000590</td>\n",
       "      <td>0.554460</td>\n",
       "      <td>0.991160</td>\n",
       "      <td>BOMBAY</td>\n",
       "    </tr>\n",
       "    <tr>\n",
       "      <th>2</th>\n",
       "      <td>251432</td>\n",
       "      <td>1919.868</td>\n",
       "      <td>719.125690</td>\n",
       "      <td>450.926187</td>\n",
       "      <td>1.594775</td>\n",
       "      <td>0.778981</td>\n",
       "      <td>257425</td>\n",
       "      <td>565.803115</td>\n",
       "      <td>0.766776</td>\n",
       "      <td>0.976719</td>\n",
       "      <td>0.857211</td>\n",
       "      <td>0.786793</td>\n",
       "      <td>0.002860</td>\n",
       "      <td>0.000676</td>\n",
       "      <td>0.619043</td>\n",
       "      <td>0.987235</td>\n",
       "      <td>BOMBAY</td>\n",
       "    </tr>\n",
       "    <tr>\n",
       "      <th>3</th>\n",
       "      <td>241322</td>\n",
       "      <td>1895.940</td>\n",
       "      <td>726.373493</td>\n",
       "      <td>427.370120</td>\n",
       "      <td>1.699636</td>\n",
       "      <td>0.808598</td>\n",
       "      <td>244319</td>\n",
       "      <td>554.311026</td>\n",
       "      <td>0.820823</td>\n",
       "      <td>0.987733</td>\n",
       "      <td>0.843641</td>\n",
       "      <td>0.763121</td>\n",
       "      <td>0.003010</td>\n",
       "      <td>0.000630</td>\n",
       "      <td>0.582354</td>\n",
       "      <td>0.989790</td>\n",
       "      <td>BOMBAY</td>\n",
       "    </tr>\n",
       "    <tr>\n",
       "      <th>4</th>\n",
       "      <td>248424</td>\n",
       "      <td>1884.557</td>\n",
       "      <td>715.053040</td>\n",
       "      <td>446.043618</td>\n",
       "      <td>1.603101</td>\n",
       "      <td>0.781591</td>\n",
       "      <td>251082</td>\n",
       "      <td>562.408446</td>\n",
       "      <td>0.807536</td>\n",
       "      <td>0.989414</td>\n",
       "      <td>0.878992</td>\n",
       "      <td>0.786527</td>\n",
       "      <td>0.002878</td>\n",
       "      <td>0.000679</td>\n",
       "      <td>0.618625</td>\n",
       "      <td>0.991718</td>\n",
       "      <td>BOMBAY</td>\n",
       "    </tr>\n",
       "    <tr>\n",
       "      <th>5</th>\n",
       "      <td>234898</td>\n",
       "      <td>1869.885</td>\n",
       "      <td>695.137630</td>\n",
       "      <td>432.589420</td>\n",
       "      <td>1.606922</td>\n",
       "      <td>0.782773</td>\n",
       "      <td>238265</td>\n",
       "      <td>546.883372</td>\n",
       "      <td>0.799468</td>\n",
       "      <td>0.985869</td>\n",
       "      <td>0.844227</td>\n",
       "      <td>0.786727</td>\n",
       "      <td>0.002959</td>\n",
       "      <td>0.000699</td>\n",
       "      <td>0.618939</td>\n",
       "      <td>0.994587</td>\n",
       "      <td>BOMBAY</td>\n",
       "    </tr>\n",
       "    <tr>\n",
       "      <th>6</th>\n",
       "      <td>213022</td>\n",
       "      <td>1849.699</td>\n",
       "      <td>721.216098</td>\n",
       "      <td>384.377969</td>\n",
       "      <td>1.876320</td>\n",
       "      <td>0.846142</td>\n",
       "      <td>218065</td>\n",
       "      <td>520.795578</td>\n",
       "      <td>0.737514</td>\n",
       "      <td>0.976874</td>\n",
       "      <td>0.782406</td>\n",
       "      <td>0.722108</td>\n",
       "      <td>0.003386</td>\n",
       "      <td>0.000568</td>\n",
       "      <td>0.521439</td>\n",
       "      <td>0.978387</td>\n",
       "      <td>BOMBAY</td>\n",
       "    </tr>\n",
       "    <tr>\n",
       "      <th>7</th>\n",
       "      <td>233751</td>\n",
       "      <td>1849.371</td>\n",
       "      <td>706.993076</td>\n",
       "      <td>423.527988</td>\n",
       "      <td>1.669295</td>\n",
       "      <td>0.800708</td>\n",
       "      <td>237344</td>\n",
       "      <td>545.546530</td>\n",
       "      <td>0.819205</td>\n",
       "      <td>0.984862</td>\n",
       "      <td>0.858846</td>\n",
       "      <td>0.771643</td>\n",
       "      <td>0.003025</td>\n",
       "      <td>0.000661</td>\n",
       "      <td>0.595434</td>\n",
       "      <td>0.993954</td>\n",
       "      <td>BOMBAY</td>\n",
       "    </tr>\n",
       "    <tr>\n",
       "      <th>8</th>\n",
       "      <td>222737</td>\n",
       "      <td>1847.940</td>\n",
       "      <td>722.494068</td>\n",
       "      <td>396.696971</td>\n",
       "      <td>1.821274</td>\n",
       "      <td>0.835779</td>\n",
       "      <td>225516</td>\n",
       "      <td>532.538784</td>\n",
       "      <td>0.836552</td>\n",
       "      <td>0.987677</td>\n",
       "      <td>0.819646</td>\n",
       "      <td>0.737084</td>\n",
       "      <td>0.003244</td>\n",
       "      <td>0.000591</td>\n",
       "      <td>0.543293</td>\n",
       "      <td>0.989485</td>\n",
       "      <td>BOMBAY</td>\n",
       "    </tr>\n",
       "    <tr>\n",
       "      <th>9</th>\n",
       "      <td>218983</td>\n",
       "      <td>1845.855</td>\n",
       "      <td>713.967282</td>\n",
       "      <td>394.053816</td>\n",
       "      <td>1.811852</td>\n",
       "      <td>0.833896</td>\n",
       "      <td>222086</td>\n",
       "      <td>528.032021</td>\n",
       "      <td>0.745626</td>\n",
       "      <td>0.986028</td>\n",
       "      <td>0.807654</td>\n",
       "      <td>0.739575</td>\n",
       "      <td>0.003260</td>\n",
       "      <td>0.000602</td>\n",
       "      <td>0.546970</td>\n",
       "      <td>0.991030</td>\n",
       "      <td>BOMBAY</td>\n",
       "    </tr>\n",
       "  </tbody>\n",
       "</table>\n",
       "</div>"
      ],
      "text/plain": [
       "     Area  Perimeter  MajorAxisLength  MinorAxisLength  AspectRation  \\\n",
       "0  254616   1985.370       738.860153       447.418329      1.651386   \n",
       "1  237270   1921.685       738.144502       412.921647      1.787614   \n",
       "2  251432   1919.868       719.125690       450.926187      1.594775   \n",
       "3  241322   1895.940       726.373493       427.370120      1.699636   \n",
       "4  248424   1884.557       715.053040       446.043618      1.603101   \n",
       "5  234898   1869.885       695.137630       432.589420      1.606922   \n",
       "6  213022   1849.699       721.216098       384.377969      1.876320   \n",
       "7  233751   1849.371       706.993076       423.527988      1.669295   \n",
       "8  222737   1847.940       722.494068       396.696971      1.821274   \n",
       "9  218983   1845.855       713.967282       394.053816      1.811852   \n",
       "\n",
       "   Eccentricity  ConvexArea  EquivDiameter    Extent  Solidity  roundness  \\\n",
       "0      0.795806      263261     569.374358  0.783747  0.967162   0.811732   \n",
       "1      0.828895      240671     549.637650  0.784115  0.985869   0.807399   \n",
       "2      0.778981      257425     565.803115  0.766776  0.976719   0.857211   \n",
       "3      0.808598      244319     554.311026  0.820823  0.987733   0.843641   \n",
       "4      0.781591      251082     562.408446  0.807536  0.989414   0.878992   \n",
       "5      0.782773      238265     546.883372  0.799468  0.985869   0.844227   \n",
       "6      0.846142      218065     520.795578  0.737514  0.976874   0.782406   \n",
       "7      0.800708      237344     545.546530  0.819205  0.984862   0.858846   \n",
       "8      0.835779      225516     532.538784  0.836552  0.987677   0.819646   \n",
       "9      0.833896      222086     528.032021  0.745626  0.986028   0.807654   \n",
       "\n",
       "   Compactness  ShapeFactor1  ShapeFactor2  ShapeFactor3  ShapeFactor4   Class  \n",
       "0     0.770612      0.002902      0.000631      0.593843      0.980663  BOMBAY  \n",
       "1     0.744621      0.003111      0.000590      0.554460      0.991160  BOMBAY  \n",
       "2     0.786793      0.002860      0.000676      0.619043      0.987235  BOMBAY  \n",
       "3     0.763121      0.003010      0.000630      0.582354      0.989790  BOMBAY  \n",
       "4     0.786527      0.002878      0.000679      0.618625      0.991718  BOMBAY  \n",
       "5     0.786727      0.002959      0.000699      0.618939      0.994587  BOMBAY  \n",
       "6     0.722108      0.003386      0.000568      0.521439      0.978387  BOMBAY  \n",
       "7     0.771643      0.003025      0.000661      0.595434      0.993954  BOMBAY  \n",
       "8     0.737084      0.003244      0.000591      0.543293      0.989485  BOMBAY  \n",
       "9     0.739575      0.003260      0.000602      0.546970      0.991030  BOMBAY  "
      ]
     },
     "execution_count": 47,
     "metadata": {},
     "output_type": "execute_result"
    }
   ],
   "source": [
    "df.head(10)"
   ]
  },
  {
   "cell_type": "markdown",
   "metadata": {
    "id": "h44zDR_YP67A"
   },
   "source": [
    "###**ANÁLISE DESCRITIVA DOS DADOS:** ***GRÁFICO SEM DADOS AUSENTES***...**NOTA**: ***o banco não apresenta valores ausentes***"
   ]
  },
  {
   "cell_type": "code",
   "execution_count": 46,
   "metadata": {
    "colab": {
     "base_uri": "https://localhost:8080/",
     "height": 433
    },
    "executionInfo": {
     "elapsed": 1299,
     "status": "ok",
     "timestamp": 1648587008597,
     "user": {
      "displayName": "FABIANA SILVA DE OLIVEIRA",
      "userId": "12187732007460211533"
     },
     "user_tz": 180
    },
    "id": "F5dirkzhPSF6",
    "outputId": "fa203d67-c91d-4752-e458-ec71562e857f"
   },
   "outputs": [
    {
     "data": {
      "text/plain": [
       "<AxesSubplot:>"
      ]
     },
     "execution_count": 46,
     "metadata": {},
     "output_type": "execute_result"
    },
    {
     "data": {
      "image/png": "[encoded data removed]",
      "text/plain": [
       "<Figure size 432x288 with 2 Axes>"
      ]
     },
     "metadata": {
      "needs_background": "light"
     },
     "output_type": "display_data"
    }
   ],
   "source": [
    "sns.heatmap(df.isna())"
   ]
  },
  {
   "cell_type": "markdown",
   "metadata": {
    "id": "LTNIOn4cgbpn"
   },
   "source": [
    "###**SEM DADOS AUSENTES PARA O PROCESSAMENTO...** função (dropna) remove valores ausentes"
   ]
  },
  {
   "cell_type": "code",
   "execution_count": 58,
   "metadata": {
    "id": "ESUoaaxuQ1A3"
   },
   "outputs": [],
   "source": [
    "df = df.dropna()"
   ]
  },
  {
   "cell_type": "code",
   "execution_count": 59,
   "metadata": {
    "colab": {
     "base_uri": "https://localhost:8080/",
     "height": 433
    },
    "executionInfo": {
     "elapsed": 1304,
     "status": "ok",
     "timestamp": 1648587014709,
     "user": {
      "displayName": "FABIANA SILVA DE OLIVEIRA",
      "userId": "12187732007460211533"
     },
     "user_tz": 180
    },
    "id": "_T0gygssQ5pn",
    "outputId": "3d3ef73b-10cc-4366-bf6f-78b4a859f8ae"
   },
   "outputs": [
    {
     "data": {
      "text/plain": [
       "<AxesSubplot:>"
      ]
     },
     "execution_count": 59,
     "metadata": {},
     "output_type": "execute_result"
    },
    {
     "data": {
      "image/png": "[encoded data removed]",
      "text/plain": [
       "<Figure size 432x288 with 2 Axes>"
      ]
     },
     "metadata": {
      "needs_background": "light"
     },
     "output_type": "display_data"
    }
   ],
   "source": [
    "sns.heatmap(df.isna())"
   ]
  },
  {
   "cell_type": "code",
   "execution_count": 43,
   "metadata": {
    "colab": {
     "base_uri": "https://localhost:8080/"
    },
    "executionInfo": {
     "elapsed": 274,
     "status": "ok",
     "timestamp": 1648587017663,
     "user": {
      "displayName": "FABIANA SILVA DE OLIVEIRA",
      "userId": "12187732007460211533"
     },
     "user_tz": 180
    },
    "id": "Y6mEuPshQ9my",
    "outputId": "98d5d185-2318-47ef-fa18-05af44cf8d11"
   },
   "outputs": [
    {
     "data": {
      "text/plain": [
       "(13611, 17)"
      ]
     },
     "execution_count": 43,
     "metadata": {},
     "output_type": "execute_result"
    }
   ],
   "source": [
    "\n",
    "df.shape\n"
   ]
  },
  {
   "cell_type": "code",
   "execution_count": 42,
   "metadata": {
    "colab": {
     "base_uri": "https://localhost:8080/"
    },
    "executionInfo": {
     "elapsed": 252,
     "status": "ok",
     "timestamp": 1648587021011,
     "user": {
      "displayName": "FABIANA SILVA DE OLIVEIRA",
      "userId": "12187732007460211533"
     },
     "user_tz": 180
    },
    "id": "eRRuoKKyXtBS",
    "outputId": "d3ba8b54-2ff6-4bbc-c726-e4e2f658fdb1"
   },
   "outputs": [
    {
     "data": {
      "text/plain": [
       "(13543, 17)"
      ]
     },
     "execution_count": 42,
     "metadata": {},
     "output_type": "execute_result"
    }
   ],
   "source": [
    "df_duplicates.shape"
   ]
  },
  {
   "cell_type": "markdown",
   "metadata": {
    "id": "xjY7WDkCRopY"
   },
   "source": [
    "###**CORRELAÇÃO** Com atributos específicos"
   ]
  },
  {
   "cell_type": "code",
   "execution_count": 40,
   "metadata": {
    "colab": {
     "base_uri": "https://localhost:8080/",
     "height": 268
    },
    "executionInfo": {
     "elapsed": 304,
     "status": "ok",
     "timestamp": 1648587024378,
     "user": {
      "displayName": "FABIANA SILVA DE OLIVEIRA",
      "userId": "12187732007460211533"
     },
     "user_tz": 180
    },
    "id": "kB_YJPXDWsZT",
    "outputId": "e0c211af-76f0-4426-857c-872636f8c1d0"
   },
   "outputs": [
    {
     "data": {
      "text/html": [
       "<div>\n",
       "<style scoped>\n",
       "    .dataframe tbody tr th:only-of-type {\n",
       "        vertical-align: middle;\n",
       "    }\n",
       "\n",
       "    .dataframe tbody tr th {\n",
       "        vertical-align: top;\n",
       "    }\n",
       "\n",
       "    .dataframe thead th {\n",
       "        text-align: right;\n",
       "    }\n",
       "</style>\n",
       "<table border=\"1\" class=\"dataframe\">\n",
       "  <thead>\n",
       "    <tr style=\"text-align: right;\">\n",
       "      <th></th>\n",
       "      <th>Area</th>\n",
       "      <th>MajorAxisLength</th>\n",
       "      <th>MinorAxisLength</th>\n",
       "      <th>AspectRation</th>\n",
       "      <th>Extent</th>\n",
       "      <th>Solidity</th>\n",
       "      <th>ShapeFactor3</th>\n",
       "    </tr>\n",
       "  </thead>\n",
       "  <tbody>\n",
       "    <tr>\n",
       "      <th>Area</th>\n",
       "      <td>1.000000</td>\n",
       "      <td>0.931834</td>\n",
       "      <td>0.951602</td>\n",
       "      <td>0.241735</td>\n",
       "      <td>0.054345</td>\n",
       "      <td>-0.196585</td>\n",
       "      <td>-0.272145</td>\n",
       "    </tr>\n",
       "    <tr>\n",
       "      <th>MajorAxisLength</th>\n",
       "      <td>0.931834</td>\n",
       "      <td>1.000000</td>\n",
       "      <td>0.826052</td>\n",
       "      <td>0.550335</td>\n",
       "      <td>-0.078062</td>\n",
       "      <td>-0.284302</td>\n",
       "      <td>-0.568185</td>\n",
       "    </tr>\n",
       "    <tr>\n",
       "      <th>MinorAxisLength</th>\n",
       "      <td>0.951602</td>\n",
       "      <td>0.826052</td>\n",
       "      <td>1.000000</td>\n",
       "      <td>-0.009161</td>\n",
       "      <td>0.145957</td>\n",
       "      <td>-0.155831</td>\n",
       "      <td>-0.019326</td>\n",
       "    </tr>\n",
       "    <tr>\n",
       "      <th>AspectRation</th>\n",
       "      <td>0.241735</td>\n",
       "      <td>0.550335</td>\n",
       "      <td>-0.009161</td>\n",
       "      <td>1.000000</td>\n",
       "      <td>-0.370184</td>\n",
       "      <td>-0.267754</td>\n",
       "      <td>-0.978592</td>\n",
       "    </tr>\n",
       "    <tr>\n",
       "      <th>Extent</th>\n",
       "      <td>0.054345</td>\n",
       "      <td>-0.078062</td>\n",
       "      <td>0.145957</td>\n",
       "      <td>-0.370184</td>\n",
       "      <td>1.000000</td>\n",
       "      <td>0.191389</td>\n",
       "      <td>0.347624</td>\n",
       "    </tr>\n",
       "    <tr>\n",
       "      <th>Solidity</th>\n",
       "      <td>-0.196585</td>\n",
       "      <td>-0.284302</td>\n",
       "      <td>-0.155831</td>\n",
       "      <td>-0.267754</td>\n",
       "      <td>0.191389</td>\n",
       "      <td>1.000000</td>\n",
       "      <td>0.307662</td>\n",
       "    </tr>\n",
       "    <tr>\n",
       "      <th>ShapeFactor3</th>\n",
       "      <td>-0.272145</td>\n",
       "      <td>-0.568185</td>\n",
       "      <td>-0.019326</td>\n",
       "      <td>-0.978592</td>\n",
       "      <td>0.347624</td>\n",
       "      <td>0.307662</td>\n",
       "      <td>1.000000</td>\n",
       "    </tr>\n",
       "  </tbody>\n",
       "</table>\n",
       "</div>"
      ],
      "text/plain": [
       "                     Area  MajorAxisLength  MinorAxisLength  AspectRation  \\\n",
       "Area             1.000000         0.931834         0.951602      0.241735   \n",
       "MajorAxisLength  0.931834         1.000000         0.826052      0.550335   \n",
       "MinorAxisLength  0.951602         0.826052         1.000000     -0.009161   \n",
       "AspectRation     0.241735         0.550335        -0.009161      1.000000   \n",
       "Extent           0.054345        -0.078062         0.145957     -0.370184   \n",
       "Solidity        -0.196585        -0.284302        -0.155831     -0.267754   \n",
       "ShapeFactor3    -0.272145        -0.568185        -0.019326     -0.978592   \n",
       "\n",
       "                   Extent  Solidity  ShapeFactor3  \n",
       "Area             0.054345 -0.196585     -0.272145  \n",
       "MajorAxisLength -0.078062 -0.284302     -0.568185  \n",
       "MinorAxisLength  0.145957 -0.155831     -0.019326  \n",
       "AspectRation    -0.370184 -0.267754     -0.978592  \n",
       "Extent           1.000000  0.191389      0.347624  \n",
       "Solidity         0.191389  1.000000      0.307662  \n",
       "ShapeFactor3     0.347624  0.307662      1.000000  "
      ]
     },
     "execution_count": 40,
     "metadata": {},
     "output_type": "execute_result"
    }
   ],
   "source": [
    "df2 = df.drop(columns=['Perimeter','ConvexArea','EquivDiameter','Eccentricity','roundness','ShapeFactor1','Compactness','ShapeFactor2','ShapeFactor4'])\n",
    "df2.corr()"
   ]
  },
  {
   "cell_type": "code",
   "execution_count": 41,
   "metadata": {
    "colab": {
     "base_uri": "https://localhost:8080/",
     "height": 433
    },
    "executionInfo": {
     "elapsed": 979,
     "status": "ok",
     "timestamp": 1648587028964,
     "user": {
      "displayName": "FABIANA SILVA DE OLIVEIRA",
      "userId": "12187732007460211533"
     },
     "user_tz": 180
    },
    "id": "bA1njdsRX6Ek",
    "outputId": "1df1c7c0-2d85-4375-f852-2570f6cbb1da"
   },
   "outputs": [
    {
     "data": {
      "text/plain": [
       "<AxesSubplot:>"
      ]
     },
     "execution_count": 41,
     "metadata": {},
     "output_type": "execute_result"
    },
    {
     "data": {
      "image/png": "[encoded data removed]",
      "text/plain": [
       "<Figure size 432x288 with 2 Axes>"
      ]
     },
     "metadata": {
      "needs_background": "light"
     },
     "output_type": "display_data"
    }
   ],
   "source": [
    "sns.heatmap(df2.corr(), annot=True, cmap='YlGnBu')"
   ]
  },
  {
   "cell_type": "markdown",
   "metadata": {
    "id": "7uwYCQ1cYuRQ"
   },
   "source": [
    "####**CORRELAÇÃO** Todos os atributos"
   ]
  },
  {
   "cell_type": "code",
   "execution_count": null,
   "metadata": {
    "colab": {
     "base_uri": "https://localhost:8080/"
    },
    "executionInfo": {
     "elapsed": 283,
     "status": "ok",
     "timestamp": 1648587037189,
     "user": {
      "displayName": "FABIANA SILVA DE OLIVEIRA",
      "userId": "12187732007460211533"
     },
     "user_tz": 180
    },
    "id": "cQiYVENXRDi2",
    "outputId": "a15c2ce1-01d1-4251-e044-3250a8d74a5f"
   },
   "outputs": [],
   "source": [
    "df.corr()"
   ]
  },
  {
   "cell_type": "code",
   "execution_count": 39,
   "metadata": {
    "colab": {
     "base_uri": "https://localhost:8080/"
    },
    "executionInfo": {
     "elapsed": 1585,
     "status": "ok",
     "timestamp": 1648587039055,
     "user": {
      "displayName": "FABIANA SILVA DE OLIVEIRA",
      "userId": "12187732007460211533"
     },
     "user_tz": 180
    },
    "id": "ckmRIVfpRxAo",
    "outputId": "adf13627-5f62-40ed-db8f-34db0c4f2ee3"
   },
   "outputs": [
    {
     "data": {
      "text/plain": [
       "<AxesSubplot:>"
      ]
     },
     "execution_count": 39,
     "metadata": {},
     "output_type": "execute_result"
    },
    {
     "data": {
      "image/png": "[encoded data removed]",
      "text/plain": [
       "<Figure size 432x288 with 2 Axes>"
      ]
     },
     "metadata": {
      "needs_background": "light"
     },
     "output_type": "display_data"
    }
   ],
   "source": [
    "sns.heatmap(df.corr(), annot=True, cmap='YlGnBu')"
   ]
  },
  {
   "cell_type": "markdown",
   "metadata": {
    "id": "d76W3sVySP8P"
   },
   "source": [
    "###**GRAFICO DE COLUNAS**"
   ]
  },
  {
   "cell_type": "code",
   "execution_count": 38,
   "metadata": {
    "colab": {
     "base_uri": "https://localhost:8080/",
     "height": 378
    },
    "executionInfo": {
     "elapsed": 282,
     "status": "ok",
     "timestamp": 1648587042738,
     "user": {
      "displayName": "FABIANA SILVA DE OLIVEIRA",
      "userId": "12187732007460211533"
     },
     "user_tz": 180
    },
    "id": "x1IOt1ajSVxK",
    "outputId": "3b6b9463-85fb-4108-d992-9563658b86a1"
   },
   "outputs": [
    {
     "data": {
      "text/plain": [
       "Text(0, 0.5, 'Quantidade')"
      ]
     },
     "execution_count": 38,
     "metadata": {},
     "output_type": "execute_result"
    },
    {
     "data": {
      "image/png": "[encoded data removed]",
      "text/plain": [
       "<Figure size 432x288 with 1 Axes>"
      ]
     },
     "metadata": {
      "needs_background": "light"
     },
     "output_type": "display_data"
    }
   ],
   "source": [
    "cp_df =  df.replace({\"Class\": {1:'SEKER',2:'BARBUNYA',3:'BOMBAYER',4:'CALI',5:'HOROZ',6:'SIRA',7:'DERMASON'}})\n",
    "cp = sns.countplot(x='Class', orient='H', data=cp_df)\n",
    "cp.set_xlabel(\"Classificação do Feijão Seco\")\n",
    "cp.set_ylabel(\"Quantidade\")"
   ]
  },
  {
   "cell_type": "markdown",
   "metadata": {
    "id": "t_HvXRqaWLgZ"
   },
   "source": [
    "###*****   **(?) HISTOGRAMA**"
   ]
  },
  {
   "cell_type": "code",
   "execution_count": 60,
   "metadata": {
    "colab": {
     "base_uri": "https://localhost:8080/",
     "height": 387
    },
    "executionInfo": {
     "elapsed": 994,
     "status": "ok",
     "timestamp": 1648587050841,
     "user": {
      "displayName": "FABIANA SILVA DE OLIVEIRA",
      "userId": "12187732007460211533"
     },
     "user_tz": 180
    },
    "id": "Wja29lmEWGlf",
    "outputId": "e583bc03-70e2-441f-a046-3923a7288d78"
   },
   "outputs": [
    {
     "data": {
      "image/png": "[encoded data removed]",
      "text/plain": [
       "<Figure size 720x432 with 1 Axes>"
      ]
     },
     "metadata": {
      "needs_background": "light"
     },
     "output_type": "display_data"
    }
   ],
   "source": [
    "plt.figure(figsize=(10,6))\n",
    "df[df['Class'] == 'SEKER']['MajorAxisLength'].hist(alpha=0.5, color= 'blue', bins= 30, label='SEKER')\n",
    "df[df['Class'] == 'BARBUNYA']['MajorAxisLength'].hist(alpha=0.7, color= 'red', bins= 30, label='BARBUNYA')\n",
    "df[df['Class'] == 'BOMBAY']['MajorAxisLength'].hist(alpha=0.7, color= 'orange', bins= 30, label='BOMBAY')\n",
    "df[df['Class'] == 'CALI']['MajorAxisLength'].hist(alpha=0.7, color= 'pink', bins= 30, label='CALI')\n",
    "df[df['Class'] == 'HOROZ']['MajorAxisLength'].hist(alpha=0.7, color= 'yellow', bins= 30, label='HOROZ')\n",
    "df[df['Class'] == 'SIRA']['MajorAxisLength'].hist(alpha=0.7, color= 'purple', bins= 30, label='SIRA')\n",
    "df[df['Class'] == 'DERMASON']['MajorAxisLength'].hist(alpha=0.7, color= 'gray', bins= 30, label='DERMASON')\n",
    "plt.legend()\n",
    "plt.xlabel('\"Tamanho do Feijão Seco\"')\n",
    "plt.ylabel('Quantidade')\n",
    "plt.show()"
   ]
  },
  {
   "cell_type": "code",
   "execution_count": 61,
   "metadata": {
    "id": "-DS8geGAcV2F"
   },
   "outputs": [],
   "source": [
    "seker = df[df['Class'] == \"SEKER\"]\n",
    "barbunya = df[df['Class'] == \"BARBUNYA\"]\n",
    "bombay = df[df['Class'] == \"BOMBAY\"]\n",
    "cali = df[df['Class'] == \"CALI\"]\n",
    "horoz = df[df['Class'] == \"HOROZ\"]\n",
    "sira = df[df['Class'] == \"SIRA\"]\n",
    "dermason = df[df['Class'] == \"DERMASON\"]"
   ]
  },
  {
   "cell_type": "code",
   "execution_count": 64,
   "metadata": {
    "id": "zQESVSthfIh2"
   },
   "outputs": [
    {
     "name": "stdout",
     "output_type": "stream",
     "text": [
      "defaultdict(<class 'list'>, {'1': [0, 0, 0, 0, 0, 0, 0], '2': [0, 0, 0, 0, 0, 0, 0], '3': [0, 0, 0, 0, 0, 0, 0], '4': [0, 0, 0, 0, 0, 0, 0], '5': [0, 0, 0, 0, 0, 0, 0], '6': [0, 0, 0, 0, 0, 0, 0], '7': [0, 0, 0, 0, 0, 0, 0]})\n"
     ]
    }
   ],
   "source": [
    "def dicionario(df_seker, df_barbunya,df_bombay,df_cali,df_horoz,df_sira,df_dermason, dict_g):\n",
    "  for i in range(1, 8):\n",
    "    qtd_seker = len(df_seker[df_seker['Class'] == i]['MajorAxisLength'])\n",
    "    qtd_barbunya = len(df_barbunya[df_barbunya['Class'] == i]['MajorAxisLength'])\n",
    "    qtd_bombay = len(df_bombay[df_bombay['Class'] == i]['MajorAxisLength'])\n",
    "    qtd_cali = len(df_cali[df_cali['Class'] == i]['MajorAxisLength'])\n",
    "    qtd_horoz = len(df_horoz[df_horoz['Class'] == i]['MajorAxisLength'])\n",
    "    qtd_sira = len(df_sira[df_sira['Class'] == i]['MajorAxisLength'])\n",
    "    qtd_dermason = len(df_dermason[df_dermason['Class'] == i]['MajorAxisLength'])\n",
    "    dict_g[str(i)].append(qtd_seker)\n",
    "    dict_g[str(i)].append(qtd_barbunya)\n",
    "    dict_g[str(i)].append(qtd_bombay)\n",
    "    dict_g[str(i)].append(qtd_cali)\n",
    "    dict_g[str(i)].append(qtd_horoz)\n",
    "    dict_g[str(i)].append(qtd_sira)\n",
    "    dict_g[str(i)].append(qtd_dermason)\n",
    "    \n",
    "dict_g = collections.defaultdict(list)\n",
    "dicionario(seker,barbunya,bombay,cali,horoz,sira,dermason,dict_g)\n",
    "print(dict_g)\n"
   ]
  },
  {
   "cell_type": "markdown",
   "metadata": {
    "id": "ZzCeT5mOrcQd"
   },
   "source": [
    "###**FREQUENCIA - \"TAMANHO\" DO FEIJÃO SECO**. Considerando o atributo (MajorAxisLength) que indica o maior tamanho de extensão do \"Feijão seco\""
   ]
  },
  {
   "cell_type": "code",
   "execution_count": 67,
   "metadata": {
    "colab": {
     "base_uri": "https://localhost:8080/",
     "height": 171
    },
    "executionInfo": {
     "elapsed": 314,
     "status": "error",
     "timestamp": 1648601039547,
     "user": {
      "displayName": "FABIANA SILVA DE OLIVEIRA",
      "userId": "12187732007460211533"
     },
     "user_tz": 180
    },
    "id": "4jEpG9Omrgoh",
    "outputId": "45002543-88e9-40f7-9cfa-b3c984cf5356"
   },
   "outputs": [
    {
     "data": {
      "text/plain": [
       "183.6011650038393"
      ]
     },
     "execution_count": 67,
     "metadata": {},
     "output_type": "execute_result"
    }
   ],
   "source": [
    "df['MajorAxisLength'].min()"
   ]
  },
  {
   "cell_type": "code",
   "execution_count": 69,
   "metadata": {
    "colab": {
     "base_uri": "https://localhost:8080/"
    },
    "executionInfo": {
     "elapsed": 285,
     "status": "ok",
     "timestamp": 1648586705592,
     "user": {
      "displayName": "FABIANA SILVA DE OLIVEIRA",
      "userId": "12187732007460211533"
     },
     "user_tz": 180
    },
    "id": "Ysq5JeO5r2Xa",
    "outputId": "1d0627f5-45d4-4a77-cce2-edc20526ea1c"
   },
   "outputs": [
    {
     "data": {
      "text/plain": [
       "738.8601534818813"
      ]
     },
     "execution_count": 69,
     "metadata": {},
     "output_type": "execute_result"
    }
   ],
   "source": [
    "df['MajorAxisLength'].max()"
   ]
  },
  {
   "cell_type": "code",
   "execution_count": 70,
   "metadata": {
    "id": "LhMvu0nIr_Sn"
   },
   "outputs": [],
   "source": [
    "def countInterval(valorInicial, valorFinal):\n",
    "  new_df = df.drop(columns='Class')\n",
    "  dfIntervalo = new_df[new_df['MajorAxisLength'] >= valorInicial]\n",
    "  intervalo = len(dfIntervalo[new_df['MajorAxisLength'] <= valorFinal])\n",
    "  return intervalo"
   ]
  },
  {
   "cell_type": "code",
   "execution_count": 75,
   "metadata": {
    "colab": {
     "base_uri": "https://localhost:8080/",
     "height": 206
    },
    "executionInfo": {
     "elapsed": 259,
     "status": "ok",
     "timestamp": 1648587455433,
     "user": {
      "displayName": "FABIANA SILVA DE OLIVEIRA",
      "userId": "12187732007460211533"
     },
     "user_tz": 180
    },
    "id": "GDEbTri2yRoh",
    "outputId": "9556d18a-2111-4f29-eaa5-80160cadb2d9"
   },
   "outputs": [
    {
     "data": {
      "text/html": [
       "<div>\n",
       "<style scoped>\n",
       "    .dataframe tbody tr th:only-of-type {\n",
       "        vertical-align: middle;\n",
       "    }\n",
       "\n",
       "    .dataframe tbody tr th {\n",
       "        vertical-align: top;\n",
       "    }\n",
       "\n",
       "    .dataframe thead th {\n",
       "        text-align: right;\n",
       "    }\n",
       "</style>\n",
       "<table border=\"1\" class=\"dataframe\">\n",
       "  <thead>\n",
       "    <tr style=\"text-align: right;\">\n",
       "      <th></th>\n",
       "      <th>frq_absoluta</th>\n",
       "    </tr>\n",
       "  </thead>\n",
       "  <tbody>\n",
       "    <tr>\n",
       "      <th>627.84 - 738.9</th>\n",
       "      <td>140</td>\n",
       "    </tr>\n",
       "    <tr>\n",
       "      <th>516.78 - 627.84</th>\n",
       "      <td>348</td>\n",
       "    </tr>\n",
       "    <tr>\n",
       "      <th>405.72 - 516.78</th>\n",
       "      <td>1339</td>\n",
       "    </tr>\n",
       "    <tr>\n",
       "      <th>294.66 - 405.72</th>\n",
       "      <td>5121</td>\n",
       "    </tr>\n",
       "    <tr>\n",
       "      <th>183.6 - 294.66</th>\n",
       "      <td>6663</td>\n",
       "    </tr>\n",
       "  </tbody>\n",
       "</table>\n",
       "</div>"
      ],
      "text/plain": [
       "                 frq_absoluta\n",
       "627.84 - 738.9            140\n",
       "516.78 - 627.84           348\n",
       "405.72 - 516.78          1339\n",
       "294.66 - 405.72          5121\n",
       "183.6 - 294.66           6663"
      ]
     },
     "execution_count": 75,
     "metadata": {},
     "output_type": "execute_result"
    }
   ],
   "source": [
    "df2 = pd.DataFrame(dict_p)\n",
    "df2.index = ['627.84 - 738.9', '516.78 - 627.84', '405.72 - 516.78', '294.66 - 405.72', '183.6 - 294.66']\n",
    "df2"
   ]
  },
  {
   "cell_type": "code",
   "execution_count": 76,
   "metadata": {
    "colab": {
     "base_uri": "https://localhost:8080/",
     "height": 206
    },
    "executionInfo": {
     "elapsed": 272,
     "status": "ok",
     "timestamp": 1648587461142,
     "user": {
      "displayName": "FABIANA SILVA DE OLIVEIRA",
      "userId": "12187732007460211533"
     },
     "user_tz": 180
    },
    "id": "OZqX12NW1OIY",
    "outputId": "fb966bf9-131b-4d1d-a8ce-c8e07773724c"
   },
   "outputs": [
    {
     "data": {
      "text/html": [
       "<div>\n",
       "<style scoped>\n",
       "    .dataframe tbody tr th:only-of-type {\n",
       "        vertical-align: middle;\n",
       "    }\n",
       "\n",
       "    .dataframe tbody tr th {\n",
       "        vertical-align: top;\n",
       "    }\n",
       "\n",
       "    .dataframe thead th {\n",
       "        text-align: right;\n",
       "    }\n",
       "</style>\n",
       "<table border=\"1\" class=\"dataframe\">\n",
       "  <thead>\n",
       "    <tr style=\"text-align: right;\">\n",
       "      <th></th>\n",
       "      <th>frq_absoluta</th>\n",
       "    </tr>\n",
       "  </thead>\n",
       "  <tbody>\n",
       "    <tr>\n",
       "      <th>183.6 - 294.66</th>\n",
       "      <td>6663</td>\n",
       "    </tr>\n",
       "    <tr>\n",
       "      <th>294.66 - 405.72</th>\n",
       "      <td>5121</td>\n",
       "    </tr>\n",
       "    <tr>\n",
       "      <th>405.72 - 516.78</th>\n",
       "      <td>1339</td>\n",
       "    </tr>\n",
       "    <tr>\n",
       "      <th>516.78 - 627.84</th>\n",
       "      <td>348</td>\n",
       "    </tr>\n",
       "    <tr>\n",
       "      <th>627.84 - 738.9</th>\n",
       "      <td>140</td>\n",
       "    </tr>\n",
       "  </tbody>\n",
       "</table>\n",
       "</div>"
      ],
      "text/plain": [
       "                 frq_absoluta\n",
       "183.6 - 294.66           6663\n",
       "294.66 - 405.72          5121\n",
       "405.72 - 516.78          1339\n",
       "516.78 - 627.84           348\n",
       "627.84 - 738.9            140"
      ]
     },
     "execution_count": 76,
     "metadata": {},
     "output_type": "execute_result"
    }
   ],
   "source": [
    "# Classifique pelos valores ao longo de cada eixo.\n",
    "df2 = df2.sort_values(by='frq_absoluta', ascending=False)\n",
    "df2"
   ]
  },
  {
   "cell_type": "code",
   "execution_count": 77,
   "metadata": {
    "colab": {
     "base_uri": "https://localhost:8080/",
     "height": 206
    },
    "executionInfo": {
     "elapsed": 261,
     "status": "ok",
     "timestamp": 1648587464756,
     "user": {
      "displayName": "FABIANA SILVA DE OLIVEIRA",
      "userId": "12187732007460211533"
     },
     "user_tz": 180
    },
    "id": "K0Of8xLt1VfI",
    "outputId": "bfafb7a3-0f3e-4376-dbf6-5215bbd2832b"
   },
   "outputs": [
    {
     "data": {
      "text/html": [
       "<div>\n",
       "<style scoped>\n",
       "    .dataframe tbody tr th:only-of-type {\n",
       "        vertical-align: middle;\n",
       "    }\n",
       "\n",
       "    .dataframe tbody tr th {\n",
       "        vertical-align: top;\n",
       "    }\n",
       "\n",
       "    .dataframe thead th {\n",
       "        text-align: right;\n",
       "    }\n",
       "</style>\n",
       "<table border=\"1\" class=\"dataframe\">\n",
       "  <thead>\n",
       "    <tr style=\"text-align: right;\">\n",
       "      <th></th>\n",
       "      <th>frq_absoluta</th>\n",
       "      <th>frq_acumulada</th>\n",
       "    </tr>\n",
       "  </thead>\n",
       "  <tbody>\n",
       "    <tr>\n",
       "      <th>183.6 - 294.66</th>\n",
       "      <td>6663</td>\n",
       "      <td>48.953053</td>\n",
       "    </tr>\n",
       "    <tr>\n",
       "      <th>294.66 - 405.72</th>\n",
       "      <td>5121</td>\n",
       "      <td>86.577033</td>\n",
       "    </tr>\n",
       "    <tr>\n",
       "      <th>405.72 - 516.78</th>\n",
       "      <td>1339</td>\n",
       "      <td>96.414665</td>\n",
       "    </tr>\n",
       "    <tr>\n",
       "      <th>516.78 - 627.84</th>\n",
       "      <td>348</td>\n",
       "      <td>98.971420</td>\n",
       "    </tr>\n",
       "    <tr>\n",
       "      <th>627.84 - 738.9</th>\n",
       "      <td>140</td>\n",
       "      <td>100.000000</td>\n",
       "    </tr>\n",
       "  </tbody>\n",
       "</table>\n",
       "</div>"
      ],
      "text/plain": [
       "                 frq_absoluta  frq_acumulada\n",
       "183.6 - 294.66           6663      48.953053\n",
       "294.66 - 405.72          5121      86.577033\n",
       "405.72 - 516.78          1339      96.414665\n",
       "516.78 - 627.84           348      98.971420\n",
       "627.84 - 738.9            140     100.000000"
      ]
     },
     "execution_count": 77,
     "metadata": {},
     "output_type": "execute_result"
    }
   ],
   "source": [
    "# cumsum(axis=None, skipna=True, *args, **kwargs) Return cumulative sum over a DataFrame or Series axis.\n",
    "df2['frq_acumulada'] = df2['frq_absoluta'].cumsum()/df2['frq_absoluta'].sum()*100\n",
    "df2"
   ]
  },
  {
   "cell_type": "markdown",
   "metadata": {
    "id": "1NcSD3mJ1vC9"
   },
   "source": [
    "###**GRÁFICO DE PARETO DE AREA - \"TAMANHO\" DO FEIJÃO SECO**"
   ]
  },
  {
   "cell_type": "code",
   "execution_count": 78,
   "metadata": {
    "colab": {
     "base_uri": "https://localhost:8080/",
     "height": 346
    },
    "executionInfo": {
     "elapsed": 279,
     "status": "ok",
     "timestamp": 1648587472496,
     "user": {
      "displayName": "FABIANA SILVA DE OLIVEIRA",
      "userId": "12187732007460211533"
     },
     "user_tz": 180
    },
    "id": "Pmtd3CgU12WY",
    "outputId": "df0a5bb5-76ad-4f94-a0a0-6ac33c310af1"
   },
   "outputs": [
    {
     "data": {
      "image/png": "[encoded data removed]",
      "text/plain": [
       "<Figure size 432x288 with 2 Axes>"
      ]
     },
     "metadata": {},
     "output_type": "display_data"
    }
   ],
   "source": [
    "# Gráfico de Pareto\n",
    "fig, ax = plt.subplots()\n",
    "ax.bar(df2.index, df2[\"frq_absoluta\"], color=\"blue\")\n",
    "\n",
    "#Crie eixos gêmeos compartilhando o eixo x.\n",
    "ax2 = ax.twinx()\n",
    "\n",
    "#Marker: D ou o\n",
    "ax2.plot(df2.index, df2[\"frq_acumulada\"], color=\"red\", marker=\"D\", ms=7)\n",
    "\n",
    "#Defina o formatador do ticker principal. (O de porcentagem)\n",
    "ax2.yaxis.set_major_formatter(PercentFormatter())\n",
    "\n",
    "ax.tick_params(axis=\"y\", colors=\"navy\")\n",
    "ax2.tick_params(axis=\"y\", colors=\"tomato\")\n",
    "\n",
    "plt.show()"
   ]
  },
  {
   "cell_type": "code",
   "execution_count": 80,
   "metadata": {
    "colab": {
     "base_uri": "https://localhost:8080/",
     "height": 205
    },
    "executionInfo": {
     "elapsed": 292,
     "status": "ok",
     "timestamp": 1648554412813,
     "user": {
      "displayName": "FABIANA SILVA DE OLIVEIRA",
      "userId": "12187732007460211533"
     },
     "user_tz": 180
    },
    "id": "mZJo1foL4L9A",
    "outputId": "f93758de-5dad-4412-c382-9684aa962c78"
   },
   "outputs": [
    {
     "data": {
      "text/html": [
       "<div>\n",
       "<style scoped>\n",
       "    .dataframe tbody tr th:only-of-type {\n",
       "        vertical-align: middle;\n",
       "    }\n",
       "\n",
       "    .dataframe tbody tr th {\n",
       "        vertical-align: top;\n",
       "    }\n",
       "\n",
       "    .dataframe thead th {\n",
       "        text-align: right;\n",
       "    }\n",
       "</style>\n",
       "<table border=\"1\" class=\"dataframe\">\n",
       "  <thead>\n",
       "    <tr style=\"text-align: right;\">\n",
       "      <th></th>\n",
       "      <th>frq_absoluta</th>\n",
       "    </tr>\n",
       "  </thead>\n",
       "  <tbody>\n",
       "    <tr>\n",
       "      <th>627.84 - 738.9</th>\n",
       "      <td>140</td>\n",
       "    </tr>\n",
       "    <tr>\n",
       "      <th>516.78 - 627.84</th>\n",
       "      <td>348</td>\n",
       "    </tr>\n",
       "    <tr>\n",
       "      <th>405.72 - 516.78</th>\n",
       "      <td>1339</td>\n",
       "    </tr>\n",
       "    <tr>\n",
       "      <th>294.66 - 405.72</th>\n",
       "      <td>5121</td>\n",
       "    </tr>\n",
       "    <tr>\n",
       "      <th>183.6 - 294.66</th>\n",
       "      <td>6663</td>\n",
       "    </tr>\n",
       "  </tbody>\n",
       "</table>\n",
       "</div>"
      ],
      "text/plain": [
       "                 frq_absoluta\n",
       "627.84 - 738.9            140\n",
       "516.78 - 627.84           348\n",
       "405.72 - 516.78          1339\n",
       "294.66 - 405.72          5121\n",
       "183.6 - 294.66           6663"
      ]
     },
     "execution_count": 80,
     "metadata": {},
     "output_type": "execute_result"
    }
   ],
   "source": [
    "df3 = pd.DataFrame(dict_pf)\n",
    "df3.index = ['627.84 - 738.9', '516.78 - 627.84', '405.72 - 516.78', '294.66 - 405.72', '183.6 - 294.66']\n",
    "df3"
   ]
  },
  {
   "cell_type": "markdown",
   "metadata": {
    "id": "5lWNsLza4hXk"
   },
   "source": [
    "###**POLÍGONO DE FREQUÊNCIA - \"TAMANHO\" DO FEIJÃO SECO**"
   ]
  },
  {
   "cell_type": "code",
   "execution_count": 85,
   "metadata": {
    "colab": {
     "base_uri": "https://localhost:8080/",
     "height": 264
    },
    "executionInfo": {
     "elapsed": 292,
     "status": "ok",
     "timestamp": 1648554426781,
     "user": {
      "displayName": "FABIANA SILVA DE OLIVEIRA",
      "userId": "12187732007460211533"
     },
     "user_tz": 180
    },
    "id": "cqBcSa4u4i8q",
    "outputId": "496096b8-e663-4545-ef61-4de56985a386"
   },
   "outputs": [
    {
     "data": {
      "image/png": "[encoded data removed]",
      "text/plain": [
       "<Figure size 432x288 with 1 Axes>"
      ]
     },
     "metadata": {
      "needs_background": "light"
     },
     "output_type": "display_data"
    }
   ],
   "source": [
    "#Polígono de frequência\n",
    "fig, ax = plt.subplots()\n",
    "ax.plot(df3.index, df3[\"frq_absoluta\"], color=\"red\", marker=\"o\", ms=5)\n",
    "\n",
    "ax.tick_params(axis=\"y\", colors=\"navy\")\n",
    "\n",
    "plt.show()"
   ]
  },
  {
   "cell_type": "markdown",
   "metadata": {
    "id": "IxyfJXGAuG7p"
   },
   "source": [
    "###**MEDIDAS DE RESUMO**"
   ]
  },
  {
   "cell_type": "markdown",
   "metadata": {
    "id": "k2bDh6kqukqv"
   },
   "source": [
    "###**GRÁFICO DE DISPERSÃO**"
   ]
  },
  {
   "cell_type": "code",
   "execution_count": 86,
   "metadata": {
    "id": "195HZ5axuvIv"
   },
   "outputs": [],
   "source": [
    "df_filter = df[df['MajorAxisLength'] > 100]\n",
    "df_filter = df_filter[df_filter['MajorAxisLength'] < 739]"
   ]
  },
  {
   "cell_type": "code",
   "execution_count": 87,
   "metadata": {
    "colab": {
     "base_uri": "https://localhost:8080/",
     "height": 426
    },
    "executionInfo": {
     "elapsed": 266,
     "status": "ok",
     "timestamp": 1648588140552,
     "user": {
      "displayName": "FABIANA SILVA DE OLIVEIRA",
      "userId": "12187732007460211533"
     },
     "user_tz": 180
    },
    "id": "s1a70nSWhBNB",
    "outputId": "899f7c48-3599-423b-95e7-81dfa9a3cd0b"
   },
   "outputs": [
    {
     "data": {
      "text/html": [
       "<div>\n",
       "<style scoped>\n",
       "    .dataframe tbody tr th:only-of-type {\n",
       "        vertical-align: middle;\n",
       "    }\n",
       "\n",
       "    .dataframe tbody tr th {\n",
       "        vertical-align: top;\n",
       "    }\n",
       "\n",
       "    .dataframe thead th {\n",
       "        text-align: right;\n",
       "    }\n",
       "</style>\n",
       "<table border=\"1\" class=\"dataframe\">\n",
       "  <thead>\n",
       "    <tr style=\"text-align: right;\">\n",
       "      <th></th>\n",
       "      <th>Area</th>\n",
       "      <th>Perimeter</th>\n",
       "      <th>MajorAxisLength</th>\n",
       "      <th>MinorAxisLength</th>\n",
       "      <th>AspectRation</th>\n",
       "      <th>Eccentricity</th>\n",
       "      <th>ConvexArea</th>\n",
       "      <th>EquivDiameter</th>\n",
       "      <th>Extent</th>\n",
       "      <th>Solidity</th>\n",
       "      <th>roundness</th>\n",
       "      <th>Compactness</th>\n",
       "      <th>ShapeFactor1</th>\n",
       "      <th>ShapeFactor2</th>\n",
       "      <th>ShapeFactor3</th>\n",
       "      <th>ShapeFactor4</th>\n",
       "      <th>Class</th>\n",
       "    </tr>\n",
       "  </thead>\n",
       "  <tbody>\n",
       "    <tr>\n",
       "      <th>0</th>\n",
       "      <td>254616</td>\n",
       "      <td>1985.370</td>\n",
       "      <td>738.860153</td>\n",
       "      <td>447.418329</td>\n",
       "      <td>1.651386</td>\n",
       "      <td>0.795806</td>\n",
       "      <td>263261</td>\n",
       "      <td>569.374358</td>\n",
       "      <td>0.783747</td>\n",
       "      <td>0.967162</td>\n",
       "      <td>0.811732</td>\n",
       "      <td>0.770612</td>\n",
       "      <td>0.002902</td>\n",
       "      <td>0.000631</td>\n",
       "      <td>0.593843</td>\n",
       "      <td>0.980663</td>\n",
       "      <td>BOMBAY</td>\n",
       "    </tr>\n",
       "    <tr>\n",
       "      <th>1</th>\n",
       "      <td>237270</td>\n",
       "      <td>1921.685</td>\n",
       "      <td>738.144502</td>\n",
       "      <td>412.921647</td>\n",
       "      <td>1.787614</td>\n",
       "      <td>0.828895</td>\n",
       "      <td>240671</td>\n",
       "      <td>549.637650</td>\n",
       "      <td>0.784115</td>\n",
       "      <td>0.985869</td>\n",
       "      <td>0.807399</td>\n",
       "      <td>0.744621</td>\n",
       "      <td>0.003111</td>\n",
       "      <td>0.000590</td>\n",
       "      <td>0.554460</td>\n",
       "      <td>0.991160</td>\n",
       "      <td>BOMBAY</td>\n",
       "    </tr>\n",
       "    <tr>\n",
       "      <th>2</th>\n",
       "      <td>251432</td>\n",
       "      <td>1919.868</td>\n",
       "      <td>719.125690</td>\n",
       "      <td>450.926187</td>\n",
       "      <td>1.594775</td>\n",
       "      <td>0.778981</td>\n",
       "      <td>257425</td>\n",
       "      <td>565.803115</td>\n",
       "      <td>0.766776</td>\n",
       "      <td>0.976719</td>\n",
       "      <td>0.857211</td>\n",
       "      <td>0.786793</td>\n",
       "      <td>0.002860</td>\n",
       "      <td>0.000676</td>\n",
       "      <td>0.619043</td>\n",
       "      <td>0.987235</td>\n",
       "      <td>BOMBAY</td>\n",
       "    </tr>\n",
       "    <tr>\n",
       "      <th>3</th>\n",
       "      <td>241322</td>\n",
       "      <td>1895.940</td>\n",
       "      <td>726.373493</td>\n",
       "      <td>427.370120</td>\n",
       "      <td>1.699636</td>\n",
       "      <td>0.808598</td>\n",
       "      <td>244319</td>\n",
       "      <td>554.311026</td>\n",
       "      <td>0.820823</td>\n",
       "      <td>0.987733</td>\n",
       "      <td>0.843641</td>\n",
       "      <td>0.763121</td>\n",
       "      <td>0.003010</td>\n",
       "      <td>0.000630</td>\n",
       "      <td>0.582354</td>\n",
       "      <td>0.989790</td>\n",
       "      <td>BOMBAY</td>\n",
       "    </tr>\n",
       "    <tr>\n",
       "      <th>4</th>\n",
       "      <td>248424</td>\n",
       "      <td>1884.557</td>\n",
       "      <td>715.053040</td>\n",
       "      <td>446.043618</td>\n",
       "      <td>1.603101</td>\n",
       "      <td>0.781591</td>\n",
       "      <td>251082</td>\n",
       "      <td>562.408446</td>\n",
       "      <td>0.807536</td>\n",
       "      <td>0.989414</td>\n",
       "      <td>0.878992</td>\n",
       "      <td>0.786527</td>\n",
       "      <td>0.002878</td>\n",
       "      <td>0.000679</td>\n",
       "      <td>0.618625</td>\n",
       "      <td>0.991718</td>\n",
       "      <td>BOMBAY</td>\n",
       "    </tr>\n",
       "    <tr>\n",
       "      <th>5</th>\n",
       "      <td>234898</td>\n",
       "      <td>1869.885</td>\n",
       "      <td>695.137630</td>\n",
       "      <td>432.589420</td>\n",
       "      <td>1.606922</td>\n",
       "      <td>0.782773</td>\n",
       "      <td>238265</td>\n",
       "      <td>546.883372</td>\n",
       "      <td>0.799468</td>\n",
       "      <td>0.985869</td>\n",
       "      <td>0.844227</td>\n",
       "      <td>0.786727</td>\n",
       "      <td>0.002959</td>\n",
       "      <td>0.000699</td>\n",
       "      <td>0.618939</td>\n",
       "      <td>0.994587</td>\n",
       "      <td>BOMBAY</td>\n",
       "    </tr>\n",
       "    <tr>\n",
       "      <th>6</th>\n",
       "      <td>213022</td>\n",
       "      <td>1849.699</td>\n",
       "      <td>721.216098</td>\n",
       "      <td>384.377969</td>\n",
       "      <td>1.876320</td>\n",
       "      <td>0.846142</td>\n",
       "      <td>218065</td>\n",
       "      <td>520.795578</td>\n",
       "      <td>0.737514</td>\n",
       "      <td>0.976874</td>\n",
       "      <td>0.782406</td>\n",
       "      <td>0.722108</td>\n",
       "      <td>0.003386</td>\n",
       "      <td>0.000568</td>\n",
       "      <td>0.521439</td>\n",
       "      <td>0.978387</td>\n",
       "      <td>BOMBAY</td>\n",
       "    </tr>\n",
       "    <tr>\n",
       "      <th>7</th>\n",
       "      <td>233751</td>\n",
       "      <td>1849.371</td>\n",
       "      <td>706.993076</td>\n",
       "      <td>423.527988</td>\n",
       "      <td>1.669295</td>\n",
       "      <td>0.800708</td>\n",
       "      <td>237344</td>\n",
       "      <td>545.546530</td>\n",
       "      <td>0.819205</td>\n",
       "      <td>0.984862</td>\n",
       "      <td>0.858846</td>\n",
       "      <td>0.771643</td>\n",
       "      <td>0.003025</td>\n",
       "      <td>0.000661</td>\n",
       "      <td>0.595434</td>\n",
       "      <td>0.993954</td>\n",
       "      <td>BOMBAY</td>\n",
       "    </tr>\n",
       "    <tr>\n",
       "      <th>8</th>\n",
       "      <td>222737</td>\n",
       "      <td>1847.940</td>\n",
       "      <td>722.494068</td>\n",
       "      <td>396.696971</td>\n",
       "      <td>1.821274</td>\n",
       "      <td>0.835779</td>\n",
       "      <td>225516</td>\n",
       "      <td>532.538784</td>\n",
       "      <td>0.836552</td>\n",
       "      <td>0.987677</td>\n",
       "      <td>0.819646</td>\n",
       "      <td>0.737084</td>\n",
       "      <td>0.003244</td>\n",
       "      <td>0.000591</td>\n",
       "      <td>0.543293</td>\n",
       "      <td>0.989485</td>\n",
       "      <td>BOMBAY</td>\n",
       "    </tr>\n",
       "    <tr>\n",
       "      <th>9</th>\n",
       "      <td>218983</td>\n",
       "      <td>1845.855</td>\n",
       "      <td>713.967282</td>\n",
       "      <td>394.053816</td>\n",
       "      <td>1.811852</td>\n",
       "      <td>0.833896</td>\n",
       "      <td>222086</td>\n",
       "      <td>528.032021</td>\n",
       "      <td>0.745626</td>\n",
       "      <td>0.986028</td>\n",
       "      <td>0.807654</td>\n",
       "      <td>0.739575</td>\n",
       "      <td>0.003260</td>\n",
       "      <td>0.000602</td>\n",
       "      <td>0.546970</td>\n",
       "      <td>0.991030</td>\n",
       "      <td>BOMBAY</td>\n",
       "    </tr>\n",
       "  </tbody>\n",
       "</table>\n",
       "</div>"
      ],
      "text/plain": [
       "     Area  Perimeter  MajorAxisLength  MinorAxisLength  AspectRation  \\\n",
       "0  254616   1985.370       738.860153       447.418329      1.651386   \n",
       "1  237270   1921.685       738.144502       412.921647      1.787614   \n",
       "2  251432   1919.868       719.125690       450.926187      1.594775   \n",
       "3  241322   1895.940       726.373493       427.370120      1.699636   \n",
       "4  248424   1884.557       715.053040       446.043618      1.603101   \n",
       "5  234898   1869.885       695.137630       432.589420      1.606922   \n",
       "6  213022   1849.699       721.216098       384.377969      1.876320   \n",
       "7  233751   1849.371       706.993076       423.527988      1.669295   \n",
       "8  222737   1847.940       722.494068       396.696971      1.821274   \n",
       "9  218983   1845.855       713.967282       394.053816      1.811852   \n",
       "\n",
       "   Eccentricity  ConvexArea  EquivDiameter    Extent  Solidity  roundness  \\\n",
       "0      0.795806      263261     569.374358  0.783747  0.967162   0.811732   \n",
       "1      0.828895      240671     549.637650  0.784115  0.985869   0.807399   \n",
       "2      0.778981      257425     565.803115  0.766776  0.976719   0.857211   \n",
       "3      0.808598      244319     554.311026  0.820823  0.987733   0.843641   \n",
       "4      0.781591      251082     562.408446  0.807536  0.989414   0.878992   \n",
       "5      0.782773      238265     546.883372  0.799468  0.985869   0.844227   \n",
       "6      0.846142      218065     520.795578  0.737514  0.976874   0.782406   \n",
       "7      0.800708      237344     545.546530  0.819205  0.984862   0.858846   \n",
       "8      0.835779      225516     532.538784  0.836552  0.987677   0.819646   \n",
       "9      0.833896      222086     528.032021  0.745626  0.986028   0.807654   \n",
       "\n",
       "   Compactness  ShapeFactor1  ShapeFactor2  ShapeFactor3  ShapeFactor4   Class  \n",
       "0     0.770612      0.002902      0.000631      0.593843      0.980663  BOMBAY  \n",
       "1     0.744621      0.003111      0.000590      0.554460      0.991160  BOMBAY  \n",
       "2     0.786793      0.002860      0.000676      0.619043      0.987235  BOMBAY  \n",
       "3     0.763121      0.003010      0.000630      0.582354      0.989790  BOMBAY  \n",
       "4     0.786527      0.002878      0.000679      0.618625      0.991718  BOMBAY  \n",
       "5     0.786727      0.002959      0.000699      0.618939      0.994587  BOMBAY  \n",
       "6     0.722108      0.003386      0.000568      0.521439      0.978387  BOMBAY  \n",
       "7     0.771643      0.003025      0.000661      0.595434      0.993954  BOMBAY  \n",
       "8     0.737084      0.003244      0.000591      0.543293      0.989485  BOMBAY  \n",
       "9     0.739575      0.003260      0.000602      0.546970      0.991030  BOMBAY  "
      ]
     },
     "execution_count": 87,
     "metadata": {},
     "output_type": "execute_result"
    }
   ],
   "source": [
    "df_filter.head(10)"
   ]
  },
  {
   "cell_type": "code",
   "execution_count": 88,
   "metadata": {
    "colab": {
     "base_uri": "https://localhost:8080/",
     "height": 380
    },
    "executionInfo": {
     "elapsed": 962,
     "status": "ok",
     "timestamp": 1648588566860,
     "user": {
      "displayName": "FABIANA SILVA DE OLIVEIRA",
      "userId": "12187732007460211533"
     },
     "user_tz": 180
    },
    "id": "7DnM1mfkhGrB",
    "outputId": "5ed4f6ba-2f2c-4a53-9839-148e7e485358"
   },
   "outputs": [
    {
     "data": {
      "text/plain": [
       "<AxesSubplot:xlabel='Class', ylabel='MajorAxisLength'>"
      ]
     },
     "execution_count": 88,
     "metadata": {},
     "output_type": "execute_result"
    },
    {
     "data": {
      "image/png": "[encoded data removed]",
      "text/plain": [
       "<Figure size 432x288 with 1 Axes>"
      ]
     },
     "metadata": {
      "needs_background": "light"
     },
     "output_type": "display_data"
    }
   ],
   "source": [
    "sns.stripplot (x='Class',y='MajorAxisLength',data=df_filter)"
   ]
  },
  {
   "cell_type": "markdown",
   "metadata": {
    "id": "fzRISdxZbEXu"
   },
   "source": [
    "###**GRÁFICO BLOX PLOT** Distribui os Valores (mínimo, máximo, Medianas) é analisado pela altura das caixas... neste gráfico analiza-se o tamanho dos feijões pelo atributo (MajorAxisLength). Esta apresentação em específico tem caracter de Anomalia em todos os tipos apresentados"
   ]
  },
  {
   "cell_type": "code",
   "execution_count": 89,
   "metadata": {
    "colab": {
     "base_uri": "https://localhost:8080/",
     "height": 296
    },
    "executionInfo": {
     "elapsed": 401,
     "status": "ok",
     "timestamp": 1648557872739,
     "user": {
      "displayName": "FABIANA SILVA DE OLIVEIRA",
      "userId": "12187732007460211533"
     },
     "user_tz": 180
    },
    "id": "HOZMwjezbMAY",
    "outputId": "813230c3-12c4-4fb6-9836-836e53f5a203"
   },
   "outputs": [
    {
     "data": {
      "text/plain": [
       "<AxesSubplot:xlabel='Class', ylabel='MajorAxisLength'>"
      ]
     },
     "execution_count": 89,
     "metadata": {},
     "output_type": "execute_result"
    },
    {
     "data": {
      "image/png": "[encoded data removed]",
      "text/plain": [
       "<Figure size 432x288 with 1 Axes>"
      ]
     },
     "metadata": {
      "needs_background": "light"
     },
     "output_type": "display_data"
    }
   ],
   "source": [
    "sns.boxplot(x='Class', y='MajorAxisLength', data=df_filter)"
   ]
  },
  {
   "cell_type": "markdown",
   "metadata": {
    "id": "9PdHFOPmpuOB"
   },
   "source": [
    "###*****  **(ERRO) GRÁFICO VIOLIN PLOT** "
   ]
  },
  {
   "cell_type": "code",
   "execution_count": null,
   "metadata": {
    "id": "BYYV_BUeqDkr"
   },
   "outputs": [],
   "source": [
    "sns.violinplot(x='Area',y='MajorAxisLength',data=df_filter, hue='Class', split=True)"
   ]
  },
  {
   "cell_type": "markdown",
   "metadata": {
    "id": "3uT-wAE_vVIz"
   },
   "source": [
    "#**MODELAGEM**"
   ]
  },
  {
   "cell_type": "code",
   "execution_count": 113,
   "metadata": {
    "id": "aV35ucA8wVl7"
   },
   "outputs": [],
   "source": [
    "import pandas as pd\n",
    "import seaborn as sns\n",
    "import numpy as np\n",
    "import pylab as pl\n",
    "from sklearn.model_selection import train_test_split\n",
    "from sklearn.tree import DecisionTreeClassifier\n",
    "from sklearn import tree\n",
    "from sklearn.metrics import classification_report, confusion_matrix, roc_curve, roc_auc_score\n",
    "import matplotlib.pyplot as plt\n",
    "\n",
    "from sklearn.cluster import KMeans\n",
    "from sklearn.metrics import silhouette_score\n",
    "\n",
    "from yellowbrick.cluster import SilhouetteVisualizer\n",
    "from yellowbrick.cluster import KElbowVisualizer"
   ]
  },
  {
   "cell_type": "code",
   "execution_count": 95,
   "metadata": {
    "id": "w84ulS4zwYiJ"
   },
   "outputs": [],
   "source": [
    "df= pd.read_excel(\"Dry_Bean_Dataset.xlsx\")"
   ]
  },
  {
   "cell_type": "code",
   "execution_count": 96,
   "metadata": {
    "colab": {
     "base_uri": "https://localhost:8080/",
     "height": 426
    },
    "executionInfo": {
     "elapsed": 313,
     "status": "ok",
     "timestamp": 1648558742348,
     "user": {
      "displayName": "FABIANA SILVA DE OLIVEIRA",
      "userId": "12187732007460211533"
     },
     "user_tz": 180
    },
    "id": "mpHCtCtTwhEt",
    "outputId": "66b433ca-4d0e-43b0-d176-b5d297b3a47f"
   },
   "outputs": [
    {
     "data": {
      "text/html": [
       "<div>\n",
       "<style scoped>\n",
       "    .dataframe tbody tr th:only-of-type {\n",
       "        vertical-align: middle;\n",
       "    }\n",
       "\n",
       "    .dataframe tbody tr th {\n",
       "        vertical-align: top;\n",
       "    }\n",
       "\n",
       "    .dataframe thead th {\n",
       "        text-align: right;\n",
       "    }\n",
       "</style>\n",
       "<table border=\"1\" class=\"dataframe\">\n",
       "  <thead>\n",
       "    <tr style=\"text-align: right;\">\n",
       "      <th></th>\n",
       "      <th>Area</th>\n",
       "      <th>Perimeter</th>\n",
       "      <th>MajorAxisLength</th>\n",
       "      <th>MinorAxisLength</th>\n",
       "      <th>AspectRation</th>\n",
       "      <th>Eccentricity</th>\n",
       "      <th>ConvexArea</th>\n",
       "      <th>EquivDiameter</th>\n",
       "      <th>Extent</th>\n",
       "      <th>Solidity</th>\n",
       "      <th>roundness</th>\n",
       "      <th>Compactness</th>\n",
       "      <th>ShapeFactor1</th>\n",
       "      <th>ShapeFactor2</th>\n",
       "      <th>ShapeFactor3</th>\n",
       "      <th>ShapeFactor4</th>\n",
       "      <th>Class</th>\n",
       "    </tr>\n",
       "  </thead>\n",
       "  <tbody>\n",
       "    <tr>\n",
       "      <th>0</th>\n",
       "      <td>254616</td>\n",
       "      <td>1985.370</td>\n",
       "      <td>738.860153</td>\n",
       "      <td>447.418329</td>\n",
       "      <td>1.651386</td>\n",
       "      <td>0.795806</td>\n",
       "      <td>263261</td>\n",
       "      <td>569.374358</td>\n",
       "      <td>0.783747</td>\n",
       "      <td>0.967162</td>\n",
       "      <td>0.811732</td>\n",
       "      <td>0.770612</td>\n",
       "      <td>0.002902</td>\n",
       "      <td>0.000631</td>\n",
       "      <td>0.593843</td>\n",
       "      <td>0.980663</td>\n",
       "      <td>BOMBAY</td>\n",
       "    </tr>\n",
       "    <tr>\n",
       "      <th>1</th>\n",
       "      <td>237270</td>\n",
       "      <td>1921.685</td>\n",
       "      <td>738.144502</td>\n",
       "      <td>412.921647</td>\n",
       "      <td>1.787614</td>\n",
       "      <td>0.828895</td>\n",
       "      <td>240671</td>\n",
       "      <td>549.637650</td>\n",
       "      <td>0.784115</td>\n",
       "      <td>0.985869</td>\n",
       "      <td>0.807399</td>\n",
       "      <td>0.744621</td>\n",
       "      <td>0.003111</td>\n",
       "      <td>0.000590</td>\n",
       "      <td>0.554460</td>\n",
       "      <td>0.991160</td>\n",
       "      <td>BOMBAY</td>\n",
       "    </tr>\n",
       "    <tr>\n",
       "      <th>2</th>\n",
       "      <td>251432</td>\n",
       "      <td>1919.868</td>\n",
       "      <td>719.125690</td>\n",
       "      <td>450.926187</td>\n",
       "      <td>1.594775</td>\n",
       "      <td>0.778981</td>\n",
       "      <td>257425</td>\n",
       "      <td>565.803115</td>\n",
       "      <td>0.766776</td>\n",
       "      <td>0.976719</td>\n",
       "      <td>0.857211</td>\n",
       "      <td>0.786793</td>\n",
       "      <td>0.002860</td>\n",
       "      <td>0.000676</td>\n",
       "      <td>0.619043</td>\n",
       "      <td>0.987235</td>\n",
       "      <td>BOMBAY</td>\n",
       "    </tr>\n",
       "    <tr>\n",
       "      <th>3</th>\n",
       "      <td>241322</td>\n",
       "      <td>1895.940</td>\n",
       "      <td>726.373493</td>\n",
       "      <td>427.370120</td>\n",
       "      <td>1.699636</td>\n",
       "      <td>0.808598</td>\n",
       "      <td>244319</td>\n",
       "      <td>554.311026</td>\n",
       "      <td>0.820823</td>\n",
       "      <td>0.987733</td>\n",
       "      <td>0.843641</td>\n",
       "      <td>0.763121</td>\n",
       "      <td>0.003010</td>\n",
       "      <td>0.000630</td>\n",
       "      <td>0.582354</td>\n",
       "      <td>0.989790</td>\n",
       "      <td>BOMBAY</td>\n",
       "    </tr>\n",
       "    <tr>\n",
       "      <th>4</th>\n",
       "      <td>248424</td>\n",
       "      <td>1884.557</td>\n",
       "      <td>715.053040</td>\n",
       "      <td>446.043618</td>\n",
       "      <td>1.603101</td>\n",
       "      <td>0.781591</td>\n",
       "      <td>251082</td>\n",
       "      <td>562.408446</td>\n",
       "      <td>0.807536</td>\n",
       "      <td>0.989414</td>\n",
       "      <td>0.878992</td>\n",
       "      <td>0.786527</td>\n",
       "      <td>0.002878</td>\n",
       "      <td>0.000679</td>\n",
       "      <td>0.618625</td>\n",
       "      <td>0.991718</td>\n",
       "      <td>BOMBAY</td>\n",
       "    </tr>\n",
       "    <tr>\n",
       "      <th>5</th>\n",
       "      <td>234898</td>\n",
       "      <td>1869.885</td>\n",
       "      <td>695.137630</td>\n",
       "      <td>432.589420</td>\n",
       "      <td>1.606922</td>\n",
       "      <td>0.782773</td>\n",
       "      <td>238265</td>\n",
       "      <td>546.883372</td>\n",
       "      <td>0.799468</td>\n",
       "      <td>0.985869</td>\n",
       "      <td>0.844227</td>\n",
       "      <td>0.786727</td>\n",
       "      <td>0.002959</td>\n",
       "      <td>0.000699</td>\n",
       "      <td>0.618939</td>\n",
       "      <td>0.994587</td>\n",
       "      <td>BOMBAY</td>\n",
       "    </tr>\n",
       "    <tr>\n",
       "      <th>6</th>\n",
       "      <td>213022</td>\n",
       "      <td>1849.699</td>\n",
       "      <td>721.216098</td>\n",
       "      <td>384.377969</td>\n",
       "      <td>1.876320</td>\n",
       "      <td>0.846142</td>\n",
       "      <td>218065</td>\n",
       "      <td>520.795578</td>\n",
       "      <td>0.737514</td>\n",
       "      <td>0.976874</td>\n",
       "      <td>0.782406</td>\n",
       "      <td>0.722108</td>\n",
       "      <td>0.003386</td>\n",
       "      <td>0.000568</td>\n",
       "      <td>0.521439</td>\n",
       "      <td>0.978387</td>\n",
       "      <td>BOMBAY</td>\n",
       "    </tr>\n",
       "    <tr>\n",
       "      <th>7</th>\n",
       "      <td>233751</td>\n",
       "      <td>1849.371</td>\n",
       "      <td>706.993076</td>\n",
       "      <td>423.527988</td>\n",
       "      <td>1.669295</td>\n",
       "      <td>0.800708</td>\n",
       "      <td>237344</td>\n",
       "      <td>545.546530</td>\n",
       "      <td>0.819205</td>\n",
       "      <td>0.984862</td>\n",
       "      <td>0.858846</td>\n",
       "      <td>0.771643</td>\n",
       "      <td>0.003025</td>\n",
       "      <td>0.000661</td>\n",
       "      <td>0.595434</td>\n",
       "      <td>0.993954</td>\n",
       "      <td>BOMBAY</td>\n",
       "    </tr>\n",
       "    <tr>\n",
       "      <th>8</th>\n",
       "      <td>222737</td>\n",
       "      <td>1847.940</td>\n",
       "      <td>722.494068</td>\n",
       "      <td>396.696971</td>\n",
       "      <td>1.821274</td>\n",
       "      <td>0.835779</td>\n",
       "      <td>225516</td>\n",
       "      <td>532.538784</td>\n",
       "      <td>0.836552</td>\n",
       "      <td>0.987677</td>\n",
       "      <td>0.819646</td>\n",
       "      <td>0.737084</td>\n",
       "      <td>0.003244</td>\n",
       "      <td>0.000591</td>\n",
       "      <td>0.543293</td>\n",
       "      <td>0.989485</td>\n",
       "      <td>BOMBAY</td>\n",
       "    </tr>\n",
       "    <tr>\n",
       "      <th>9</th>\n",
       "      <td>218983</td>\n",
       "      <td>1845.855</td>\n",
       "      <td>713.967282</td>\n",
       "      <td>394.053816</td>\n",
       "      <td>1.811852</td>\n",
       "      <td>0.833896</td>\n",
       "      <td>222086</td>\n",
       "      <td>528.032021</td>\n",
       "      <td>0.745626</td>\n",
       "      <td>0.986028</td>\n",
       "      <td>0.807654</td>\n",
       "      <td>0.739575</td>\n",
       "      <td>0.003260</td>\n",
       "      <td>0.000602</td>\n",
       "      <td>0.546970</td>\n",
       "      <td>0.991030</td>\n",
       "      <td>BOMBAY</td>\n",
       "    </tr>\n",
       "  </tbody>\n",
       "</table>\n",
       "</div>"
      ],
      "text/plain": [
       "     Area  Perimeter  MajorAxisLength  MinorAxisLength  AspectRation  \\\n",
       "0  254616   1985.370       738.860153       447.418329      1.651386   \n",
       "1  237270   1921.685       738.144502       412.921647      1.787614   \n",
       "2  251432   1919.868       719.125690       450.926187      1.594775   \n",
       "3  241322   1895.940       726.373493       427.370120      1.699636   \n",
       "4  248424   1884.557       715.053040       446.043618      1.603101   \n",
       "5  234898   1869.885       695.137630       432.589420      1.606922   \n",
       "6  213022   1849.699       721.216098       384.377969      1.876320   \n",
       "7  233751   1849.371       706.993076       423.527988      1.669295   \n",
       "8  222737   1847.940       722.494068       396.696971      1.821274   \n",
       "9  218983   1845.855       713.967282       394.053816      1.811852   \n",
       "\n",
       "   Eccentricity  ConvexArea  EquivDiameter    Extent  Solidity  roundness  \\\n",
       "0      0.795806      263261     569.374358  0.783747  0.967162   0.811732   \n",
       "1      0.828895      240671     549.637650  0.784115  0.985869   0.807399   \n",
       "2      0.778981      257425     565.803115  0.766776  0.976719   0.857211   \n",
       "3      0.808598      244319     554.311026  0.820823  0.987733   0.843641   \n",
       "4      0.781591      251082     562.408446  0.807536  0.989414   0.878992   \n",
       "5      0.782773      238265     546.883372  0.799468  0.985869   0.844227   \n",
       "6      0.846142      218065     520.795578  0.737514  0.976874   0.782406   \n",
       "7      0.800708      237344     545.546530  0.819205  0.984862   0.858846   \n",
       "8      0.835779      225516     532.538784  0.836552  0.987677   0.819646   \n",
       "9      0.833896      222086     528.032021  0.745626  0.986028   0.807654   \n",
       "\n",
       "   Compactness  ShapeFactor1  ShapeFactor2  ShapeFactor3  ShapeFactor4   Class  \n",
       "0     0.770612      0.002902      0.000631      0.593843      0.980663  BOMBAY  \n",
       "1     0.744621      0.003111      0.000590      0.554460      0.991160  BOMBAY  \n",
       "2     0.786793      0.002860      0.000676      0.619043      0.987235  BOMBAY  \n",
       "3     0.763121      0.003010      0.000630      0.582354      0.989790  BOMBAY  \n",
       "4     0.786527      0.002878      0.000679      0.618625      0.991718  BOMBAY  \n",
       "5     0.786727      0.002959      0.000699      0.618939      0.994587  BOMBAY  \n",
       "6     0.722108      0.003386      0.000568      0.521439      0.978387  BOMBAY  \n",
       "7     0.771643      0.003025      0.000661      0.595434      0.993954  BOMBAY  \n",
       "8     0.737084      0.003244      0.000591      0.543293      0.989485  BOMBAY  \n",
       "9     0.739575      0.003260      0.000602      0.546970      0.991030  BOMBAY  "
      ]
     },
     "execution_count": 96,
     "metadata": {},
     "output_type": "execute_result"
    }
   ],
   "source": [
    "df.head(10)"
   ]
  },
  {
   "cell_type": "markdown",
   "metadata": {
    "id": "LsHUg-IBzGSe"
   },
   "source": [
    "### **COMPLEMENTAR COM MEDIANA OS DADOS AUSENTES E CARRREGAR O MAPA**. OBS: a base não possui dados ausentes."
   ]
  },
  {
   "cell_type": "code",
   "execution_count": 97,
   "metadata": {
    "colab": {
     "base_uri": "https://localhost:8080/",
     "height": 433
    },
    "executionInfo": {
     "elapsed": 1431,
     "status": "ok",
     "timestamp": 1648558767833,
     "user": {
      "displayName": "FABIANA SILVA DE OLIVEIRA",
      "userId": "12187732007460211533"
     },
     "user_tz": 180
    },
    "id": "0qS0vwpvwm9l",
    "outputId": "c71eeed6-6bc6-48a7-888a-12735b14ea4c"
   },
   "outputs": [
    {
     "data": {
      "text/plain": [
       "<AxesSubplot:>"
      ]
     },
     "execution_count": 97,
     "metadata": {},
     "output_type": "execute_result"
    },
    {
     "data": {
      "image/png": "[encoded data removed]",
      "text/plain": [
       "<Figure size 576x396 with 2 Axes>"
      ]
     },
     "metadata": {},
     "output_type": "display_data"
    }
   ],
   "source": [
    "sns.heatmap(df.isna())"
   ]
  },
  {
   "cell_type": "markdown",
   "metadata": {
    "id": "dYZO0WJkzql8"
   },
   "source": [
    "### **GRAFICO DE BARRAS COM TIPOS DE \"FEIJÃO SECO\" POR QUANTIDADES**. OBS: o atrituto de contagem é o 'MajorAxisLength' quanto ao comprimento do feijão"
   ]
  },
  {
   "cell_type": "code",
   "execution_count": 100,
   "metadata": {
    "id": "f8gez9tJww51"
   },
   "outputs": [],
   "source": [
    "df = df[df['MajorAxisLength'] > 100]\n",
    "df = df[df['MajorAxisLength'] < 739]"
   ]
  },
  {
   "cell_type": "code",
   "execution_count": 101,
   "metadata": {
    "colab": {
     "base_uri": "https://localhost:8080/",
     "height": 378
    },
    "executionInfo": {
     "elapsed": 636,
     "status": "ok",
     "timestamp": 1648559295197,
     "user": {
      "displayName": "FABIANA SILVA DE OLIVEIRA",
      "userId": "12187732007460211533"
     },
     "user_tz": 180
    },
    "id": "F3J82GBMymkX",
    "outputId": "b8a6ef71-6fa2-4690-e8ec-e0f192997741"
   },
   "outputs": [
    {
     "data": {
      "text/plain": [
       "<AxesSubplot:xlabel='Class', ylabel='count'>"
      ]
     },
     "execution_count": 101,
     "metadata": {},
     "output_type": "execute_result"
    },
    {
     "data": {
      "image/png": "[encoded data removed]",
      "text/plain": [
       "<Figure size 576x396 with 1 Axes>"
      ]
     },
     "metadata": {},
     "output_type": "display_data"
    }
   ],
   "source": [
    "sns.countplot(x='Class',data=df)"
   ]
  },
  {
   "cell_type": "markdown",
   "metadata": {
    "id": "_AQmzorr0wcQ"
   },
   "source": [
    "### **SELECIONAR VARIAVEIS DE ENTRADA E SAÍDA**"
   ]
  },
  {
   "cell_type": "code",
   "execution_count": 102,
   "metadata": {
    "id": "MkeRwFJf1HCB"
   },
   "outputs": [],
   "source": [
    "X = df.drop(columns='Class')\n",
    "y = df['Class']"
   ]
  },
  {
   "cell_type": "markdown",
   "metadata": {
    "id": "x2iIAcqK1XPk"
   },
   "source": [
    "### **DEFINIÇÃO DOS DADOS DE TREINO E TESTE**. Tamanho dos dados de 70% "
   ]
  },
  {
   "cell_type": "code",
   "execution_count": 103,
   "metadata": {
    "id": "NlqnVCEK1n-z"
   },
   "outputs": [],
   "source": [
    "X_train, X_test, y_train, y_test = train_test_split(X, y, test_size=0.7)"
   ]
  },
  {
   "cell_type": "markdown",
   "metadata": {
    "id": "gxidFJ6e1wcj"
   },
   "source": [
    "### **ÁRVORE DA DECISÃO**. Parâmetros..."
   ]
  },
  {
   "cell_type": "code",
   "execution_count": 104,
   "metadata": {
    "colab": {
     "base_uri": "https://localhost:8080/"
    },
    "executionInfo": {
     "elapsed": 593,
     "status": "ok",
     "timestamp": 1648590544874,
     "user": {
      "displayName": "FABIANA SILVA DE OLIVEIRA",
      "userId": "12187732007460211533"
     },
     "user_tz": 180
    },
    "id": "1uD51yiK1tMK",
    "outputId": "448e481b-ce1c-48e5-8418-d4892a37bbf4"
   },
   "outputs": [
    {
     "name": "stdout",
     "output_type": "stream",
     "text": [
      "              precision    recall  f1-score   support\n",
      "\n",
      "    BARBUNYA       0.88      0.78      0.83       943\n",
      "      BOMBAY       1.00      0.99      1.00       374\n",
      "        CALI       0.84      0.93      0.88      1151\n",
      "    DERMASON       0.95      0.83      0.88      2495\n",
      "       HOROZ       0.95      0.93      0.94      1347\n",
      "       SEKER       0.93      0.93      0.93      1401\n",
      "        SIRA       0.77      0.91      0.83      1817\n",
      "\n",
      "    accuracy                           0.89      9528\n",
      "   macro avg       0.90      0.90      0.90      9528\n",
      "weighted avg       0.89      0.89      0.89      9528\n",
      "\n"
     ]
    }
   ],
   "source": [
    "# Criando modelo e treinando com os dados de treino\n",
    "dtc = DecisionTreeClassifier(criterion='entropy', max_depth=5)\n",
    "dtc = dtc.fit(X_train, y_train)\n",
    "# Fazendo a predição nos dados de treino\n",
    "resultado_dtc = dtc.predict(X_test)\n",
    "print(classification_report(y_test, resultado_dtc))"
   ]
  },
  {
   "cell_type": "markdown",
   "metadata": {
    "id": "mwDWKinI2q12"
   },
   "source": [
    "### ***** **(?) MATRIZ DE CONFUSÃO**. Correlaciona classes e previsões ( a exemplo de falso - positivo / faso negativo  - Verdadeiro - positivo / Verdadeiro - Negativo)"
   ]
  },
  {
   "cell_type": "code",
   "execution_count": 105,
   "metadata": {
    "colab": {
     "base_uri": "https://localhost:8080/",
     "height": 393
    },
    "executionInfo": {
     "elapsed": 680,
     "status": "ok",
     "timestamp": 1648563063211,
     "user": {
      "displayName": "FABIANA SILVA DE OLIVEIRA",
      "userId": "12187732007460211533"
     },
     "user_tz": 180
    },
    "id": "mB1E3wYR2xBd",
    "outputId": "666a74d4-8909-4bfd-a4fc-6c6edf68c246"
   },
   "outputs": [
    {
     "name": "stderr",
     "output_type": "stream",
     "text": [
      "C:\\Users\\laris\\AppData\\Local\\Temp\\ipykernel_28528\\134994862.py:7: UserWarning: FixedFormatter should only be used together with FixedLocator\n",
      "  ax.xaxis.set_ticklabels(labels);\n",
      "C:\\Users\\laris\\AppData\\Local\\Temp\\ipykernel_28528\\134994862.py:8: UserWarning: FixedFormatter should only be used together with FixedLocator\n",
      "  ax.yaxis.set_ticklabels(labels);\n"
     ]
    },
    {
     "data": {
      "text/plain": [
       "<AxesSubplot:title={'center':'Matriz de confusão'}, xlabel='Predição', ylabel='Valores verdadeiros'>"
      ]
     },
     "execution_count": 105,
     "metadata": {},
     "output_type": "execute_result"
    },
    {
     "data": {
      "image/png": "[encoded data removed]",
      "text/plain": [
       "<Figure size 576x396 with 2 Axes>"
      ]
     },
     "metadata": {},
     "output_type": "display_data"
    }
   ],
   "source": [
    "ax= pl.subplot()\n",
    "labels = ['Seker','Barbunya','Bombayer','Cali','Horoz','Sira','Dermason']\n",
    "confusion_matrix = pd.crosstab(y_test, resultado_dtc, rownames=['Valores verdadeiros'], colnames=['Predição'])\n",
    "\n",
    "# Customização\n",
    "ax.set_title('Matriz de confusão');\n",
    "ax.xaxis.set_ticklabels(labels); \n",
    "ax.yaxis.set_ticklabels(labels);\n",
    "\n",
    "sns.heatmap(confusion_matrix, annot=True, fmt=\"d\")"
   ]
  },
  {
   "cell_type": "code",
   "execution_count": 114,
   "metadata": {
    "colab": {
     "base_uri": "https://localhost:8080/",
     "height": 936
    },
    "executionInfo": {
     "elapsed": 298,
     "status": "ok",
     "timestamp": 1648590572117,
     "user": {
      "displayName": "FABIANA SILVA DE OLIVEIRA",
      "userId": "12187732007460211533"
     },
     "user_tz": 180
    },
    "id": "3Zbm4KOq-bMN",
    "outputId": "a2c18c24-0589-43bd-ab62-51dba235429c"
   },
   "outputs": [
    {
     "ename": "NameError",
     "evalue": "name 'graphviz' is not defined",
     "output_type": "error",
     "traceback": [
      "\u001b[1;31m---------------------------------------------------------------------------\u001b[0m",
      "\u001b[1;31mNameError\u001b[0m                                 Traceback (most recent call last)",
      "Input \u001b[1;32mIn [114]\u001b[0m, in \u001b[0;36m<cell line: 8>\u001b[1;34m()\u001b[0m\n\u001b[0;32m      1\u001b[0m dot_data \u001b[38;5;241m=\u001b[39m tree\u001b[38;5;241m.\u001b[39mexport_graphviz(dtc, out_file\u001b[38;5;241m=\u001b[39m\u001b[38;5;28;01mNone\u001b[39;00m, \n\u001b[0;32m      2\u001b[0m                     feature_names\u001b[38;5;241m=\u001b[39mX\u001b[38;5;241m.\u001b[39mcolumns,  \n\u001b[0;32m      3\u001b[0m                      class_names\u001b[38;5;241m=\u001b[39m[\u001b[38;5;124m'\u001b[39m\u001b[38;5;124mSeker\u001b[39m\u001b[38;5;124m'\u001b[39m,\u001b[38;5;124m'\u001b[39m\u001b[38;5;124mBarbunya\u001b[39m\u001b[38;5;124m'\u001b[39m,\u001b[38;5;124m'\u001b[39m\u001b[38;5;124mBombayer\u001b[39m\u001b[38;5;124m'\u001b[39m,\u001b[38;5;124m'\u001b[39m\u001b[38;5;124mCali\u001b[39m\u001b[38;5;124m'\u001b[39m,\u001b[38;5;124m'\u001b[39m\u001b[38;5;124mHoroz\u001b[39m\u001b[38;5;124m'\u001b[39m,\u001b[38;5;124m'\u001b[39m\u001b[38;5;124mSira\u001b[39m\u001b[38;5;124m'\u001b[39m,\u001b[38;5;124m'\u001b[39m\u001b[38;5;124mDermason\u001b[39m\u001b[38;5;124m'\u001b[39m],  \n\u001b[1;32m   (...)\u001b[0m\n\u001b[0;32m      6\u001b[0m                     \u001b[38;5;66;03m#  max_depth=2\u001b[39;00m\n\u001b[0;32m      7\u001b[0m                      )  \n\u001b[1;32m----> 8\u001b[0m graph \u001b[38;5;241m=\u001b[39m \u001b[43mgraphviz\u001b[49m\u001b[38;5;241m.\u001b[39mSource(dot_data)  \n\u001b[0;32m      9\u001b[0m graph\n",
      "\u001b[1;31mNameError\u001b[0m: name 'graphviz' is not defined"
     ]
    }
   ],
   "source": [
    "dot_data = tree.export_graphviz(dtc, out_file=None, \n",
    "                    feature_names=X.columns,  \n",
    "                     class_names=['Seker','Barbunya','Bombayer','Cali','Horoz','Sira','Dermason'],  \n",
    "                     filled=True, rounded=True,  \n",
    "                     special_characters=True,\n",
    "                    #  max_depth=2\n",
    "                     )  \n",
    "graph = graphviz.Source(dot_data)  \n",
    "graph"
   ]
  },
  {
   "cell_type": "markdown",
   "metadata": {
    "id": "kq2EBuEW9uBB"
   },
   "source": [
    "### **CLUSTERIZAÇÃO** OBS: Remover a Classificação  considerando atributos numericos especificados"
   ]
  },
  {
   "cell_type": "code",
   "execution_count": 115,
   "metadata": {
    "colab": {
     "base_uri": "https://localhost:8080/",
     "height": 207
    },
    "executionInfo": {
     "elapsed": 293,
     "status": "error",
     "timestamp": 1648599648765,
     "user": {
      "displayName": "FABIANA SILVA DE OLIVEIRA",
      "userId": "12187732007460211533"
     },
     "user_tz": 180
    },
    "id": "HfKB07CRJuIQ",
    "outputId": "083a0f69-687b-406d-a78a-7711b0e8051c"
   },
   "outputs": [],
   "source": [
    "#Remove a Severidade, pois ela é a classe e não \n",
    "# queremos dar essa informação na clusterização\n",
    "x = df.drop(columns='Class').values"
   ]
  },
  {
   "cell_type": "code",
   "execution_count": 116,
   "metadata": {
    "colab": {
     "base_uri": "https://localhost:8080/",
     "height": 244
    },
    "executionInfo": {
     "elapsed": 286,
     "status": "error",
     "timestamp": 1648599698765,
     "user": {
      "displayName": "FABIANA SILVA DE OLIVEIRA",
      "userId": "12187732007460211533"
     },
     "user_tz": 180
    },
    "id": "FnVNBcatJyRT",
    "outputId": "0107052b-ccac-4f31-e6f2-c17f7b13b9ec"
   },
   "outputs": [
    {
     "data": {
      "text/plain": [
       "array([[4.51222401e+04, 8.03476375e+02, 3.01815639e+02, 1.92120145e+02,\n",
       "        1.58669244e+00, 7.48845158e-01, 4.56696195e+04, 2.39454311e+02,\n",
       "        7.45522579e-01, 9.88092675e-01, 8.80533061e-01, 8.00231260e-01,\n",
       "        6.69167396e-03, 1.72624470e-03, 6.44665933e-01, 9.95602174e-01],\n",
       "       [1.73798960e+05, 1.58732354e+03, 5.93973652e+02, 3.74562013e+02,\n",
       "        1.58699096e+00, 7.71189135e-01, 1.76132775e+05, 4.69400922e+02,\n",
       "        7.76680437e-01, 9.86889505e-01, 8.64223305e-01, 7.92205212e-01,\n",
       "        3.44012711e-03, 8.41638103e-04, 6.28505044e-01, 9.91818714e-01],\n",
       "       [7.95838901e+04, 1.10039493e+03, 4.13628567e+02, 2.46907518e+02,\n",
       "        1.68114112e+00, 7.97314333e-01, 8.08551548e+04, 3.18007344e+02,\n",
       "        7.55450834e-01, 9.84281039e-01, 8.25913595e-01, 7.70431938e-01,\n",
       "        5.21660721e-03, 1.13903534e-03, 5.94795901e-01, 9.92133520e-01],\n",
       "       [3.27252648e+04, 6.69065194e+02, 2.43828757e+02, 1.71124892e+02,\n",
       "        1.43512919e+00, 6.99859876e-01, 3.31026536e+04, 2.03678624e+02,\n",
       "        7.57593985e-01, 9.88509468e-01, 9.15468137e-01, 8.37124316e-01,\n",
       "        7.52943813e-03, 2.28667293e-03, 7.02850559e-01, 9.97142179e-01],\n",
       "       [6.18357060e+04, 9.78447804e+02, 3.76136602e+02, 2.11498961e+02,\n",
       "        1.79933305e+00, 8.17725886e-01, 6.28009050e+04, 2.80344592e+02,\n",
       "        7.31747531e-01, 9.84701973e-01, 8.11797349e-01, 7.48258802e-01,\n",
       "        6.11707731e-03, 1.19022763e-03, 5.62726136e-01, 9.92774160e-01]])"
      ]
     },
     "execution_count": 116,
     "metadata": {},
     "output_type": "execute_result"
    }
   ],
   "source": [
    "#Testa a primeira modelagem com o número de clusters = 5\n",
    "kmeans5 = KMeans(n_clusters=5)\n",
    "y_kmeans5 = kmeans5.fit_predict(x)\n",
    "\n",
    "kmeans5.cluster_centers_"
   ]
  },
  {
   "cell_type": "code",
   "execution_count": 117,
   "metadata": {
    "colab": {
     "base_uri": "https://localhost:8080/",
     "height": 226
    },
    "executionInfo": {
     "elapsed": 287,
     "status": "error",
     "timestamp": 1648599678756,
     "user": {
      "displayName": "FABIANA SILVA DE OLIVEIRA",
      "userId": "12187732007460211533"
     },
     "user_tz": 180
    },
    "id": "8WXaeUhzJ6vx",
    "outputId": "b1243c56-489c-43f7-b05c-f7f8c4f8ae56"
   },
   "outputs": [
    {
     "ename": "NameError",
     "evalue": "name 'y_kmeans' is not defined",
     "output_type": "error",
     "traceback": [
      "\u001b[1;31m---------------------------------------------------------------------------\u001b[0m",
      "\u001b[1;31mNameError\u001b[0m                                 Traceback (most recent call last)",
      "Input \u001b[1;32mIn [117]\u001b[0m, in \u001b[0;36m<cell line: 1>\u001b[1;34m()\u001b[0m\n\u001b[1;32m----> 1\u001b[0m plt\u001b[38;5;241m.\u001b[39mscatter(x[:, \u001b[38;5;241m0\u001b[39m], x[:, \u001b[38;5;241m1\u001b[39m], c\u001b[38;5;241m=\u001b[39m\u001b[43my_kmeans\u001b[49m, cmap\u001b[38;5;241m=\u001b[39m\u001b[38;5;124m'\u001b[39m\u001b[38;5;124mrainbow\u001b[39m\u001b[38;5;124m'\u001b[39m)\n\u001b[0;32m      2\u001b[0m plt\u001b[38;5;241m.\u001b[39mtitle(\u001b[38;5;124m'\u001b[39m\u001b[38;5;124mClusters (k=5)\u001b[39m\u001b[38;5;124m'\u001b[39m)\n\u001b[0;32m      3\u001b[0m plt\u001b[38;5;241m.\u001b[39mxlabel(\u001b[38;5;124m'\u001b[39m\u001b[38;5;124mArea\u001b[39m\u001b[38;5;124m'\u001b[39m)\n",
      "\u001b[1;31mNameError\u001b[0m: name 'y_kmeans' is not defined"
     ]
    }
   ],
   "source": [
    "plt.scatter(x[:, 0], x[:, 1], c=y_kmeans, cmap='rainbow')\n",
    "plt.title('Clusters (k=5)')\n",
    "plt.xlabel('Area')\n",
    "plt.ylabel('MajorAxisLength')"
   ]
  },
  {
   "cell_type": "markdown",
   "metadata": {
    "id": "gMMS8gVjX2Gn"
   },
   "source": [
    "### **ELBOW** "
   ]
  },
  {
   "cell_type": "code",
   "execution_count": 118,
   "metadata": {
    "colab": {
     "base_uri": "https://localhost:8080/",
     "height": 395
    },
    "executionInfo": {
     "elapsed": 23091,
     "status": "ok",
     "timestamp": 1648589921882,
     "user": {
      "displayName": "FABIANA SILVA DE OLIVEIRA",
      "userId": "12187732007460211533"
     },
     "user_tz": 180
    },
    "id": "a-gI1dNYYIvD",
    "outputId": "94e8013d-a4d9-4a5a-fe80-c99f37909af8"
   },
   "outputs": [
    {
     "data": {
      "image/png": "[encoded data removed]",
      "text/plain": [
       "<Figure size 576x396 with 2 Axes>"
      ]
     },
     "metadata": {},
     "output_type": "display_data"
    },
    {
     "data": {
      "text/plain": [
       "<AxesSubplot:title={'center':'Silhouette Score Elbow for KMeans Clustering'}, xlabel='k', ylabel='silhouette score'>"
      ]
     },
     "execution_count": 118,
     "metadata": {},
     "output_type": "execute_result"
    }
   ],
   "source": [
    "#Visualiza o Elbow para achar o k ideal\n",
    "#silhouette calinski_harabasz\n",
    "visualizer = KElbowVisualizer(KMeans(), k=(2,9), timings=True, metric='silhouette')\n",
    "\n",
    "visualizer.fit(x)        # Fit the data to the visualizer\n",
    "visualizer.show()        # Finalize and render the figure"
   ]
  },
  {
   "cell_type": "markdown",
   "metadata": {
    "id": "UeCE4zoDYiSo"
   },
   "source": [
    "### **ÍNDICE DE SILHUETA**. Avalia um grupo de dados  / dispersão (coersão / separação)"
   ]
  },
  {
   "cell_type": "code",
   "execution_count": 119,
   "metadata": {
    "colab": {
     "base_uri": "https://localhost:8080/",
     "height": 244
    },
    "executionInfo": {
     "elapsed": 315,
     "status": "error",
     "timestamp": 1648596335338,
     "user": {
      "displayName": "FABIANA SILVA DE OLIVEIRA",
      "userId": "12187732007460211533"
     },
     "user_tz": 180
    },
    "id": "zmEz73VaY5Ph",
    "outputId": "24d17368-eedc-4b1a-cf84-262f6e277176"
   },
   "outputs": [
    {
     "data": {
      "text/plain": [
       "array([[4.11186513e+04, 7.56290676e+02, 2.77362067e+02, 1.90106159e+02,\n",
       "        1.47129364e+00, 7.07372280e-01, 4.15856450e+04, 2.28655062e+02,\n",
       "        7.55276253e-01, 9.88804656e-01, 9.04537462e-01, 8.29214962e-01,\n",
       "        6.75318082e-03, 1.99441715e-03, 6.90997496e-01, 9.96531448e-01],\n",
       "       [1.58100865e+05, 1.51061199e+03, 5.60876066e+02, 3.61467658e+02,\n",
       "        1.55381552e+00, 7.60222957e-01, 1.60104604e+05, 4.48313187e+02,\n",
       "        7.74875450e-01, 9.87531935e-01, 8.70088000e-01, 8.00794597e-01,\n",
       "        3.55500985e-03, 9.06147431e-04, 6.42120054e-01, 9.92639035e-01],\n",
       "       [6.82915884e+04, 1.02444448e+03, 3.86133055e+02, 2.27394930e+02,\n",
       "        1.71143223e+00, 8.00506258e-01, 6.93897233e+04, 2.94716268e+02,\n",
       "        7.46408716e-01, 9.84202145e-01, 8.18379261e-01, 7.65729134e-01,\n",
       "        5.67109683e-03, 1.20968456e-03, 5.88469111e-01, 9.92721542e-01],\n",
       "       [5.23729406e+04, 8.89998088e+02, 3.46538918e+02, 1.94556826e+02,\n",
       "        1.79924250e+00, 8.13769153e-01, 5.30964957e+04, 2.58056709e+02,\n",
       "        7.26491804e-01, 9.86463561e-01, 8.33230533e-01, 7.49923714e-01,\n",
       "        6.62304121e-03, 1.31376238e-03, 5.65964909e-01, 9.93743337e-01],\n",
       "       [3.08733841e+04, 6.50932295e+02, 2.38292008e+02, 1.65293644e+02,\n",
       "        1.44991806e+00, 7.09966007e-01, 3.12396989e+04, 1.97934067e+02,\n",
       "        7.56454342e-01, 9.88204979e-01, 9.13421452e-01, 8.32214918e-01,\n",
       "        7.77921589e-03, 2.30810735e-03, 6.94306297e-01, 9.97078043e-01],\n",
       "       [1.95500465e+05, 1.69323707e+03, 6.39643548e+02, 3.92683714e+02,\n",
       "        1.63246123e+00, 7.86177120e-01, 1.98292327e+05, 4.98532334e+02,\n",
       "        7.79176028e-01, 9.85991178e-01, 8.56212166e-01, 7.80448310e-01,\n",
       "        3.28119329e-03, 7.53097414e-04, 6.09876971e-01, 9.90699577e-01],\n",
       "       [8.34598543e+04, 1.12697140e+03, 4.24178974e+02, 2.52608911e+02,\n",
       "        1.68468339e+00, 7.98751927e-01, 8.47856508e+04, 3.25744795e+02,\n",
       "        7.55667597e-01, 9.84376246e-01, 8.26231532e-01, 7.69412539e-01,\n",
       "        5.09623970e-03, 1.10640761e-03, 5.93135473e-01, 9.92053857e-01]])"
      ]
     },
     "execution_count": 119,
     "metadata": {},
     "output_type": "execute_result"
    }
   ],
   "source": [
    "# Testa o kmeans com o k que o elbow indicou\n",
    "kmeans7 = KMeans(n_clusters=7)\n",
    "y_kmeans7 = kmeans7.fit_predict(x)\n",
    "\n",
    "kmeans7.cluster_centers_"
   ]
  },
  {
   "cell_type": "code",
   "execution_count": 120,
   "metadata": {
    "colab": {
     "base_uri": "https://localhost:8080/"
    },
    "executionInfo": {
     "elapsed": 244,
     "status": "ok",
     "timestamp": 1648596134220,
     "user": {
      "displayName": "FABIANA SILVA DE OLIVEIRA",
      "userId": "12187732007460211533"
     },
     "user_tz": 180
    },
    "id": "EMcZRImpZCbD",
    "outputId": "215c6b20-5214-42c9-f680-ce03d16e0ea3"
   },
   "outputs": [
    {
     "data": {
      "text/plain": [
       "array([5, 5, 5, ..., 4, 4, 4])"
      ]
     },
     "execution_count": 120,
     "metadata": {},
     "output_type": "execute_result"
    }
   ],
   "source": [
    "#Rótulos de cada ponto\n",
    "kmeans7.labels_"
   ]
  },
  {
   "cell_type": "code",
   "execution_count": 121,
   "metadata": {
    "colab": {
     "base_uri": "https://localhost:8080/",
     "height": 244
    },
    "executionInfo": {
     "elapsed": 304,
     "status": "error",
     "timestamp": 1648599854695,
     "user": {
      "displayName": "FABIANA SILVA DE OLIVEIRA",
      "userId": "12187732007460211533"
     },
     "user_tz": 180
    },
    "id": "h1JjVABqZoQ6",
    "outputId": "896edcbf-f048-40b5-8d55-45ead344c708"
   },
   "outputs": [
    {
     "data": {
      "text/plain": [
       "Text(0, 0.5, 'MajorAxisLength')"
      ]
     },
     "execution_count": 121,
     "metadata": {},
     "output_type": "execute_result"
    },
    {
     "data": {
      "image/png": "[encoded data removed]",
      "text/plain": [
       "<Figure size 576x396 with 1 Axes>"
      ]
     },
     "metadata": {},
     "output_type": "display_data"
    }
   ],
   "source": [
    "#Gráfico do k=5\n",
    "plt.scatter(x[:, 0], x[:, 1], c=y_kmeans5, cmap='rainbow')\n",
    "plt.title('Clusters (k=5)')\n",
    "plt.xlabel('Area')\n",
    "plt.ylabel('MajorAxisLength')"
   ]
  },
  {
   "cell_type": "markdown",
   "metadata": {
    "id": "VQSCOGhVaCSR"
   },
   "source": [
    "#### **SILHOUETTE_SCORE**. Compara o silhouette_score do kmeans com 5 e 2"
   ]
  },
  {
   "cell_type": "code",
   "execution_count": 122,
   "metadata": {
    "colab": {
     "base_uri": "https://localhost:8080/",
     "height": 171
    },
    "executionInfo": {
     "elapsed": 293,
     "status": "error",
     "timestamp": 1648599778908,
     "user": {
      "displayName": "FABIANA SILVA DE OLIVEIRA",
      "userId": "12187732007460211533"
     },
     "user_tz": 180
    },
    "id": "A_Fb4soHZ8yR",
    "outputId": "76a70ca2-2fae-4857-c270-bfd6dde972e7"
   },
   "outputs": [
    {
     "data": {
      "text/plain": [
       "0.5432572700891735"
      ]
     },
     "execution_count": 122,
     "metadata": {},
     "output_type": "execute_result"
    }
   ],
   "source": [
    "silhouette_score(x, labels=kmeans5.labels_, metric='euclidean')"
   ]
  },
  {
   "cell_type": "code",
   "execution_count": 126,
   "metadata": {
    "colab": {
     "base_uri": "https://localhost:8080/"
    },
    "executionInfo": {
     "elapsed": 4963,
     "status": "ok",
     "timestamp": 1648590044587,
     "user": {
      "displayName": "FABIANA SILVA DE OLIVEIRA",
      "userId": "12187732007460211533"
     },
     "user_tz": 180
    },
    "id": "8pLVr1PLadg4",
    "outputId": "cb2dfa82-b1d4-4684-9d25-29a0420c20e7"
   },
   "outputs": [
    {
     "data": {
      "text/plain": [
       "0.5331507479834844"
      ]
     },
     "execution_count": 126,
     "metadata": {},
     "output_type": "execute_result"
    }
   ],
   "source": [
    "silhouette_score(x, labels=kmeans7.labels_, metric='euclidean')"
   ]
  },
  {
   "cell_type": "code",
   "execution_count": null,
   "metadata": {},
   "outputs": [],
   "source": []
  }
 ],
 "metadata": {
  "colab": {
   "collapsed_sections": [],
   "provenance": [
    {
     "file_id": "1zrkIGmyWDBYHiRNURXLaw6VF7eVGcWRs",
     "timestamp": 1664308222705
    }
   ],
   "toc_visible": true
  },
  "kernelspec": {
   "display_name": "Python 3 (ipykernel)",
   "language": "python",
   "name": "python3"
  },
  "language_info": {
   "codemirror_mode": {
    "name": "ipython",
    "version": 3
   },
   "file_extension": ".py",
   "mimetype": "text/x-python",
   "name": "python",
   "nbconvert_exporter": "python",
   "pygments_lexer": "ipython3",
   "version": "3.9.12"
  }
 },
 "nbformat": 4,
 "nbformat_minor": 1
}
